{
 "cells": [
  {
   "cell_type": "markdown",
   "metadata": {},
   "source": [
    "# Workshop 02"
   ]
  },
  {
   "cell_type": "markdown",
   "metadata": {},
   "source": [
    "## Creazione di un bookcase realizzato convertendo mobilia Ikea in modelli PyPlasm"
   ]
  },
  {
   "cell_type": "markdown",
   "metadata": {},
   "source": [
    "## Import delle librerie"
   ]
  },
  {
   "cell_type": "code",
   "execution_count": 1,
   "metadata": {},
   "outputs": [
    {
     "name": "stdout",
     "output_type": "stream",
     "text": [
      "Evaluating fenvs.py..\n",
      "...fenvs.py imported in 0.00488236415694 seconds\n"
     ]
    }
   ],
   "source": [
    "from pyplasm import *\n",
    "from larlib import *"
   ]
  },
  {
   "cell_type": "markdown",
   "metadata": {},
   "source": [
    "## Scaffale GNEDBY"
   ]
  },
  {
   "cell_type": "markdown",
   "metadata": {},
   "source": [
    "* Foto catalogo Ikea"
   ]
  },
  {
   "cell_type": "markdown",
   "metadata": {},
   "source": [
    "![Mobiletto facile](mobile1.PNG)"
   ]
  },
  {
   "cell_type": "markdown",
   "metadata": {},
   "source": [
    "* PyPlasm"
   ]
  },
  {
   "cell_type": "code",
   "execution_count": 41,
   "metadata": {},
   "outputs": [
    {
     "data": {
      "text/plain": [
       "<pyplasm.xgepy.Hpc; proxy of <Swig Object of type 'std::shared_ptr< Hpc > *' at 0x000000000E85E120> >"
      ]
     },
     "execution_count": 41,
     "metadata": {},
     "output_type": "execute_result"
    }
   ],
   "source": [
    "scaffali = [.1,-1]*5\n",
    "\n",
    "piani1 = PROD([QUOTE([1.5]), QUOTE(scaffali)])\n",
    "piani2 = PROD([QUOTE([1]), piani1])\n",
    "##piani = INSR(PROD)(AA(QUOTE))([[3],[1],scaffali])\n",
    "##colonne = INSR(PROD)(AA(QUOTE))([[3],[.2,1,.2],[6.6]])\n",
    "colonne1 = PROD([QUOTE([1]), QUOTE([0.05,0.05,0.05])])\n",
    "colonne2 = PROD([colonne1, QUOTE([4.4])])\n",
    "\n",
    "VIEW(SKEL_1(STRUCT([piani2, STRUCT([colonne2, T(2)(1.35)(colonne2)])])))"
   ]
  },
  {
   "cell_type": "markdown",
   "metadata": {},
   "source": [
    "![Mobiletto 1 rifatto](mobilepy1.PNG)"
   ]
  },
  {
   "cell_type": "markdown",
   "metadata": {},
   "source": [
    "## Scaffale HEMNES"
   ]
  },
  {
   "cell_type": "markdown",
   "metadata": {},
   "source": [
    "* Foto catalogo Ikea"
   ]
  },
  {
   "cell_type": "markdown",
   "metadata": {},
   "source": [
    "![Mobiletto 2](mobile2.JPG)"
   ]
  },
  {
   "cell_type": "markdown",
   "metadata": {},
   "source": [
    "* PyPlasm"
   ]
  },
  {
   "cell_type": "code",
   "execution_count": 171,
   "metadata": {},
   "outputs": [
    {
     "data": {
      "text/plain": [
       "<pyplasm.xgepy.Hpc; proxy of <Swig Object of type 'std::shared_ptr< Hpc > *' at 0x000000000EB5BD20> >"
      ]
     },
     "execution_count": 171,
     "metadata": {},
     "output_type": "execute_result"
    }
   ],
   "source": [
    "scaffali2 = [-1,.2,-2,.2,-1,.1,-1,.1,-1,.2]\n",
    "\n",
    "piani3 = PROD([QUOTE([5]), QUOTE(scaffali2)])\n",
    "piani4 = PROD([QUOTE([1]), piani3])\n",
    "##piani = INSR(PROD)(AA(QUOTE))([[3],[1],scaffali])\n",
    "##colonne = INSR(PROD)(AA(QUOTE))([[3],[.2,1,.2],[6.6]])\n",
    "colonne3 = PROD([QUOTE([1]), QUOTE([0.05,0.05,0.05])])\n",
    "colonne4 = PROD([colonne3, QUOTE([3.4])])\n",
    "colonne5 = T(3)(3.2)(colonne4)\n",
    "colonne6 = T(2)(4.85)(colonne5)\n",
    "colonne7 = T(2)(-3.2)(colonne6)\n",
    "colonne8 = T(2)(-1.6)(colonne6)\n",
    "\n",
    "retro = T(3)(3.2)(PROD([QUOTE([0.2]), PROD([QUOTE([5]), QUOTE([3.6])]) ]))\n",
    "\n",
    "leg = [.2,-0.6,.2]\n",
    "zampeSx = (PROD([QUOTE(leg), PROD([QUOTE([0.2]), QUOTE([3.2])])]))\n",
    "zampeDx = T(2)(4.8)(zampeSx)\n",
    "\n",
    "mobile = (STRUCT([piani4, STRUCT([colonne7, STRUCT([colonne5, STRUCT([colonne6, STRUCT([colonne8, STRUCT([zampeSx, zampeDx])])])])])]))\n",
    "VIEW(COLOR(BROWN)(STRUCT([mobile, retro])))"
   ]
  },
  {
   "cell_type": "markdown",
   "metadata": {},
   "source": [
    "![Mobiletto 2](mobilepy2.PNG)"
   ]
  }
 ],
 "metadata": {
  "kernelspec": {
   "display_name": "Python 2",
   "language": "python",
   "name": "python2"
  },
  "language_info": {
   "codemirror_mode": {
    "name": "ipython",
    "version": 2
   },
   "file_extension": ".py",
   "mimetype": "text/x-python",
   "name": "python",
   "nbconvert_exporter": "python",
   "pygments_lexer": "ipython2",
   "version": "2.7.13"
  }
 },
 "nbformat": 4,
 "nbformat_minor": 2
}
