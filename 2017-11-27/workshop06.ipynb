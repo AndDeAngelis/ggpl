{
 "cells": [
  {
   "cell_type": "markdown",
   "metadata": {},
   "source": [
    "# Workshop 06"
   ]
  },
  {
   "cell_type": "markdown",
   "metadata": {},
   "source": [
    "## Realizzazione di una funzione per trasformare un file .lines in un grafo"
   ]
  },
  {
   "cell_type": "code",
   "execution_count": 1,
   "metadata": {},
   "outputs": [
    {
     "name": "stdout",
     "output_type": "stream",
     "text": [
      "Evaluating fenvs.py..\n",
      "...fenvs.py imported in 0.004813 seconds\n"
     ]
    }
   ],
   "source": [
    "import csv\n",
    "import math\n",
    "from larlib import *"
   ]
  },
  {
   "cell_type": "code",
   "execution_count": 6,
   "metadata": {},
   "outputs": [],
   "source": [
    "def linesToGraph(filePath):\n",
    "    with open(filePath, \"rb\") as file:\n",
    "\n",
    "        reader = csv.reader(file, delimiter=\",\")\n",
    "\n",
    "        keys = {}\n",
    "        nodi = []\n",
    "        archi = []\n",
    "\n",
    "        i = 0\n",
    "\n",
    "        for row in reader:\n",
    "            row0 = math.floor(float(row[0]) / 10) * 10\n",
    "            row1 = math.floor(float(row[1]) / 10) * 10\n",
    "            row2 = math.floor(float(row[2]) / 10) * 10\n",
    "            row3 = math.floor(float(row[3]) / 10) * 10\n",
    "\n",
    "            if not (row0, row1) in keys.keys():\n",
    "                keys[(row0, row1)] = i\n",
    "                nodi.append((row0, row1))\n",
    "                i = i + 1\n",
    "\n",
    "            if not (row2, row3) in keys.keys():\n",
    "                keys[(row2, row3)] = i\n",
    "                nodi.append((row2, row3))\n",
    "                i = i + 1\n",
    "\n",
    "            archi.append((keys[(row0, row1)], (keys[(row2, row3)])))\n",
    "\n",
    "    return (nodi, archi)"
   ]
  },
  {
   "cell_type": "code",
   "execution_count": null,
   "metadata": {},
   "outputs": [],
   "source": [
    "nodi, archi = linesToGraph('./planimetry/planimetry.lines')"
   ]
  },
  {
   "cell_type": "code",
   "execution_count": 11,
   "metadata": {},
   "outputs": [
    {
     "data": {
      "text/plain": [
       "<pyplasm.xgepy.Hpc; proxy of <Swig Object of type 'std::shared_ptr< Hpc > *' at 0x7f275e82d030> >"
      ]
     },
     "execution_count": 11,
     "metadata": {},
     "output_type": "execute_result"
    }
   ],
   "source": [
    "VIEW(MULTEXTRUDE(OFFSET([2, 2])(STRUCT(MKPOLS((nodi, archi)))))(30))"
   ]
  },
  {
   "cell_type": "markdown",
   "metadata": {},
   "source": [
    "![planimetria](../images/workshop05/plan_3.png)\n",
    "![planimetria](../images/workshop05/plan_4.png)\n",
    "![planimetria](../images/workshop05/plan_5.png)"
   ]
  }
 ],
 "metadata": {
  "kernelspec": {
   "display_name": "Python 2",
   "language": "python",
   "name": "python2"
  },
  "language_info": {
   "codemirror_mode": {
    "name": "ipython",
    "version": 2
   },
   "file_extension": ".py",
   "mimetype": "text/x-python",
   "name": "python",
   "nbconvert_exporter": "python",
   "pygments_lexer": "ipython2",
   "version": "2.7.14"
  }
 },
 "nbformat": 4,
 "nbformat_minor": 2
}
