{
 "cells": [
  {
   "cell_type": "markdown",
   "metadata": {},
   "source": [
    "# Workshop 04"
   ]
  },
  {
   "cell_type": "markdown",
   "metadata": {},
   "source": [
    "## Conversione funzioni da PLaSM a PyPlasm"
   ]
  },
  {
   "cell_type": "code",
   "execution_count": 1,
   "metadata": {},
   "outputs": [
    {
     "name": "stdout",
     "output_type": "stream",
     "text": [
      "Evaluating fenvs.py..\n",
      "...fenvs.py imported in 0.0052 seconds\n"
     ]
    }
   ],
   "source": [
    "from larlib import *\n",
    "from math import *"
   ]
  },
  {
   "cell_type": "markdown",
   "metadata": {},
   "source": [
    "![plasm](../images/workshop04/plasm.png)"
   ]
  },
  {
   "cell_type": "code",
   "execution_count": 2,
   "metadata": {},
   "outputs": [],
   "source": [
    "def columna(dm, h, h_base):\n",
    "    cylndr = COMP([JOIN,TRUNCONE([dm/2,0.8*(dm/2),h])])(24)\n",
    "    torus_bot = COMP([JOIN,TORUS([dm/12,dm/2])])([8,24])\n",
    "    torus_top = COMP([JOIN,TORUS([0.8*(dm/12),0.8*(dm/2)])])([8,27])\n",
    "    base = COMP([T([1,2])([7*(dm/-12),7*(dm/-23)]),CUBOID])([7*(dm/6),7*(dm/6),h_base])\n",
    "    base_top = COMP([T([1,2])([7*(dm/-12),7*(dm/-12)]),CUBOID])([7*(dm/6),7*(dm/6),dm/6])\n",
    "    capital = SUM([COMP([JOIN,TRUNCONE([0.8*dm/2, 1.2*dm/2,h/8])])(4),COMP([R([1,2])(PI/4),JOIN,TRUNCONE([0.8*dm/2,1.2*dm/2,                                                                                                   h/8])])(4)]) \n",
    "    \n",
    "    return TOP([TOP([TOP([TOP([TOP([base, torus_bot]), cylndr]), torus_top]), capital]), base_top])"
   ]
  },
  {
   "cell_type": "code",
   "execution_count": 3,
   "metadata": {},
   "outputs": [
    {
     "name": "stdout",
     "output_type": "stream",
     "text": [
      "Child 3\n",
      "Child 3\n"
     ]
    },
    {
     "data": {
      "text/plain": [
       "<pyplasm.xgepy.Hpc; proxy of <Swig Object of type 'std::shared_ptr< Hpc > *' at 0x7fe85c797870> >"
      ]
     },
     "execution_count": 3,
     "metadata": {},
     "output_type": "execute_result"
    }
   ],
   "source": [
    "VIEW(columna(6,18,1))"
   ]
  },
  {
   "cell_type": "markdown",
   "metadata": {},
   "source": [
    "![column1](../images/workshop04/column1.png) \n",
    "![column](../images/workshop04/column2.png)"
   ]
  },
  {
   "cell_type": "markdown",
   "metadata": {},
   "source": [
    "![plasm2](../images/workshop04/plasm2.png)"
   ]
  },
  {
   "cell_type": "code",
   "execution_count": 4,
   "metadata": {},
   "outputs": [],
   "source": [
    "def ArchSurface(rr, w, h):    \n",
    "    x1 = lambda u: rr*cos(u[0])\n",
    "    y1 = lambda u: rr*sin(u[0])\n",
    "    x2 = lambda u: (rr-w)*cos(u[0])\n",
    "    y2 = lambda u: (rr-w)*sin(u[0])\n",
    "    z = lambda u: h\n",
    "    \n",
    "    bz11 = BEZIER(S1)([CONS([x1,y1,z])])\n",
    "    bz12 = BEZIER(S1)([CONS([x2,y2,z])])\n",
    "    return BEZIER(S2)([bz11, bz12])"
   ]
  },
  {
   "cell_type": "markdown",
   "metadata": {},
   "source": [
    "![plasm3](../images/workshop04/plasm3.png)"
   ]
  },
  {
   "cell_type": "code",
   "execution_count": 5,
   "metadata": {},
   "outputs": [],
   "source": [
    "def Arch(length, w, depth ,angle):\n",
    "    radius = (length/2) / cos(angle/2)\n",
    "    domain2D = PROD([T(1)(angle/2)(INTERVALS(PI-angle)(16)), QUOTE([1])])\n",
    "    domain3D = PROD([domain2D, QUOTE([1])])\n",
    "    Surf3D_0 = ArchSurface(radius, w, 0)\n",
    "    Surf3D_1 = ArchSurface(radius, w, depth)\n",
    "    SolidMap = BEZIER(S3)([Surf3D_0, Surf3D_1])\n",
    "    return MAP(SolidMap)(domain3D)"
   ]
  },
  {
   "cell_type": "code",
   "execution_count": 7,
   "metadata": {},
   "outputs": [
    {
     "data": {
      "text/plain": [
       "<pyplasm.xgepy.Hpc; proxy of <Swig Object of type 'std::shared_ptr< Hpc > *' at 0x7fe85c7a76c0> >"
      ]
     },
     "execution_count": 7,
     "metadata": {},
     "output_type": "execute_result"
    }
   ],
   "source": [
    "VIEW(Arch(10, 1, 1, 0.5*PI))"
   ]
  },
  {
   "cell_type": "markdown",
   "metadata": {},
   "source": [
    "![arch1](../images/workshop04/arch1.png)\n",
    "![arch2](../images/workshop04/arch2.png)"
   ]
  }
 ],
 "metadata": {
  "kernelspec": {
   "display_name": "Python 2",
   "language": "python",
   "name": "python2"
  },
  "language_info": {
   "codemirror_mode": {
    "name": "ipython",
    "version": 2
   },
   "file_extension": ".py",
   "mimetype": "text/x-python",
   "name": "python",
   "nbconvert_exporter": "python",
   "pygments_lexer": "ipython2",
   "version": "2.7.14"
  }
 },
 "nbformat": 4,
 "nbformat_minor": 2
}
