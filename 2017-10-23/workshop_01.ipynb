{
 "cells": [
  {
   "cell_type": "markdown",
   "metadata": {},
   "source": [
    "# Workshop 1"
   ]
  },
  {
   "cell_type": "markdown",
   "metadata": {},
   "source": [
    "## Conversione da FL a PyPlasm di alcuni script dal capitolo 1 e 2 del libro"
   ]
  },
  {
   "cell_type": "markdown",
   "metadata": {},
   "source": [
    "## Import delle librerie di PyPlasm"
   ]
  },
  {
   "cell_type": "code",
   "execution_count": 1,
   "metadata": {
    "scrolled": true
   },
   "outputs": [
    {
     "name": "stdout",
     "output_type": "stream",
     "text": [
      "Evaluating fenvs.py..\n",
      "...fenvs.py imported in 0.00632796712773 seconds\n"
     ]
    }
   ],
   "source": [
    "from pyplasm import *\n",
    "from larlib import *"
   ]
  },
  {
   "cell_type": "markdown",
   "metadata": {},
   "source": [
    "## Script 1.2.1"
   ]
  },
  {
   "cell_type": "markdown",
   "metadata": {},
   "source": [
    "La funzione fun1 riceve in input un numero, calcola il seno ed il coseno di tale numero, e restituisce in output il prodotto di questi due valori"
   ]
  },
  {
   "cell_type": "markdown",
   "metadata": {},
   "source": [
    "* FL"
   ]
  },
  {
   "cell_type": "raw",
   "metadata": {},
   "source": [
    "(plasm \"\n",
    "    LOAD:'script1.psm;\n",
    "    DEF fun1 (a::Isreal) = (SIN * COS):a;\n",
    "    fun1:(PI/6) + fun1:(PI/4)\n",
    "\")"
   ]
  },
  {
   "cell_type": "markdown",
   "metadata": {},
   "source": [
    "* PyPlasm"
   ]
  },
  {
   "cell_type": "code",
   "execution_count": 2,
   "metadata": {
    "collapsed": true
   },
   "outputs": [],
   "source": [
    "def fun1(a):\n",
    "    return sin(a) * cos(a)"
   ]
  },
  {
   "cell_type": "markdown",
   "metadata": {},
   "source": [
    "* Test"
   ]
  },
  {
   "cell_type": "code",
   "execution_count": 3,
   "metadata": {},
   "outputs": [
    {
     "data": {
      "text/plain": [
       "0.9330127018922193"
      ]
     },
     "execution_count": 3,
     "metadata": {},
     "output_type": "execute_result"
    }
   ],
   "source": [
    "fun1(PI/4) + fun1(PI/6)"
   ]
  },
  {
   "cell_type": "markdown",
   "metadata": {},
   "source": [
    "## Script 1.5.1"
   ]
  },
  {
   "cell_type": "markdown",
   "metadata": {},
   "source": [
    "Le funzioni lShape1 ed lShape2 non ricevono alcun input, dichiarano 3 liste (una per i vertici, una per le celle ed una per i poligoni) e generano la stessa figura"
   ]
  },
  {
   "cell_type": "markdown",
   "metadata": {},
   "source": [
    "* FL"
   ]
  },
  {
   "cell_type": "raw",
   "metadata": {},
   "source": [
    "DEF L_shape1 = MKPOL:< verts, cells, pols >\n",
    "WHERE\n",
    "    verts = <<0,0>,<2,0>,<2,1>,<1,1>,<1,2>,<0,2>>,\n",
    "    cells = <<1,2,3,4>,<4,5,6,1>>,\n",
    "    pols = <<1>,<2>>\n",
    "END;\n",
    "\n",
    "DEF L_shape2 = MKPOL:< verts, cells, pols >\n",
    "WHERE\n",
    "    verts = <<0,0>,<2,0>,<2,1>,<1,1>,<1,2>,<0,2>>,\n",
    "    cells = <<1,2,3,4>,<4,5,6,1>>,\n",
    "    pols = <<1,2>>\n",
    "END;"
   ]
  },
  {
   "cell_type": "markdown",
   "metadata": {},
   "source": [
    "* PyPlasm"
   ]
  },
  {
   "cell_type": "code",
   "execution_count": 4,
   "metadata": {
    "collapsed": true
   },
   "outputs": [],
   "source": [
    "def lShape1():\n",
    "    verts = [[0,0],[2,0],[2,1],[1,1],[1,2],[0,2]]\n",
    "    cells = [[1,2,3,4],[4,5,6,1]]\n",
    "    pols = [[1],[2]]\n",
    "    return MKPOL([verts,cells,pols])\n",
    "    \n",
    "def lShape2():\n",
    "    verts = [[0,0],[2,0],[2,1],[1,1],[1,2],[0,2]]\n",
    "    cells = [[1,2,3,4],[4,5,6,1]]\n",
    "    pols = [[1,2]]\n",
    "    return MKPOL([verts,cells,pols])"
   ]
  },
  {
   "cell_type": "markdown",
   "metadata": {},
   "source": [
    "* Test"
   ]
  },
  {
   "cell_type": "code",
   "execution_count": 5,
   "metadata": {},
   "outputs": [
    {
     "data": {
      "text/plain": [
       "<pyplasm.xgepy.Hpc; proxy of <Swig Object of type 'std::shared_ptr< Hpc > *' at 0x000000000E425CC0> >"
      ]
     },
     "execution_count": 5,
     "metadata": {},
     "output_type": "execute_result"
    }
   ],
   "source": [
    "VIEW(lShape1())\n",
    "VIEW(lShape2())"
   ]
  },
  {
   "cell_type": "markdown",
   "metadata": {},
   "source": [
    "![risultato](shape.PNG)"
   ]
  },
  {
   "cell_type": "markdown",
   "metadata": {},
   "source": [
    "## Script 1.5.3 (Table model)"
   ]
  },
  {
   "cell_type": "markdown",
   "metadata": {},
   "source": [
    "Le funzioni leg e plane servono, rispettivamente, per generare un cuboide a forma di gamba di tavolo ed un cuboide basso a forma di piano, mentre le funzioni table e table1 utilizzano la funzione STRUCT per aggregare le forme leg e table, che vengono traslate per disegnare un tavolino"
   ]
  },
  {
   "cell_type": "markdown",
   "metadata": {},
   "source": [
    "* FL"
   ]
  },
  {
   "cell_type": "raw",
   "metadata": {},
   "source": [
    "DEF Leg = CUBOID:< 0.1,0.1,0.7 >;\n",
    "DEF Plane = CUBOID:< 1, 1, 0.2>;\n",
    "\n",
    "DEF Table = STRUCT:<\n",
    "    Leg, T:1:0.9, Leg, T:2:0.9, Leg, T:1:-0.9, Leg,\n",
    "    T:<2,3>:<-0.9,0.7>, Plane >;\n",
    "    \n",
    "DEF Table1 = STRUCT:<\n",
    "    Leg, T:1:0.9:Leg, T:<1,2>:<0.9,0.9>:Leg, T:2:0.9:Leg,\n",
    "    T:3:0.7:Plane >;\n",
    "    \n",
    "VRML: Table:'out.wrl';"
   ]
  },
  {
   "cell_type": "markdown",
   "metadata": {},
   "source": [
    "* PyPlasm"
   ]
  },
  {
   "cell_type": "code",
   "execution_count": 6,
   "metadata": {
    "collapsed": true
   },
   "outputs": [],
   "source": [
    "def leg():\n",
    "    return CUBOID([0.1,0.1,0.7])\n",
    "\n",
    "def plane():\n",
    "    return CUBOID([1,1,0.2])\n",
    "\n",
    "def table():\n",
    "    return STRUCT([leg(),T(1)(0.9),leg(),T(2)(0.9),leg(),T(1)(-0.9),leg(),T([2,3])([-0.9,0.7]), plane()])\n",
    "\n",
    "def table1():\n",
    "    return STRUCT([leg(),T(1)(0.9)(leg()),T([1,2])([0.9,0.9])(leg()),T(2)(0.9)(leg()),T(3)(0.7)(plane())])"
   ]
  },
  {
   "cell_type": "markdown",
   "metadata": {},
   "source": [
    "* Test"
   ]
  },
  {
   "cell_type": "code",
   "execution_count": 7,
   "metadata": {},
   "outputs": [
    {
     "data": {
      "text/plain": [
       "<pyplasm.xgepy.Hpc; proxy of <Swig Object of type 'std::shared_ptr< Hpc > *' at 0x000000000E44B270> >"
      ]
     },
     "execution_count": 7,
     "metadata": {},
     "output_type": "execute_result"
    }
   ],
   "source": [
    "VIEW(table())"
   ]
  },
  {
   "cell_type": "code",
   "execution_count": 8,
   "metadata": {},
   "outputs": [
    {
     "data": {
      "text/plain": [
       "<pyplasm.xgepy.Hpc; proxy of <Swig Object of type 'std::shared_ptr< Hpc > *' at 0x000000000E44B360> >"
      ]
     },
     "execution_count": 8,
     "metadata": {},
     "output_type": "execute_result"
    }
   ],
   "source": [
    "VIEW(table1())"
   ]
  },
  {
   "cell_type": "markdown",
   "metadata": {},
   "source": [
    "![Un tavolino](table.PNG)"
   ]
  },
  {
   "cell_type": "markdown",
   "metadata": {},
   "source": [
    "## Script 1.5.6 (Building facade)"
   ]
  },
  {
   "cell_type": "markdown",
   "metadata": {},
   "source": [
    "La funzione facade riceve in input 2 numeri interi (il numero di finestre da disporre orizzontalmente, ed il numero di finestre da disporre verticalmente) e genera la facciata di un palazzo. La funzione PROD è utilizzata per fare il prodotto cartesiano, mentre la funzione QUOTE genera complessi monodimensionali"
   ]
  },
  {
   "cell_type": "markdown",
   "metadata": {},
   "source": [
    "* FL"
   ]
  },
  {
   "cell_type": "raw",
   "metadata": {
    "collapsed": true
   },
   "source": [
    "DEF facade (n,m::IsIntPos) = STRUCT:<\n",
    "    Q:xRithm * Q:yRithm,\n",
    "    Q:xVoid * Q:yRithm,\n",
    "    Q:xRithm * Q:yVoid ,\n",
    "    @1:(Q:xVoid * Q:yVoid) >\n",
    "WHERE\n",
    "    xRithm = ##:n:<5,-2,-5,-2> AR 5,\n",
    "    yRithm = ##:m:<7,-5,-2> AR 7,\n",
    "    xVoid = AA:-:xRithm,\n",
    "    yVoid = AA:-:yRithm\n",
    "END;"
   ]
  },
  {
   "cell_type": "markdown",
   "metadata": {},
   "source": [
    "* PyPlasm"
   ]
  },
  {
   "cell_type": "code",
   "execution_count": 9,
   "metadata": {
    "collapsed": true
   },
   "outputs": [],
   "source": [
    "def facade(n,m):\n",
    "    xRithm = n*[5,-2,-5,-2]\n",
    "    xRithm.append(5)\n",
    "    \n",
    "    yRithm = m*[7,-5,-2]\n",
    "    yRithm.append(7)\n",
    "    \n",
    "    xVoid = [-x for x in xRithm]\n",
    "    yVoid = [-y for y in yRithm]\n",
    "    \n",
    "    return STRUCT([PROD([QUOTE(xRithm), QUOTE(yRithm)]),PROD([QUOTE(xVoid), QUOTE(yVoid)]),\n",
    "                   PROD([QUOTE(xRithm), QUOTE(yVoid)]), SKEL_1(PROD([QUOTE(xVoid), QUOTE(yVoid)]))])"
   ]
  },
  {
   "cell_type": "markdown",
   "metadata": {},
   "source": [
    "* Test"
   ]
  },
  {
   "cell_type": "code",
   "execution_count": 10,
   "metadata": {
    "scrolled": true
   },
   "outputs": [
    {
     "data": {
      "text/plain": [
       "<pyplasm.xgepy.Hpc; proxy of <Swig Object of type 'std::shared_ptr< Hpc > *' at 0x000000000E44BBA0> >"
      ]
     },
     "execution_count": 10,
     "metadata": {},
     "output_type": "execute_result"
    }
   ],
   "source": [
    "VIEW(facade(10,50))"
   ]
  },
  {
   "cell_type": "markdown",
   "metadata": {
    "collapsed": true
   },
   "source": [
    "![Una facciata di 50 piani e 10 interni per ogni piano](facade.PNG)"
   ]
  },
  {
   "cell_type": "markdown",
   "metadata": {},
   "source": [
    "## Script 1.5.10 (Table and chairs)"
   ]
  },
  {
   "cell_type": "markdown",
   "metadata": {},
   "source": [
    "Le funzioni legs e plane servono per definire i cuboidi che posso aggregare per creare un tavolino (all'interno della funzione table). Le sedie sono ottenute grazie alla funzione chair che utilizza la scalatura sul tavolo precedentemente creato. La funzione assembly1 mette tutto insieme e trasla tavolini e sedie in modo che la disposizione sia corretta"
   ]
  },
  {
   "cell_type": "markdown",
   "metadata": {},
   "source": [
    "* FL"
   ]
  },
  {
   "cell_type": "raw",
   "metadata": {},
   "source": [
    "DEF legs = Q:< 0.1,-0.8,0.1 > * Q:< 0.1,-0.8,0.1 > * Q:0.7;\n",
    "DEF plane = Q:1 * Q:1 * Q:0.2;\n",
    "DEF table = Legs TOP Plane;\n",
    "DEF chair = S:<1,2,3>:<0.4,0.4,0.5>:Table;\n",
    "DEF assembly = chair RIGHT table RIGHT chair UP chair DOWN chair\n",
    "VRML:assembly:'out.wrl'"
   ]
  },
  {
   "cell_type": "markdown",
   "metadata": {},
   "source": [
    "* PyPlasm"
   ]
  },
  {
   "cell_type": "code",
   "execution_count": 15,
   "metadata": {
    "collapsed": true
   },
   "outputs": [],
   "source": [
    "def legs():\n",
    "    a = PROD([QUOTE([0.1,-0.8,0.1]),QUOTE([0.1,-0.8,0.1])])\n",
    "    return (PROD([a,QUOTE([0.7])]));\n",
    " \n",
    "def plane():\n",
    "    b = PROD([QUOTE([1]),QUOTE([1])])\n",
    "    return (PROD([b,QUOTE([0.2])]));\n",
    " \n",
    "def table():\n",
    "    return (TOP([legs(),plane()]));\n",
    " \n",
    "def chair():\n",
    "    return(S([1,2,3])([0.4,0.4,0.5])(table()));\n",
    " \n",
    "def assembly1():\n",
    "    return (DOWN([UP([RIGHT([T(2)(0.3)(chair()),RIGHT([table(),T(2)(0.3)(chair())])]),T(1)(0.7)(chair())]),T(1)(0.7)(chair())]));"
   ]
  },
  {
   "cell_type": "markdown",
   "metadata": {},
   "source": [
    "* Test"
   ]
  },
  {
   "cell_type": "code",
   "execution_count": 16,
   "metadata": {},
   "outputs": [
    {
     "data": {
      "text/plain": [
       "<pyplasm.xgepy.Hpc; proxy of <Swig Object of type 'std::shared_ptr< Hpc > *' at 0x000000000E449510> >"
      ]
     },
     "execution_count": 16,
     "metadata": {},
     "output_type": "execute_result"
    }
   ],
   "source": [
    "scalatura = STRUCT([table(),chair()])\n",
    "VIEW(scalatura)"
   ]
  },
  {
   "cell_type": "markdown",
   "metadata": {},
   "source": [
    "![Sedia e Tavolino, scalatura](tableandchairscaled.PNG)"
   ]
  },
  {
   "cell_type": "code",
   "execution_count": 17,
   "metadata": {},
   "outputs": [
    {
     "data": {
      "text/plain": [
       "<pyplasm.xgepy.Hpc; proxy of <Swig Object of type 'std::shared_ptr< Hpc > *' at 0x000000000E4495D0> >"
      ]
     },
     "execution_count": 17,
     "metadata": {},
     "output_type": "execute_result"
    }
   ],
   "source": [
    "VIEW(assembly1())"
   ]
  },
  {
   "cell_type": "markdown",
   "metadata": {},
   "source": [
    "![Tavolino con le sedie](tableandchairs.PNG)"
   ]
  },
  {
   "cell_type": "markdown",
   "metadata": {},
   "source": [
    "## Script 1.6.2 (Italy’s Football Cup)"
   ]
  },
  {
   "cell_type": "markdown",
   "metadata": {},
   "source": [
    "Le funzioni c1, c2 e c3 generano 3 cerchi concentrici di raggio diverso e di colore diverso; la funzione out aggrega i 3 cerchi"
   ]
  },
  {
   "cell_type": "markdown",
   "metadata": {},
   "source": [
    "* FL"
   ]
  },
  {
   "cell_type": "raw",
   "metadata": {},
   "source": [
    "DEF c1 = circle:1:<48,1> ACOLOR rgbacolor:<0,1,0,1>;\n",
    "DEF c2 = circle:0.7:<48,1> ACOLOR rgbacolor:<1,1,1,1>;\n",
    "DEF c3 = circle:0.4:<48,1> ACOLOR rgbacolor:<1,0,0,1>;\n",
    "DEF out = STRUCT:< c1, c2, c3 >;"
   ]
  },
  {
   "cell_type": "markdown",
   "metadata": {},
   "source": [
    "* PyPlasm"
   ]
  },
  {
   "cell_type": "code",
   "execution_count": 18,
   "metadata": {
    "collapsed": true
   },
   "outputs": [],
   "source": [
    "def c1():\n",
    "    return(COLOR([0,1,0,1])(CIRCLE(1)([48,1])));\n",
    " \n",
    "def c2():\n",
    "    return(COLOR([1,1,1,1])(CIRCLE(0.7)([48,1])));\n",
    " \n",
    "def c3():\n",
    "    return(COLOR([1,0,0,1])(CIRCLE(0.4)([48,1])));\n",
    " \n",
    "def out():\n",
    "    return (STRUCT([c1(),c2(),c3()]));"
   ]
  },
  {
   "cell_type": "markdown",
   "metadata": {},
   "source": [
    "* Test"
   ]
  },
  {
   "cell_type": "code",
   "execution_count": 19,
   "metadata": {},
   "outputs": [
    {
     "data": {
      "text/plain": [
       "<pyplasm.xgepy.Hpc; proxy of <Swig Object of type 'std::shared_ptr< Hpc > *' at 0x000000000E449420> >"
      ]
     },
     "execution_count": 19,
     "metadata": {},
     "output_type": "execute_result"
    }
   ],
   "source": [
    "VIEW(out())"
   ]
  },
  {
   "cell_type": "markdown",
   "metadata": {},
   "source": [
    "![Lo stemma della Coppa Italia](italianscup.PNG)"
   ]
  },
  {
   "cell_type": "markdown",
   "metadata": {},
   "source": [
    "## Script 1.6.3 (Assembly of colored cubes)"
   ]
  },
  {
   "cell_type": "markdown",
   "metadata": {},
   "source": [
    "Le funzioni cube, cube1, cube2 e cube3 generano 3 cubetti della stessa dimensione ma di colori diversi (ottenuti mediante passaggio di valori RGB). La funzione basis crea una base monodimensionale quadrata. La funzione assembly aggrega i 3 cubetti uno sopra l'altro tramite l'utilizzo della funzione TOP (che prende 2 input, ovvero i 2 poligoni che vogliamo comporre). La funzione out posiziona i 3 cubetti sopra la base. La funzione out2 crea lo skel_1 della figura colorato di rosso. La funzione out3 restituisce la composizione dei 3 cubetti colorati con lo scheletro rosso"
   ]
  },
  {
   "cell_type": "markdown",
   "metadata": {},
   "source": [
    "* FL"
   ]
  },
  {
   "cell_type": "raw",
   "metadata": {},
   "source": [
    "(plasm \"\n",
    "    DEF cube = CUBOID:<1,1,1>;\n",
    "    DEF cube1 = cube COLOR CYAN;\n",
    "    DEF cube2 = cube COLOR MAGENTA;\n",
    "    DEF cube3 = cube COLOR YELLOW;\n",
    "    DEF basis = (EMBED:1 ∼ CUBOID):<3,3>;\n",
    "    DEF assembly = cube1 TOP cube2 TOP cube3;\n",
    "    DEF out = basis TOP assembly;\n",
    "    DEF out2 = basis TOP ((SWEEP:< 0.2, 0.2, 0.2 > ∼ @1):assembly COLOR RED);\n",
    "\")"
   ]
  },
  {
   "cell_type": "markdown",
   "metadata": {},
   "source": [
    "* PyPlasm"
   ]
  },
  {
   "cell_type": "code",
   "execution_count": 20,
   "metadata": {
    "collapsed": true
   },
   "outputs": [],
   "source": [
    "def cube():\n",
    "    return(CUBOID([1,1,1]))\n",
    " \n",
    "def cube1():\n",
    "    return(COLOR([0,255,255])(cube()))\n",
    " \n",
    "def cube2():\n",
    "    return(COLOR([255,0,255])(cube()))\n",
    " \n",
    "def cube3():\n",
    "    return(COLOR([255,255,0])(cube()))\n",
    "\n",
    "def basis():\n",
    "    return COMP([EMBED(1), CUBOID])([3,3])\n",
    "\n",
    "def assembly():\n",
    "    return (TOP([cube3(),TOP([cube2(),cube1()])]))\n",
    " \n",
    "def out():\n",
    "    return (TOP([basis(), assembly()]))\n",
    "\n",
    "def out2():\n",
    "    return TOP([basis(),COLOR([255,0,0])(COMP([SWEEP([0.2,0.2,0.2]),SKEL_1])(assembly()))])\n",
    "\n",
    "def out3():\n",
    "    return STRUCT([out(),out2()])"
   ]
  },
  {
   "cell_type": "markdown",
   "metadata": {},
   "source": [
    "* Test"
   ]
  },
  {
   "cell_type": "code",
   "execution_count": 21,
   "metadata": {},
   "outputs": [
    {
     "data": {
      "text/plain": [
       "<pyplasm.xgepy.Hpc; proxy of <Swig Object of type 'std::shared_ptr< Hpc > *' at 0x000000000E441150> >"
      ]
     },
     "execution_count": 21,
     "metadata": {},
     "output_type": "execute_result"
    }
   ],
   "source": [
    "VIEW(out())"
   ]
  },
  {
   "cell_type": "markdown",
   "metadata": {},
   "source": [
    "![Tre cubetti colorati ed assemblati](coloredcubes.PNG)"
   ]
  },
  {
   "cell_type": "code",
   "execution_count": 22,
   "metadata": {},
   "outputs": [
    {
     "data": {
      "text/plain": [
       "<pyplasm.xgepy.Hpc; proxy of <Swig Object of type 'std::shared_ptr< Hpc > *' at 0x000000000E441180> >"
      ]
     },
     "execution_count": 22,
     "metadata": {},
     "output_type": "execute_result"
    }
   ],
   "source": [
    "VIEW(out2())"
   ]
  },
  {
   "cell_type": "markdown",
   "metadata": {},
   "source": [
    "![Scheletro 1 dei cubetti](coloredcubes_skel.PNG)"
   ]
  },
  {
   "cell_type": "code",
   "execution_count": 23,
   "metadata": {},
   "outputs": [
    {
     "data": {
      "text/plain": [
       "<pyplasm.xgepy.Hpc; proxy of <Swig Object of type 'std::shared_ptr< Hpc > *' at 0x000000000E449B40> >"
      ]
     },
     "execution_count": 23,
     "metadata": {},
     "output_type": "execute_result"
    }
   ],
   "source": [
    "VIEW(out3())"
   ]
  },
  {
   "cell_type": "markdown",
   "metadata": {},
   "source": [
    "![Cubetti colorati composti con lo scheletro 1](coloredcubes_composed.PNG)"
   ]
  },
  {
   "cell_type": "markdown",
   "metadata": {},
   "source": [
    "## Script 1.6.5 (Building's extrusion)"
   ]
  },
  {
   "cell_type": "markdown",
   "metadata": {},
   "source": [
    "La funzione plan2D crea un piano bidimensionale facendo il QUOTE di 2 liste. Le funzioni building1 e building2 fanno l'estrusione del piano bidimensionale; in particolare building2 fa un'estrusione più alta rispetto building1. Infine la funzione assemblyExtrusion assembla i risultati di building1 e building2"
   ]
  },
  {
   "cell_type": "markdown",
   "metadata": {},
   "source": [
    "* FL"
   ]
  },
  {
   "cell_type": "raw",
   "metadata": {},
   "source": [
    "Xdims ≡ <2,-2,3,-2,4,-2,5,-2,6,-2,7,-2,8,-2,9,-2,10,-2>\n",
    "Ydims ≡ <3,-2,4,-2,5,-2,6,-2,7,-2,8,-2>\n",
    "\n",
    "DEF plan2D = Q:Xdims * Q:Ydims;\n",
    "DEF building1 = Extrude:<10,plan2D, 12>;\n",
    "DEF building2 = Extrude:<25,plan2D, 20>;\n",
    "STRUCT:< EMBED:1:plan2D, building1, building2 >;"
   ]
  },
  {
   "cell_type": "markdown",
   "metadata": {},
   "source": [
    "* PyPlasm"
   ]
  },
  {
   "cell_type": "code",
   "execution_count": 24,
   "metadata": {
    "collapsed": true
   },
   "outputs": [],
   "source": [
    "def plan2D():\n",
    "    xDims = [1,-2,3,-2,4,-2,5,-2,6,-2,7,-2,8,-2,9,-2,10,-2]\n",
    "    yDims = [3,-2,4,-2,5,-2,6,-2,7,-2,8,-2]\n",
    "    \n",
    "    arg1 = QUOTE(xDims)\n",
    "    arg2 = QUOTE(yDims)\n",
    "    \n",
    "    return PROD([arg1, arg2])\n",
    "\n",
    "def building1():\n",
    "    return EXTRUDE([10,plan2D(),12])\n",
    "\n",
    "def building2():\n",
    "    return EXTRUDE([25,plan2D(),20])\n",
    "\n",
    "def assemblyExtrusion():\n",
    "    return STRUCT([EMBED(1)(plan2D()),building1(),building2()])"
   ]
  },
  {
   "cell_type": "markdown",
   "metadata": {},
   "source": [
    "* Test"
   ]
  },
  {
   "cell_type": "code",
   "execution_count": 25,
   "metadata": {},
   "outputs": [
    {
     "data": {
      "text/plain": [
       "<pyplasm.xgepy.Hpc; proxy of <Swig Object of type 'std::shared_ptr< Hpc > *' at 0x000000000E4415A0> >"
      ]
     },
     "execution_count": 25,
     "metadata": {},
     "output_type": "execute_result"
    }
   ],
   "source": [
    "VIEW(plan2D())"
   ]
  },
  {
   "cell_type": "markdown",
   "metadata": {},
   "source": [
    "![Piano bidimensionale](plan2D.PNG)"
   ]
  },
  {
   "cell_type": "code",
   "execution_count": 26,
   "metadata": {},
   "outputs": [
    {
     "data": {
      "text/plain": [
       "<pyplasm.xgepy.Hpc; proxy of <Swig Object of type 'std::shared_ptr< Hpc > *' at 0x000000000E441540> >"
      ]
     },
     "execution_count": 26,
     "metadata": {},
     "output_type": "execute_result"
    }
   ],
   "source": [
    "VIEW(building1())"
   ]
  },
  {
   "cell_type": "markdown",
   "metadata": {},
   "source": [
    "![Piano 2D estruso](plan2D_extrusion.PNG)"
   ]
  },
  {
   "cell_type": "code",
   "execution_count": 27,
   "metadata": {},
   "outputs": [
    {
     "data": {
      "text/plain": [
       "<pyplasm.xgepy.Hpc; proxy of <Swig Object of type 'std::shared_ptr< Hpc > *' at 0x000000000E4410C0> >"
      ]
     },
     "execution_count": 27,
     "metadata": {},
     "output_type": "execute_result"
    }
   ],
   "source": [
    "VIEW(building2())"
   ]
  },
  {
   "cell_type": "markdown",
   "metadata": {},
   "source": [
    "![Altra estrusione del piano bidimensionale, stavolta più alta](plan2D_extrusion2.PNG)"
   ]
  },
  {
   "cell_type": "code",
   "execution_count": 28,
   "metadata": {},
   "outputs": [
    {
     "data": {
      "text/plain": [
       "<pyplasm.xgepy.Hpc; proxy of <Swig Object of type 'std::shared_ptr< Hpc > *' at 0x000000000E441690> >"
      ]
     },
     "execution_count": 28,
     "metadata": {},
     "output_type": "execute_result"
    }
   ],
   "source": [
    "VIEW(assemblyExtrusion())"
   ]
  },
  {
   "cell_type": "markdown",
   "metadata": {},
   "source": [
    "![Altro modello estruso](plan2D_extrusion3.PNG)"
   ]
  },
  {
   "cell_type": "markdown",
   "metadata": {
    "collapsed": true
   },
   "source": [
    "## Script 1.5.9 (Boolean example)"
   ]
  },
  {
   "cell_type": "markdown",
   "metadata": {},
   "source": [
    "La funzione a restituisce un cubetto traslato su 2 assi; la funzione b restiuisce lo stesso cubetto di a, ma ruotato di 45°. La funzione ab, mediante operazioni di aggregazione, intersezione, differenza e differenza simmetrica restituisce una composizione di 4 figure"
   ]
  },
  {
   "cell_type": "markdown",
   "metadata": {},
   "source": [
    "* FL"
   ]
  },
  {
   "cell_type": "raw",
   "metadata": {},
   "source": [
    "DEF a = T:<1,2>:<-0.5,-0.5>:(CUBOID:<1,1,1>);\n",
    "DEF b = R:<1,2>:(PI/4):a;\n",
    "STRUCT:< a + b, T:1:2, a & b, T:1:2, a ∧ b, T:1:2, a - b >;"
   ]
  },
  {
   "cell_type": "markdown",
   "metadata": {},
   "source": [
    "* PyPlasm"
   ]
  },
  {
   "cell_type": "code",
   "execution_count": 29,
   "metadata": {
    "collapsed": true
   },
   "outputs": [],
   "source": [
    "def a():\n",
    "    return T([1,2])([-0.5,-0.5])(CUBOID([1,1,1]))\n",
    "\n",
    "def b():\n",
    "    return R([1,2])(PI/4)(a())\n",
    "\n",
    "def ab():\n",
    "    arg1 = STRUCT([a(), b()])\n",
    "    arg2 = T(1)(2)\n",
    "    arg3 = INTERSECTION([a(), b()])\n",
    "    arg4 = T(1)(2)\n",
    "    arg5 = XOR([a(), b()])\n",
    "    arg6 = T(1)(2)\n",
    "    arg7 = DIFFERENCE([a(), b()])\n",
    "    return STRUCT([arg1, STRUCT([arg2, STRUCT([arg3, STRUCT([arg4, STRUCT([arg5, STRUCT([arg6, arg7])])])])])])"
   ]
  },
  {
   "cell_type": "markdown",
   "metadata": {},
   "source": [
    "* Test"
   ]
  },
  {
   "cell_type": "code",
   "execution_count": 30,
   "metadata": {},
   "outputs": [
    {
     "data": {
      "text/plain": [
       "<pyplasm.xgepy.Hpc; proxy of <Swig Object of type 'std::shared_ptr< Hpc > *' at 0x000000000E4418A0> >"
      ]
     },
     "execution_count": 30,
     "metadata": {},
     "output_type": "execute_result"
    }
   ],
   "source": [
    "VIEW(a())"
   ]
  },
  {
   "cell_type": "markdown",
   "metadata": {},
   "source": [
    "![Cubo traslato](traslcube.PNG)"
   ]
  },
  {
   "cell_type": "code",
   "execution_count": 31,
   "metadata": {},
   "outputs": [
    {
     "data": {
      "text/plain": [
       "<pyplasm.xgepy.Hpc; proxy of <Swig Object of type 'std::shared_ptr< Hpc > *' at 0x000000000E441BA0> >"
      ]
     },
     "execution_count": 31,
     "metadata": {},
     "output_type": "execute_result"
    }
   ],
   "source": [
    "VIEW(b())"
   ]
  },
  {
   "cell_type": "markdown",
   "metadata": {},
   "source": [
    "![Cubo traslato e ruotato di 45°](traslrotcube.PNG)"
   ]
  },
  {
   "cell_type": "code",
   "execution_count": 32,
   "metadata": {},
   "outputs": [
    {
     "data": {
      "text/plain": [
       "<pyplasm.xgepy.Hpc; proxy of <Swig Object of type 'std::shared_ptr< Hpc > *' at 0x000000000E441ED0> >"
      ]
     },
     "execution_count": 32,
     "metadata": {},
     "output_type": "execute_result"
    }
   ],
   "source": [
    "VIEW(ab())"
   ]
  },
  {
   "cell_type": "markdown",
   "metadata": {},
   "source": [
    "![Figure](ab.PNG)"
   ]
  },
  {
   "cell_type": "markdown",
   "metadata": {},
   "source": [
    "## Script 1.6.6 (Manhattan 2D)"
   ]
  },
  {
   "cell_type": "markdown",
   "metadata": {},
   "source": [
    "La funzione manhattan2D realizza un modello bidimensionale dello skyline della città di Manhattan"
   ]
  },
  {
   "cell_type": "markdown",
   "metadata": {},
   "source": [
    "* FL"
   ]
  },
  {
   "cell_type": "raw",
   "metadata": {},
   "source": [
    "DEF Manhattan2D = MKPOL:< verts, cells, pols >\n",
    "WHERE\n",
    "    verts = < <0,0>,<3,0>,<5,0>,<7,0>,<8,0>,<9.5,1>,<10,1.5>,<0,3>,<3,3>,<5,3>,\n",
    "        <7,3>,<8,3>,<9.5,3>,<0,4>,<3,4>,<5,4>,<9.5,4>,<12,4>,<9.5,5>,<10,5>,\n",
    "        <12,5>,<0,6>,<3,6>,<5,6>,<0,7>,<3,7>,<5,7>,<9.5,7>,<12,7>,<9.5,8>,\n",
    "        <12,8>,<0,9>,<3,9>,<5,9>,<8,9>,<9,9>,<12,9>,<0,10>,<3,10>,<5,10>,\n",
    "        <8,10>,<9,10>,<9.5,10>,<10,10>,<12,10>,<6,11>,<7,11>,<0,12>,<3,12>,<9,12>,\n",
    "        <9.5,12>,<0,13>,<3,13>,<6,13>,<7,13>,<9,13>,<9.5,13>,<0,14>,<3,14>,<5,14>,\n",
    "        <8,14>,<9,14>,<9.5,14>,<10,14>,<12,14>,<0,15>,<3,15>,<5,15>,<8,15>,<0,16>,\n",
    "        <6,16>,<7,16>,<9,17>,<9.5,17>,<10,17>,<12,17>,<6,18>,<7,18>,<9,18>,<9.5,18>,\n",
    "        <10,18>,<12,18>,<2,19>,<3,19>,<5,19>,<8,19>,<9,19>,<9.5,19>,<10,19>,<12,19>,\n",
    "        <5,20>,<12,20>,<7,22>,<10,22>,<9,6>,<12,6>,<9,15>,<9.5,15>,<10,15>,<12,15> >,\n",
    "    cells = < <1,2,9,8>,<3,4,11,10>,<5,6,13,12>,<14,15,23,22>, <16,17,19,24>,\n",
    "        <7,18,21,20>,<25,26,33,32>,<27,95,28,35,34>,<95,96,29,28>, <30,31,37,36>,\n",
    "        <38,39,49,48>,<40,41,47,46>,<41,61,55,47>,<55,61,60,54>, <54,60,40,46>,\n",
    "        <42,43,51,50>,<44,45,65,64>,<52,53,59,58>,<56,57,63,62>, <66,67,84,83,70>,\n",
    "        <68,69,72,71>,<69,86,78,72>,<78,86,85,77>,<71,77,85,68>, <97,98,74,73>,\n",
    "        <99,100,76,75>,<79,80,88,87>,<81,82,90,89>, <91,92,94,93> >,\n",
    "    pols = AA:LIST:(1..29)\n",
    "END;"
   ]
  },
  {
   "cell_type": "markdown",
   "metadata": {},
   "source": [
    "* PyPlasm"
   ]
  },
  {
   "cell_type": "code",
   "execution_count": 33,
   "metadata": {
    "collapsed": true
   },
   "outputs": [],
   "source": [
    "def manhattan2D():\n",
    "    verts = [ [0,0],[3,0],[5,0],[7,0],[8,0],[9.5,1],[10,1.5],[0,3],[3,3],[5,3], [7,3],[8,3],[9.5,3],[0,4],[3,4],[5,4],[9.5,4],[12,4],[9.5,5],[10,5], [12,5],[0,6],[3,6],[5,6],[0,7],[3,7],[5,7],[9.5,7],[12,7],[9.5,8], [12,8],[0,9],[3,9],[5,9],[8,9],[9,9],[12,9],[0,10],[3,10],[5,10], [8,10],[9,10],[9.5,10],[10,10],[12,10],[6,11],[7,11],[0,12],[3,12],[9,12], [9.5,12],[0,13],[3,13],[6,13],[7,13],[9,13],[9.5,13],[0,14],[3,14],[5,14], [8,14],[9,14],[9.5,14],[10,14],[12,14],[0,15],[3,15],[5,15],[8,15],[0,16], [6,16],[7,16],[9,17],[9.5,17],[10,17],[12,17],[6,18],[7,18],[9,18],[9.5,18],[10,18],[12,18],[2,19],[3,19],[5,19],[8,19],[9,19],[9.5,19],[10,19],[12,19],[5,20],[12,20],[7,22],[10,22],[9,6],[12,6],[9,15],[9.5,15],[10,15],[12,15] ]\n",
    "    cells = [ [1,2,9,8],[3,4,11,10],[5,6,13,12],[14,15,23,22], [16,17,19,24],[7,18,21,20],[25,26,33,32],[27,95,28,35,34],[95,96,29,28], [30,31,37,36],[38,39,49,48],[40,41,47,46],[41,61,55,47],[55,61,60,54], [54,60,40,46],[42,43,51,50],[44,45,65,64],[52,53,59,58],[56,57,63,62], [66,67,84,83,70],[68,69,72,71],[69,86,78,72],[78,86,85,77],[71,77,85,68], [97,98,74,73],[99,100,76,75],[79,80,88,87],[81,82,90,89], [91,92,94,93] ]\n",
    "    pols = range(1,29)\n",
    "    return MKPOL([verts,cells,pols])\n",
    "    "
   ]
  },
  {
   "cell_type": "markdown",
   "metadata": {},
   "source": [
    "* Test"
   ]
  },
  {
   "cell_type": "code",
   "execution_count": 34,
   "metadata": {},
   "outputs": [
    {
     "data": {
      "text/plain": [
       "<pyplasm.xgepy.Hpc; proxy of <Swig Object of type 'std::shared_ptr< Hpc > *' at 0x000000000E534120> >"
      ]
     },
     "execution_count": 34,
     "metadata": {},
     "output_type": "execute_result"
    }
   ],
   "source": [
    "VIEW(manhattan2D())"
   ]
  },
  {
   "cell_type": "markdown",
   "metadata": {},
   "source": [
    "![Manhattan 2D](manhattan2D.PNG)"
   ]
  },
  {
   "cell_type": "markdown",
   "metadata": {},
   "source": [
    "## Script 1.6.7 (Manhattan 3D)"
   ]
  },
  {
   "cell_type": "markdown",
   "metadata": {},
   "source": [
    "La funzione manhattan3D realizza un modello tridimensionale dello skyline della città di Manhattan tramite l'estrusione del modello bidimensionale"
   ]
  },
  {
   "cell_type": "markdown",
   "metadata": {},
   "source": [
    "* FL"
   ]
  },
  {
   "cell_type": "raw",
   "metadata": {},
   "source": [
    "DEF MultExtrude (p::IsPol) (h::IsSeqOf:IsReal) =\n",
    "    (STRUCT ∼ AA:* ∼ TRANS):< ThePolSeq, AA:Q:h >\n",
    "WHERE\n",
    "    ThePolSeq = (REVERSE ∼ AA:MKPOL ∼ AA:CAT ∼ DISTR):\n",
    "    < DISTL:< MyVerts, MyCells >, <<<1>>> >,\n",
    "    MyVerts = (S1 ∼ UKPOL):P,\n",
    "    MyCells = (AA:LIST ∼ S2 ∼ UKPOL):P\n",
    "END;\n",
    "\n",
    "DEF GrowingH = 1..29;\n",
    "DEF ManhattanH = <1,3,1,11,1,0.2,1,0.1,1,8,15,1,1,1,1,8,1,15,8,1,2,2,2,2,5,9,1,1,1>;"
   ]
  },
  {
   "cell_type": "markdown",
   "metadata": {},
   "source": [
    "* PyPlasm"
   ]
  },
  {
   "cell_type": "code",
   "execution_count": 35,
   "metadata": {
    "collapsed": true
   },
   "outputs": [],
   "source": [
    "def manhattan3D(p, h): \n",
    "    MyCells = COMP([AA(LIST), S2, UKPOL])(p)\n",
    "    MyVerts = COMP([S1, UKPOL])(p)\n",
    "    ThePolSeq = COMP([REVERSE, AA(MKPOL), AA(CAT), DISTR])([DISTL([MyVerts, MyCells]), [[[1]]]])\n",
    "    return COMP([STRUCT, AA(PROD), TRANS])([ThePolSeq, AA(Q)(h)])"
   ]
  },
  {
   "cell_type": "markdown",
   "metadata": {},
   "source": [
    "* Test"
   ]
  },
  {
   "cell_type": "code",
   "execution_count": 36,
   "metadata": {},
   "outputs": [
    {
     "data": {
      "text/plain": [
       "<pyplasm.xgepy.Hpc; proxy of <Swig Object of type 'std::shared_ptr< Hpc > *' at 0x000000000E514360> >"
      ]
     },
     "execution_count": 36,
     "metadata": {},
     "output_type": "execute_result"
    }
   ],
   "source": [
    "growingH = range(1, 29)\n",
    "VIEW(manhattan3D(manhattan2D(), growingH))"
   ]
  },
  {
   "cell_type": "markdown",
   "metadata": {},
   "source": [
    "![Manhattan 3D](manhattan3D.PNG)"
   ]
  }
 ],
 "metadata": {
  "kernelspec": {
   "display_name": "Python 2",
   "language": "python",
   "name": "python2"
  },
  "language_info": {
   "codemirror_mode": {
    "name": "ipython",
    "version": 2
   },
   "file_extension": ".py",
   "mimetype": "text/x-python",
   "name": "python",
   "nbconvert_exporter": "python",
   "pygments_lexer": "ipython2",
   "version": "2.7.13"
  }
 },
 "nbformat": 4,
 "nbformat_minor": 2
}
