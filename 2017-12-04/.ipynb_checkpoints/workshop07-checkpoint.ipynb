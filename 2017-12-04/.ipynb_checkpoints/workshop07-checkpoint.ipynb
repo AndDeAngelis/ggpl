{
 "cells": [
  {
   "cell_type": "markdown",
   "metadata": {},
   "source": [
    "# Workshop 06"
   ]
  },
  {
   "cell_type": "markdown",
   "metadata": {},
   "source": [
    "## Conversione codice da PLaSM a PyPlasm per la realizzazione della chiesa di Santo Stefano Rotondo al Celio"
   ]
  },
  {
   "cell_type": "code",
   "execution_count": 2,
   "metadata": {},
   "outputs": [
    {
     "name": "stdout",
     "output_type": "stream",
     "text": [
      "Evaluating fenvs.py..\n",
      "...fenvs.py imported in 0.004938 seconds\n"
     ]
    }
   ],
   "source": [
    "from larlib import *\n",
    "from math import *"
   ]
  },
  {
   "cell_type": "markdown",
   "metadata": {},
   "source": [
    "* Per la conversione si è seguito passo passo la realizzazione PLaSM del Professor Paoluzzi\n",
    "    * https://github.com/cvdlab-courses/ggpl/blob/master/lessons/2017-12-04/ssr.psm"
   ]
  },
  {
   "cell_type": "markdown",
   "metadata": {},
   "source": [
    "* Misure di riferimento"
   ]
  },
  {
   "cell_type": "code",
   "execution_count": 3,
   "metadata": {},
   "outputs": [],
   "source": [
    "r0=24.0\n",
    "r2=48.0\n",
    "r3=72.0\n",
    "r4=88.0\n",
    "wsteps=10.0\n",
    "nsteps=10.0\n",
    "wstep=wsteps/nsteps\n",
    "hstep=1.0/3.0\n",
    "hw4=29.0\n",
    "hbasament=hstep*nsteps"
   ]
  },
  {
   "cell_type": "markdown",
   "metadata": {},
   "source": [
    "* Mappa cilindrica"
   ]
  },
  {
   "cell_type": "code",
   "execution_count": 4,
   "metadata": {},
   "outputs": [],
   "source": [
    "def cylMap(bool=True):\n",
    "    if bool:\n",
    "        return MAP([lambda p: (p[1]) * COS(p[0]), lambda p: (p[1]) * SIN(p[0]), lambda p: (p[2])])\n",
    "    else:\n",
    "        return MAP([lambda p: (p[1]) * SIN(p[0]), lambda p: (p[1]) * COS(p[0]), lambda p: (p[2])])"
   ]
  },
  {
   "cell_type": "markdown",
   "metadata": {},
   "source": [
    "* Scala esterna"
   ]
  },
  {
   "cell_type": "code",
   "execution_count": 5,
   "metadata": {},
   "outputs": [],
   "source": [
    "def vdom(h):\n",
    "    return PROD([COMP([EMBED(1),INTERVALS(PI*3/24)])(3),QUOTE([h])])\n",
    "\n",
    "def hdom(w):\n",
    "    return COMP([S(2)(-1),EMBED(1)])(PROD([INTERVALS(PI*3/24)(3),QUOTE([w])]))\n",
    "\n",
    "def steps(w,h):\n",
    "    def steps1(n):\n",
    "        return COMP([STRUCT,CAT,N(n)])([vdom(h),T(3)(h),hdom(w),T(2)(-w)])\n",
    "    return steps1"
   ]
  },
  {
   "cell_type": "code",
   "execution_count": 6,
   "metadata": {},
   "outputs": [],
   "source": [
    "hbasament = hstep*nsteps\n",
    "\n",
    "stair = RIGHT([COMP([MKPOL,UKPOL])(steps(wstep, hstep)(nsteps)),COMP([S(2)(-1),SKEL_2,CUBOID])([PI/24,wsteps,hbasament])])\n",
    "ramp = cylMap()(T(2)(r4)(stair))\n",
    "stairs = STRUCT(NN(12)([ramp,R([1,2])(PI/6)]))"
   ]
  },
  {
   "cell_type": "markdown",
   "metadata": {},
   "source": [
    "* Basamento"
   ]
  },
  {
   "cell_type": "code",
   "execution_count": 7,
   "metadata": {},
   "outputs": [],
   "source": [
    "basisSector = COMP([cylMap(False),EMBED(1)])(PROD([INTERVALS(2*PI/12)(4),INTERVALS(r4-(wstep*(nsteps-1)))(1)]))\n",
    "\n",
    "basis = COMP([STRUCT,NN(12)])([basisSector,R([1,2])(2*PI/12)])\n",
    "\n",
    "basement = COMP([R([1,2])(PI/-48),STRUCT])([stairs,T(3)(hstep*nsteps),basis])"
   ]
  },
  {
   "cell_type": "code",
   "execution_count": 8,
   "metadata": {},
   "outputs": [
    {
     "data": {
      "text/plain": [
       "<pyplasm.xgepy.Hpc; proxy of <Swig Object of type 'std::shared_ptr< Hpc > *' at 0x7fba1476d240> >"
      ]
     },
     "execution_count": 8,
     "metadata": {},
     "output_type": "execute_result"
    }
   ],
   "source": [
    "VIEW(basement)"
   ]
  },
  {
   "cell_type": "markdown",
   "metadata": {},
   "source": [
    "![basement](../images/workshop06/basement.png)"
   ]
  },
  {
   "cell_type": "markdown",
   "metadata": {},
   "source": [
    "* Muro esterno"
   ]
  },
  {
   "cell_type": "code",
   "execution_count": 9,
   "metadata": {},
   "outputs": [],
   "source": [
    "extWall2Da = INTERSECTION([MKPOL([[[0,0],[7,0],[7,5],[0,8],[7,3],[9,4],[10.5,1.5],[10.5,0],[11,1.5],[11,3]],\n",
    "                                  [range(1,5),[2,8,7,6,5],[6,7,9,10]],[[1],[2],[3]]]),PROD([COMP([QUOTE,N(12)])(1),Q(8)])])\n",
    "\n",
    "extWall2Db = INTERSECTION([MKPOL([[[0.5,0],[4,0],[5,0],[6,0],[6,3],[5.5,3.5],[5,3],[4.5,3.5],[4,3],[2,4],[0,3],\n",
    "                                   [0,1.5],[0.5,1.5]],[[10,11,12,13],[1,2,9,10,13],[2,3,7,8,9],[3,4,5,6,7]],\n",
    "                                  range(1,5)]),PROD([COMP([QUOTE,N(6)])(1),Q(4)])])\n",
    "\n",
    "extWall2D = STRUCT([extWall2Da,T(1)(11),extWall2Db])\n",
    "\n",
    "sizxExtWall = SIZE(1)(extWall2D)\n",
    "\n",
    "extWall = R([2,3])(PI/2)(PROD([extWall2D,QUOTE([1.5])]))\n",
    "\n",
    "curvedExtWall = COMP([cylMap(),T(2)(r3),S([1,3])([PI/(4*sizxExtWall),hw4/8])])(extWall)\n",
    "\n",
    "doubleExtWall = STRUCT([curvedExtWall,S(1)(-1),curvedExtWall])\n",
    "\n",
    "fullExtWall = COMP([STRUCT,NN(4)])([doubleExtWall,R([1,2])(PI/2)])"
   ]
  },
  {
   "cell_type": "code",
   "execution_count": 10,
   "metadata": {},
   "outputs": [
    {
     "data": {
      "text/plain": [
       "<pyplasm.xgepy.Hpc; proxy of <Swig Object of type 'std::shared_ptr< Hpc > *' at 0x7fba1476d870> >"
      ]
     },
     "execution_count": 10,
     "metadata": {},
     "output_type": "execute_result"
    }
   ],
   "source": [
    "VIEW(STRUCT([basement,T(3)(hbasament), fullExtWall]))"
   ]
  },
  {
   "cell_type": "markdown",
   "metadata": {},
   "source": [
    "![external_wall1](../images/workshop06/ew_1.png)\n",
    "![external_wall2](../images/workshop06/ew_2.png)"
   ]
  },
  {
   "cell_type": "markdown",
   "metadata": {},
   "source": [
    "* Colonne intermedie"
   ]
  },
  {
   "cell_type": "code",
   "execution_count": 12,
   "metadata": {},
   "outputs": [],
   "source": [
    "def column(args):\n",
    "    w,h=args\n",
    "    basis=CUBOID([w,w,2.0*w/3.0])\n",
    "    trunk=CYLINDER([w/2.0*0.85,h-w])(8)\n",
    "    capitel=CUBOID([w,w,w/3.0])\n",
    "    return TOP([TOP([basis,trunk]),capitel])"
   ]
  },
  {
   "cell_type": "code",
   "execution_count": 13,
   "metadata": {},
   "outputs": [],
   "source": [
    "arcAngle = 2.0*PI/50.4\n",
    "wallAngle = -3.2*arcAngle/4.0\n",
    "rotCross = 3.2*arcAngle/4.0+2.5*arcAngle\n",
    "hCol = 12.0\n",
    "\n",
    "myColumn = COMP([MKPOL,UKPOL,T(2)(r2-0.75),column])([1.5,hCol])\n",
    "\n",
    "the4cols = COMP([R([1,2])(arcAngle*0.4/3.2),MKPOL,UKPOL,STRUCT,NN(4)])([R([1,2])(DIFF(arcAngle)),myColumn])\n",
    "\n",
    "the5Cols = COMP([R([1,2])(arcAngle*0.4/3.2),MKPOL,UKPOL,STRUCT,NN(5)])([R([1,2])(DIFF(arcAngle)),myColumn])\n",
    "\n",
    "theBotWal = COMP([cylMap(),MKPOL,UKPOL,T(2)(r2-0.75),CUBOID])([3.2*arcAngle/4,1.5,hCol])\n",
    "\n",
    "theSecCols = STRUCT([R([1,2])(rotCross),theBotWal,R([1,2])(wallAngle),\n",
    "                   the4cols,R([1,2])(-5*arcAngle),theBotWal,R([1,2])(wallAngle),the5Cols])\n",
    "\n",
    "theMedColumns = COMP([STRUCT,NN(4)])([theSecCols,R([1,2])(PI/-2.0)])"
   ]
  },
  {
   "cell_type": "code",
   "execution_count": 15,
   "metadata": {
    "scrolled": true
   },
   "outputs": [
    {
     "data": {
      "text/plain": [
       "<pyplasm.xgepy.Hpc; proxy of <Swig Object of type 'std::shared_ptr< Hpc > *' at 0x7fba14784750> >"
      ]
     },
     "execution_count": 15,
     "metadata": {},
     "output_type": "execute_result"
    }
   ],
   "source": [
    "VIEW(STRUCT([theMedColumns]))"
   ]
  },
  {
   "cell_type": "markdown",
   "metadata": {},
   "source": [
    "![columns1](../images/workshop06/columns_1.png)"
   ]
  },
  {
   "cell_type": "code",
   "execution_count": 16,
   "metadata": {},
   "outputs": [
    {
     "data": {
      "text/plain": [
       "<pyplasm.xgepy.Hpc; proxy of <Swig Object of type 'std::shared_ptr< Hpc > *' at 0x7fba147847e0> >"
      ]
     },
     "execution_count": 16,
     "metadata": {},
     "output_type": "execute_result"
    }
   ],
   "source": [
    "VIEW(STRUCT([basement,T(3)(hbasament), fullExtWall,theMedColumns]))"
   ]
  },
  {
   "cell_type": "markdown",
   "metadata": {},
   "source": [
    "![columns2](../images/workshop06/columns_2.png)"
   ]
  },
  {
   "cell_type": "markdown",
   "metadata": {},
   "source": [
    "* Archi sulle colonne"
   ]
  },
  {
   "cell_type": "code",
   "execution_count": 18,
   "metadata": {},
   "outputs": [],
   "source": [
    "def bottomArc(d):\n",
    "    return BEZIER(S1)([[0,0],[0,2*d/3],[d,2*d/3],[d,0]])\n",
    "\n",
    "def topArc(d):\n",
    "    return BEZIER(S1)([[0,2*d/3],[d,2*d/3]])\n",
    "\n",
    "def arc2D(d):\n",
    "    return BEZIER(S2)([bottomArc(d),topArc(d)])\n",
    "\n",
    "def arc3D(d):\n",
    "    def arc3D1(w):\n",
    "        return COMP([T(2)(w),R([2,3])(PI/2)])(PROD([MAP(arc2D(3.2))(PROD([INTERVALS(1)(8),INTERVALS(1)(1)])), QUOTE([1.5])]))\n",
    "    return arc3D1\n",
    "\n",
    "def interarc(d1, d2):\n",
    "    def interarc1(w):\n",
    "        return CUBOID([d1,w,2*d2/3])\n",
    "    return interarc1\n",
    "\n",
    "def xarc(d1, d2):\n",
    "    def xarc1(w):\n",
    "        return RIGHT([RIGHT([interarc(d1,d2)(w),arc3D(d2)(w)]),interarc(d1,d2)(w)])\n",
    "    return xarc1"
   ]
  },
  {
   "cell_type": "code",
   "execution_count": 19,
   "metadata": {},
   "outputs": [],
   "source": [
    "theArc = xarc(0.4,3.2)(1.5)\n",
    "sizeArc = SIZE(1)(theArc)\n",
    "sx = (1/sizeArc)*arcAngle\n",
    "sz = sx*(r2-2)\n",
    "\n",
    "curvedArc = COMP([cylMap(),MKPOL,UKPOL,T(2)(r2-0.75),S([1,3])([sx,sz])])(theArc)\n",
    "heigthArc = SIZE(3)(curvedArc)\n",
    "\n",
    "the5arcs = COMP([MKPOL,UKPOL,STRUCT,NN(5)])([curvedArc,R([1,2])(-arcAngle)])\n",
    "the6arcs = COMP([MKPOL,UKPOL,STRUCT,NN(6)])([curvedArc,R([1,2])(-arcAngle)])\n",
    "\n",
    "theMidWall = COMP([cylMap(),MKPOL,UKPOL,T(2)(r2-0.75),CUBOID])([3.2*arcAngle/4,1.5,heigthArc])\n",
    "\n",
    "theSector = STRUCT([R([1,2])(rotCross),theMidWall, \n",
    "                    R([1,2])(wallAngle),the5arcs,R([1,2])(-5*arcAngle),theMidWall,R([1,2])(wallAngle),the6arcs])\n",
    "\n",
    "theArcs = COMP([STRUCT,NN(4)])([theSector,R([1,2])(PI/-2)])\n",
    "theArcsCols = STRUCT([theMedColumns,T(3)(hCol),theArcs])"
   ]
  },
  {
   "cell_type": "code",
   "execution_count": 21,
   "metadata": {},
   "outputs": [
    {
     "data": {
      "text/plain": [
       "<pyplasm.xgepy.Hpc; proxy of <Swig Object of type 'std::shared_ptr< Hpc > *' at 0x7fba147904b0> >"
      ]
     },
     "execution_count": 21,
     "metadata": {},
     "output_type": "execute_result"
    }
   ],
   "source": [
    "VIEW(STRUCT([theArcsCols]))"
   ]
  },
  {
   "cell_type": "markdown",
   "metadata": {},
   "source": [
    "![arcs_1](../images/workshop06/arcs_1.png)"
   ]
  },
  {
   "cell_type": "code",
   "execution_count": 20,
   "metadata": {},
   "outputs": [
    {
     "data": {
      "text/plain": [
       "<pyplasm.xgepy.Hpc; proxy of <Swig Object of type 'std::shared_ptr< Hpc > *' at 0x7fba14790870> >"
      ]
     },
     "execution_count": 20,
     "metadata": {},
     "output_type": "execute_result"
    }
   ],
   "source": [
    "VIEW(STRUCT([basement,T(3)(hbasament),fullExtWall,theArcsCols]))"
   ]
  },
  {
   "cell_type": "markdown",
   "metadata": {},
   "source": [
    "![arcs_2](../images/workshop06/arcs_2.png)"
   ]
  },
  {
   "cell_type": "markdown",
   "metadata": {},
   "source": [
    "* Muro intermedio superiore"
   ]
  },
  {
   "cell_type": "code",
   "execution_count": 25,
   "metadata": {},
   "outputs": [],
   "source": [
    "medWall2D = INTERSECTION([MKPOL([[[0,4],[8,4],[17,4],[17,5],\n",
    "                                [12.5,7.5],[8,5],[0,8]],[[1,2,6,7],[2,3,4,5,6]],\n",
    "                                [[1],[2]]]),PROD([COMP([QUOTE,N(17)])(1),QUOTE([8])])])\n",
    "\n",
    "sizxMedWall = SIZE(1)(medWall2D)\n",
    "\n",
    "medWall = R([2,3])(PI/2)(PROD([medWall2D,QUOTE([1.5])]))\n",
    "\n",
    "curvedMedWall = COMP([cylMap(False),MKPOL,UKPOL,T(2)(r2+0.75),S([1,3])([PI/(4*sizxMedWall),hw4/8])])(medWall)\n",
    "\n",
    "doubleMedWall = STRUCT([curvedMedWall,S(1)(-1)(curvedMedWall)])\n",
    "\n",
    "fullMedWall = COMP([STRUCT,NN(4)])([doubleMedWall,R([1,2])(PI/2)])\n",
    "\n",
    "medWallArcs = STRUCT([fullMedWall,theArcsCols])"
   ]
  },
  {
   "cell_type": "code",
   "execution_count": 26,
   "metadata": {},
   "outputs": [
    {
     "data": {
      "text/plain": [
       "<pyplasm.xgepy.Hpc; proxy of <Swig Object of type 'std::shared_ptr< Hpc > *' at 0x7fba1404c900> >"
      ]
     },
     "execution_count": 26,
     "metadata": {},
     "output_type": "execute_result"
    }
   ],
   "source": [
    "VIEW(STRUCT([basement,T(3)(hbasament),fullExtWall,medWallArcs]))"
   ]
  },
  {
   "cell_type": "markdown",
   "metadata": {},
   "source": [
    "![wall_intermedio_sup](../images/workshop06/wall_i.png)"
   ]
  },
  {
   "cell_type": "markdown",
   "metadata": {},
   "source": [
    "* Muri laterali della croce"
   ]
  },
  {
   "cell_type": "code",
   "execution_count": 27,
   "metadata": {},
   "outputs": [],
   "source": [
    "crossWall = COMP([T(1)(-1),R([1,2])(0.2*arcAngle),S(3)(hw4/8),CUBOID])([1.5,r3-r2,5])\n",
    "\n",
    "singleWall = COMP([R([1, 2])(2.5 * arcAngle), T(2)(r2)])(crossWall)\n",
    "\n",
    "doubleWall = STRUCT([singleWall,S(1)(-1),singleWall])\n",
    "\n",
    "crossWalls = COMP([STRUCT,NN(4)])([doubleWall,R([1,2])(PI/2)])"
   ]
  },
  {
   "cell_type": "markdown",
   "metadata": {},
   "source": [
    "* Tetto sulla croce"
   ]
  },
  {
   "cell_type": "code",
   "execution_count": 29,
   "metadata": {},
   "outputs": [],
   "source": [
    "halfTetto = MKPOL([[[0,r2,8],[8,r2,5],[8,r3,5],[0,r3,8]],[[1,2,3,4]],[1]])\n",
    "\n",
    "curvedHalfTetto=COMP([cylMap(),S([1,3])([2.5*arcAngle/8,hw4/8])])(halfTetto)\n",
    "\n",
    "doubleHalfTetto=STRUCT([curvedHalfTetto,S(1)(-1)(curvedHalfTetto)])\n",
    "\n",
    "fullTetto=COMP([STRUCT,NN(4)])([doubleHalfTetto,R([1,2])(PI/-2)])"
   ]
  },
  {
   "cell_type": "code",
   "execution_count": 30,
   "metadata": {},
   "outputs": [
    {
     "data": {
      "text/plain": [
       "<pyplasm.xgepy.Hpc; proxy of <Swig Object of type 'std::shared_ptr< Hpc > *' at 0x7fba1404c270> >"
      ]
     },
     "execution_count": 30,
     "metadata": {},
     "output_type": "execute_result"
    }
   ],
   "source": [
    "VIEW(STRUCT([basement,T(3)(hbasament),fullExtWall,medWallArcs,crossWalls,fullTetto]))"
   ]
  },
  {
   "cell_type": "markdown",
   "metadata": {},
   "source": [
    "![wall](../images/workshop06/wall.png)"
   ]
  },
  {
   "cell_type": "markdown",
   "metadata": {},
   "source": [
    "* Muro con Triplice apertura"
   ]
  },
  {
   "cell_type": "code",
   "execution_count": 32,
   "metadata": {},
   "outputs": [],
   "source": [
    "def courtWall(d1, d2):\n",
    "    def courtWall1(n1, n2):\n",
    "        w=0.7\n",
    "        tripleHole=TOP([STRUCT([column([w,2]),T(1)(2+w),column([w,2])]),xarc(2,2)(1)])\n",
    "        h=SIZE(3)(tripleHole)\n",
    "        op=ALIGN([[1,MAX,MIN],[2,MIN,MIN]])\n",
    "        leftWall=PROD([COMP([QUOTE,N(n1)])(d1/n1),CUBOID([1,h])])\n",
    "        rightWall=PROD([COMP([QUOTE,N(n2)])(d2/n2),CUBOID([1,h])])\n",
    "        return op([op([leftWall,tripleHole]), rightWall])\n",
    "    return courtWall1"
   ]
  },
  {
   "cell_type": "code",
   "execution_count": 35,
   "metadata": {},
   "outputs": [
    {
     "data": {
      "text/plain": [
       "<pyplasm.xgepy.Hpc; proxy of <Swig Object of type 'std::shared_ptr< Hpc > *' at 0x7fba140976c0> >"
      ]
     },
     "execution_count": 35,
     "metadata": {},
     "output_type": "execute_result"
    }
   ],
   "source": [
    "VIEW((courtWall(6,6)(3,3)))"
   ]
  },
  {
   "cell_type": "markdown",
   "metadata": {},
   "source": [
    "![wall_2](../images/workshop06/wall2.png)"
   ]
  },
  {
   "cell_type": "markdown",
   "metadata": {},
   "source": [
    "* Muro inferiore Cortile interno"
   ]
  },
  {
   "cell_type": "code",
   "execution_count": 38,
   "metadata": {},
   "outputs": [],
   "source": [
    "myCourtWall = courtWall(12,12)(9,9)\n",
    "\n",
    "sizxCourtWall = SIZE(1)(myCourtWall)\n",
    "\n",
    "mapping = COMP([cylMap(False),S([1,3])([(7.25*PI/24)*(1/sizxCourtWall),hw4/8])])\n",
    "\n",
    "curvedCourtWall = COMP([OPTIMIZE,R([1,2])(-2.5*arcAngle),mapping,T(2)((r3+r2)/2)])(myCourtWall)\n",
    "\n",
    "crossCourtWall = COMP([STRUCT,NN(4)])([curvedCourtWall,R([1,2])(PI/2)])"
   ]
  },
  {
   "cell_type": "code",
   "execution_count": 39,
   "metadata": {},
   "outputs": [
    {
     "data": {
      "text/plain": [
       "<pyplasm.xgepy.Hpc; proxy of <Swig Object of type 'std::shared_ptr< Hpc > *' at 0x7fba14097690> >"
      ]
     },
     "execution_count": 39,
     "metadata": {},
     "output_type": "execute_result"
    }
   ],
   "source": [
    "VIEW(STRUCT([fullTetto,crossWalls,crossCourtWall]))"
   ]
  },
  {
   "cell_type": "markdown",
   "metadata": {},
   "source": [
    "![wall_3](../images/workshop06/wall3.png)"
   ]
  },
  {
   "cell_type": "markdown",
   "metadata": {},
   "source": [
    "* Coronamento Muro Cortile interno"
   ]
  },
  {
   "cell_type": "code",
   "execution_count": 40,
   "metadata": {},
   "outputs": [],
   "source": [
    "topCourtWall2D = INTERSECTION([MKPOL([[[0,3.333],[10,3.333],[10,4.333],[5,6.333],[0,4.333]],\n",
    "                                      [range(1,5)],[[1]]]),PROD([COMP([QUOTE,N(10)])(1),QUOTE([8])])])\n",
    "topCourtWall = R([2,3])(PI/2)(PROD([topCourtWall2D,QUOTE([1])]))\n",
    "\n",
    "myTopCourtWall = RIGHT([topCourtWall,RIGHT([topCourtWall,topCourtWall])])\n",
    "\n",
    "curvedTopCourtWall = COMP([R([1,2])(-2.5*arcAngle),mapping,T(2)((r3+r2+2)/2)])(myTopCourtWall)\n",
    "\n",
    "fullTopCourtWall = COMP([STRUCT,NN(4)])([curvedTopCourtWall,R([1,2])(PI/2)])"
   ]
  },
  {
   "cell_type": "code",
   "execution_count": 41,
   "metadata": {},
   "outputs": [
    {
     "data": {
      "text/plain": [
       "<pyplasm.xgepy.Hpc; proxy of <Swig Object of type 'std::shared_ptr< Hpc > *' at 0x7fba14097330> >"
      ]
     },
     "execution_count": 41,
     "metadata": {},
     "output_type": "execute_result"
    }
   ],
   "source": [
    "VIEW(STRUCT([basement,T(3)(hbasament),fullExtWall,medWallArcs,crossWalls,\n",
    "             fullTetto,crossCourtWall,theMedColumns,fullTopCourtWall]))"
   ]
  },
  {
   "cell_type": "markdown",
   "metadata": {},
   "source": [
    "![wall_4](../images/workshop06/wall4.png)"
   ]
  },
  {
   "cell_type": "markdown",
   "metadata": {},
   "source": [
    "* Tetto sul cortile interno"
   ]
  },
  {
   "cell_type": "code",
   "execution_count": 43,
   "metadata": {},
   "outputs": [],
   "source": [
    "rotWall = 2.5*arcAngle\n",
    "\n",
    "courTetto = INTERSECTION([MKPOL([[[0,(r3+r2+2)/2,3.333],[10,(r3+r2+2)/2,3.333],\n",
    "                                [10,r2,4.333],[0,r2,4.333],[0,(r3+r2+2)/2,3.433],\n",
    "                                [10,(r3+r2+2)/2,3.433],[10,r2,4.433],[0,r2,4.433]],[range(1,9)],[[1]]]),\n",
    "                        PROD([COMP([QUOTE,N(10)])(1),PROD([QUOTE([(r3+r2+2)/2]),QUOTE([5])])])])\n",
    "\n",
    "myCourTetto = RIGHT([RIGHT([courTetto,courTetto]), courTetto])\n",
    "\n",
    "curvedCourTetto = COMP([R([1,2])(DIFF(rotWall)),mapping])(myCourTetto)\n",
    "\n",
    "fullCourTetto = COMP([STRUCT,NN(4)])([curvedCourTetto,R([1,2])(PI/2)])"
   ]
  },
  {
   "cell_type": "code",
   "execution_count": 44,
   "metadata": {},
   "outputs": [
    {
     "data": {
      "text/plain": [
       "<pyplasm.xgepy.Hpc; proxy of <Swig Object of type 'std::shared_ptr< Hpc > *' at 0x7fba14097e40> >"
      ]
     },
     "execution_count": 44,
     "metadata": {},
     "output_type": "execute_result"
    }
   ],
   "source": [
    "VIEW(STRUCT([fullExtWall,crossWalls,fullTetto,crossCourtWall,fullTopCourtWall,fullCourTetto]))"
   ]
  },
  {
   "cell_type": "markdown",
   "metadata": {},
   "source": [
    "![wall5](../images/workshop06/wall5.png)"
   ]
  },
  {
   "cell_type": "markdown",
   "metadata": {},
   "source": [
    "* Colonne muro interno"
   ]
  },
  {
   "cell_type": "code",
   "execution_count": 45,
   "metadata": {},
   "outputs": [],
   "source": [
    "def radial22Obj(obj):\n",
    "    the4Obj = COMP([STRUCT,NN(4)])([obj,R([1,2])(PI/11)])\n",
    "    the2Obj = COMP([STRUCT,NN(2)])([obj,R([1,2])(PI/11)])\n",
    "    the20Obj = COMP([STRUCT,NN(5)])([the4Obj,R([1,2])((4*PI)/11)])\n",
    "    \n",
    "    return STRUCT([the20Obj,R([1,2])((20*PI)/11),the2Obj])"
   ]
  },
  {
   "cell_type": "code",
   "execution_count": 46,
   "metadata": {},
   "outputs": [],
   "source": [
    "internalCol=COMP([MKPOL,UKPOL,T(2)((r0-2)),column])([1.5, hCol])\n",
    "the22Columns=radial22Obj(internalCol)"
   ]
  },
  {
   "cell_type": "markdown",
   "metadata": {},
   "source": [
    "* Travi muro interno"
   ]
  },
  {
   "cell_type": "code",
   "execution_count": 47,
   "metadata": {},
   "outputs": [],
   "source": [
    "beam = PROD([QUOTE([-0.5,1.5,2,1.5]),PROD([QUOTE([2.2]),QUOTE([1.5])])])\n",
    "curvedBeam = COMP([cylMap(),T([2,3])([(r0-2),hCol]),S(1)(PI/(11*5))])(beam)\n",
    "the22Beams = radial22Obj(curvedBeam)"
   ]
  },
  {
   "cell_type": "code",
   "execution_count": 48,
   "metadata": {
    "scrolled": true
   },
   "outputs": [
    {
     "data": {
      "text/plain": [
       "<pyplasm.xgepy.Hpc; proxy of <Swig Object of type 'std::shared_ptr< Hpc > *' at 0x7fba1409f0c0> >"
      ]
     },
     "execution_count": 48,
     "metadata": {},
     "output_type": "execute_result"
    }
   ],
   "source": [
    "VIEW(the22Columns,the22Beams)"
   ]
  },
  {
   "cell_type": "markdown",
   "metadata": {},
   "source": [
    "![columns](../images/workshop06/columns_3.png)"
   ]
  },
  {
   "cell_type": "markdown",
   "metadata": {},
   "source": [
    "* Muro interno superiore"
   ]
  },
  {
   "cell_type": "code",
   "execution_count": 50,
   "metadata": {},
   "outputs": [],
   "source": [
    "hwall = STRUCT([INSR(PROD)([QUOTE([-0.5,1.5,-2,1.5]),QUOTE([-0.3,1.4]), \n",
    "                          QUOTE([2.5*hCol])]),INSR(PROD)([QUOTE([-2.0,2]), \n",
    "                          QUOTE([-0.3,1.4]),QUOTE([1.5*hCol,-0.5*hCol,0.5*hCol])]),\n",
    "                          INSR(PROD)([QUOTE([-2.25,1.5]),QUOTE([-0.3,1.4]),QUOTE([1.5*hCol,-0.5*hCol,0.5*hCol])])])\n",
    "\n",
    "curvedHwall = COMP([cylMap(False),T([2,3])([r0-2,hCol]),S(1)(PI/(11*5))])(hwall)\n",
    "\n",
    "the22Hwall = radial22Obj(curvedHwall)"
   ]
  },
  {
   "cell_type": "code",
   "execution_count": 51,
   "metadata": {},
   "outputs": [
    {
     "data": {
      "text/plain": [
       "<pyplasm.xgepy.Hpc; proxy of <Swig Object of type 'std::shared_ptr< Hpc > *' at 0x7fba1409f360> >"
      ]
     },
     "execution_count": 51,
     "metadata": {},
     "output_type": "execute_result"
    }
   ],
   "source": [
    "VIEW(STRUCT([the22Columns,the22Beams,the22Hwall]))"
   ]
  },
  {
   "cell_type": "markdown",
   "metadata": {},
   "source": [
    "![wall6](../images/workshop06/wall6.png)"
   ]
  },
  {
   "cell_type": "markdown",
   "metadata": {},
   "source": [
    "* Coronamento superiore muro interno"
   ]
  },
  {
   "cell_type": "code",
   "execution_count": 53,
   "metadata": {},
   "outputs": [],
   "source": [
    "myArc = MAP([COMP([SIN,S1]),COMP([COS,S1])])(QUOTE(N(5)(PI/10)))\n",
    "vertex = MKPOL([[[0,0]],[[1]],[[1]]])\n",
    "sector = JOIN([myArc,vertex])\n",
    "triangle = S(1)(-1)(SIMPLEX(2))\n",
    "sectorTriangle2D = STRUCT([T(1)(0.05),sector,T(1)(2),triangle])\n",
    "doubleSect = STRUCT([sectorTriangle2D,S(1)(-1)(sectorTriangle2D)])\n",
    "sect2D = S(1)(2 / 2.05)(doubleSect)\n",
    "sect3D = R([2,3])(PI/2)(PROD([sect2D,QUOTE([0.8])]))\n",
    "curvedSect = COMP([cylMap(False),T(2)(r0),S([1,3])([(2*PI)/(11*4),3])])(sect3D)\n",
    "frieze = T(3)(3.5*hCol)(curvedSect)"
   ]
  },
  {
   "cell_type": "code",
   "execution_count": 55,
   "metadata": {},
   "outputs": [],
   "source": [
    "def radial11Obj(obj):\n",
    "    the2Obj=COMP([STRUCT,NN(2)])([obj,R([1,2])((2*PI)/11)])\n",
    "    the10Obj=COMP([STRUCT,NN(5)])([the2Obj,R([1,2])((4*PI)/11)])\n",
    "    return STRUCT([the10Obj,R([1,2])((20*PI)/11),obj])\n",
    "\n",
    "the11Frieze = radial11Obj(frieze)"
   ]
  },
  {
   "cell_type": "code",
   "execution_count": 56,
   "metadata": {},
   "outputs": [
    {
     "data": {
      "text/plain": [
       "<pyplasm.xgepy.Hpc; proxy of <Swig Object of type 'std::shared_ptr< Hpc > *' at 0x7fba1409f990> >"
      ]
     },
     "execution_count": 56,
     "metadata": {},
     "output_type": "execute_result"
    }
   ],
   "source": [
    "VIEW(STRUCT([basement,T(3)(hbasament),fullExtWall,medWallArcs,crossWalls,\n",
    "             fullTetto,crossCourtWall,theMedColumns,fullTopCourtWall,fullCourTetto,\n",
    "             the22Columns,the22Beams,the22Hwall,the11Frieze]))"
   ]
  },
  {
   "cell_type": "markdown",
   "metadata": {},
   "source": [
    "![risultato_intermedio](../images/workshop06/intermedio.png)"
   ]
  },
  {
   "cell_type": "markdown",
   "metadata": {},
   "source": [
    "* Traliccio Tetto interno"
   ]
  },
  {
   "cell_type": "code",
   "execution_count": 57,
   "metadata": {},
   "outputs": [],
   "source": [
    "def trellis(v):\n",
    "    H,L=v\n",
    "    return COMP([R([2,3])(PI/2.0),EMBED(1),MKPOL])([[[0,0],[L/3,0],[2*L/3,0],[L,0],[2*L/3,H/3],[L/3,2*H/3],[0,H]],\n",
    "         [[1,2],[2,3],[3,4],[4,5],[5,6],[6,7],[7,1],[1,6],[6,2],[2,5],[5,3]],\n",
    "         [1,2,3,4,5,6,7,8,9,10,11]])\n",
    "\n",
    "def radial(n):\n",
    "    def radial1(obj):\n",
    "        return COMP([STRUCT,NN(3)])([COMP([STRUCT,NN(n/3)])([obj,R([1,2])(2*PI/n)]),R([1,2])(2*PI/3)])\n",
    "    return radial1"
   ]
  },
  {
   "cell_type": "code",
   "execution_count": 58,
   "metadata": {},
   "outputs": [],
   "source": [
    "trellisTop3D = COMP([T(2)(-0.25),S(2)(0.5),OFFSET([1,1,1]),trellis])([hCol,r0-1])\n",
    "\n",
    "theTopTrellis = T(3)(3.5*hCol)(trellisTop3D)\n",
    "\n",
    "topTrellis = radial(12)(theTopTrellis)"
   ]
  },
  {
   "cell_type": "code",
   "execution_count": 59,
   "metadata": {},
   "outputs": [
    {
     "data": {
      "text/plain": [
       "<pyplasm.xgepy.Hpc; proxy of <Swig Object of type 'std::shared_ptr< Hpc > *' at 0x7fba1409f390> >"
      ]
     },
     "execution_count": 59,
     "metadata": {},
     "output_type": "execute_result"
    }
   ],
   "source": [
    "VIEW(STRUCT([the11Frieze,topTrellis]))"
   ]
  },
  {
   "cell_type": "markdown",
   "metadata": {},
   "source": [
    "![tetto1](../images/workshop06/tetto.png)"
   ]
  },
  {
   "cell_type": "code",
   "execution_count": 60,
   "metadata": {},
   "outputs": [
    {
     "data": {
      "text/plain": [
       "<pyplasm.xgepy.Hpc; proxy of <Swig Object of type 'std::shared_ptr< Hpc > *' at 0x7fba1409fc60> >"
      ]
     },
     "execution_count": 60,
     "metadata": {},
     "output_type": "execute_result"
    }
   ],
   "source": [
    "VIEW(STRUCT([basement,T(3)(hbasament),fullExtWall,medWallArcs,crossWalls,\n",
    "             fullTetto,crossCourtWall,theMedColumns,fullTopCourtWall,fullCourTetto,\n",
    "             the22Columns,the22Beams,the22Hwall,the11Frieze,topTrellis]))"
   ]
  },
  {
   "cell_type": "markdown",
   "metadata": {},
   "source": [
    "![intermedio2](../images/workshop06/intermedio2.png)"
   ]
  },
  {
   "cell_type": "markdown",
   "metadata": {},
   "source": [
    "* Traliccio Tetto intermedio"
   ]
  },
  {
   "cell_type": "code",
   "execution_count": 61,
   "metadata": {},
   "outputs": [],
   "source": [
    "trellisMed3D = COMP([T(2)(-0.25),S(2)(0.5),OFFSET([1,1,1]),trellis])([hCol,r2-r0])\n",
    "\n",
    "theMedTrellis = T(3)(hCol+3)(trellisMed3D)\n",
    "\n",
    "medTrellis = radial(24)(T(1)(r0)(theMedTrellis))\n",
    "\n",
    "doubleMedTrellis = STRUCT([medTrellis,R([1,2])(PI/24),medTrellis])"
   ]
  },
  {
   "cell_type": "markdown",
   "metadata": {},
   "source": [
    "## Risultato Finale"
   ]
  },
  {
   "cell_type": "code",
   "execution_count": null,
   "metadata": {},
   "outputs": [],
   "source": [
    "VIEW(STRUCT([basement,T(3)(hbasament),fullExtWall,medWallArcs,crossWalls,\n",
    "             fullTetto,crossCourtWall,theMedColumns,fullTopCourtWall,fullCourTetto,\n",
    "             the22Columns,the22Beams,the22Hwall,the11Frieze,topTrellis,doubleMedTrellis]))"
   ]
  },
  {
   "cell_type": "markdown",
   "metadata": {},
   "source": [
    "![final1](../images/workshop06/final1.png)\n",
    "![final2](../images/workshop06/final2.png)\n",
    "![final3](../images/workshop06/final3.png)\n",
    "![final4](../images/workshop06/final4.png)"
   ]
  }
 ],
 "metadata": {
  "kernelspec": {
   "display_name": "Python 2",
   "language": "python",
   "name": "python2"
  },
  "language_info": {
   "codemirror_mode": {
    "name": "ipython",
    "version": 2
   },
   "file_extension": ".py",
   "mimetype": "text/x-python",
   "name": "python",
   "nbconvert_exporter": "python",
   "pygments_lexer": "ipython2",
   "version": "2.7.14"
  }
 },
 "nbformat": 4,
 "nbformat_minor": 2
}
