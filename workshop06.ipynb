{
 "cells": [
  {
   "cell_type": "markdown",
   "metadata": {},
   "source": [
    "# Workshop 06"
   ]
  },
  {
   "cell_type": "markdown",
   "metadata": {},
   "source": [
    "## Conversione codice da PLaSM a PyPlasm per la realizzazione della chiesa di Santo Stefano Rotondo al Celio"
   ]
  },
  {
   "cell_type": "code",
   "execution_count": 1,
   "metadata": {},
   "outputs": [
    {
     "name": "stdout",
     "output_type": "stream",
     "text": [
      "Evaluating fenvs.py..\n",
      "...fenvs.py imported in 0.00692 seconds\n"
     ]
    }
   ],
   "source": [
    "from larlib import *\n",
    "from math import *"
   ]
  },
  {
   "cell_type": "code",
   "execution_count": null,
   "metadata": {},
   "outputs": [],
   "source": [
    "%=============================================================%\n",
    "%                                                             %\n",
    "%       Modello geometrico di S. Stefano Rotondo al Celio     %\n",
    "%               Modello della Gerusalemme Celeste             %\n",
    "%                                                             %\n",
    "%                                                             %\n",
    "%                       A.Paoluzzi, 1998                      %\n",
    "%                                                             %\n",
    "%=============================================================%"
   ]
  },
  {
   "cell_type": "markdown",
   "metadata": {},
   "source": [
    "* Le misure di riferimento"
   ]
  },
  {
   "cell_type": "code",
   "execution_count": null,
   "metadata": {},
   "outputs": [],
   "source": [
    "%*************************************************************%\n",
    "%---Misure di riferimento--(cubito = 0.462 m)-----------------%\n",
    "%*************************************************************%\n",
    "\n",
    "%-- 1 cubito = 444 mm ----------------------------------------%\n",
    "DEF r0 = 24; %---cubiti; raggio interno del muro interno------%\n",
    "DEF r2 = 48; %---cubiti; raggio esterno del muro medio--------%\n",
    "DEF r3 = 72; %---cubiti; raggio esterno del muro esterno------%\n",
    "DEF r4 = 88; %---cubiti; raggio esterno scale esterne---------%\n",
    "\n",
    "DEF wsteps = 10;  %---cubiti; profondita' scale esterne-------%\n",
    "DEF nsteps = 10;  %---numero alzate/pedate scale esterne------%\n",
    "DEF wstep = wsteps/nsteps; %---cubiti; larghezza pedata-------%\n",
    "DEF hstep = 1/3; %---cubiti; altezza alzata-------------------%\n",
    "DEF hw4 = 29; %--cubiti; altezza all'imposta del muro esterno-%\n",
    "DEF hbasament = hstep*nsteps;"
   ]
  },
  {
   "cell_type": "code",
   "execution_count": 2,
   "metadata": {},
   "outputs": [],
   "source": [
    "r0 = 24.0\n",
    "r2 = 48.0\n",
    "r3 = 72.0\n",
    "r4 = 88.0\n",
    "wsteps = 10.0\n",
    "nsteps = 10.0\n",
    "wstep = wsteps/nsteps\n",
    "hstep = 1.0/3.0\n",
    "hw4 = 29.0\n",
    "hbasament = hstep*nsteps"
   ]
  }
 ],
 "metadata": {
  "kernelspec": {
   "display_name": "Python 2",
   "language": "python",
   "name": "python2"
  },
  "language_info": {
   "codemirror_mode": {
    "name": "ipython",
    "version": 2
   },
   "file_extension": ".py",
   "mimetype": "text/x-python",
   "name": "python",
   "nbconvert_exporter": "python",
   "pygments_lexer": "ipython2",
   "version": "2.7.14"
  }
 },
 "nbformat": 4,
 "nbformat_minor": 2
}
