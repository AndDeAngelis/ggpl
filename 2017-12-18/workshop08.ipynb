{
 "cells": [
  {
   "cell_type": "markdown",
   "metadata": {},
   "source": [
    "# Workshop 08"
   ]
  },
  {
   "cell_type": "markdown",
   "metadata": {},
   "source": [
    "## Realizzazione di Villa Pisani di Bagnolo"
   ]
  },
  {
   "cell_type": "markdown",
   "metadata": {},
   "source": [
    "![villa_pisani](../images/workshop08/VillaPisani_1.jpg)\n",
    "![villa_pisani](../images/workshop08/VillaPisani_2.jpg)"
   ]
  },
  {
   "cell_type": "markdown",
   "metadata": {},
   "source": [
    "* Definizione di funzioni **parametriche**\n",
    "    * Per consentire libertà di utilizzo (variando i parametri)\n",
    "    * Per favorire il riuso in altri contesti (realizzazione di altri tipi di edifici)"
   ]
  },
  {
   "cell_type": "code",
   "execution_count": 1,
   "metadata": {},
   "outputs": [
    {
     "name": "stdout",
     "output_type": "stream",
     "text": [
      "Evaluating fenvs.py..\n",
      "...fenvs.py imported in 0.005525 seconds\n"
     ]
    }
   ],
   "source": [
    "from larlib import *\n",
    "from numpy import *"
   ]
  },
  {
   "cell_type": "markdown",
   "metadata": {},
   "source": [
    "* Texture e colori"
   ]
  },
  {
   "cell_type": "code",
   "execution_count": 2,
   "metadata": {},
   "outputs": [],
   "source": [
    "texture_pietra = 'texture/sand3.png'\n",
    "texture_pietraP0 = 'texture/mattoni3.png'\n",
    "texture_lawn = 'texture/prato.png'\n",
    "texture_brecciolino = 'texture/brecciolino2.png'\n",
    "texture_tetto = 'texture/tetto3.png'\n",
    "texture_pavimentoP1 = 'texture/marmo.png'\n",
    "texture_pavimentoP2 = 'texture/marmo.png'\n",
    "texture_pareti = 'texture/marmo-bianco.png'\n",
    "texture_finestre = 'texture/marmo.png'\n",
    "texture_persiane = 'texture/legno1.jpg'"
   ]
  },
  {
   "cell_type": "markdown",
   "metadata": {},
   "source": [
    "* Misure di riferimento"
   ]
  },
  {
   "cell_type": "code",
   "execution_count": 3,
   "metadata": {},
   "outputs": [],
   "source": [
    "wall_thickness = 0.3\n",
    "\n",
    "window_panel_size = 8\n",
    "\n",
    "first_floor_height = 14\n",
    "\n",
    "facet_thickness = 2\n",
    "\n",
    "roofs_height = 1.5\n",
    "\n",
    "front_staircase_height = 2\n",
    "front_staircase_radius = 5.9\n",
    "\n",
    "lawn_size_x = 80\n",
    "lawn_size_y = 100\n",
    "\n",
    "side_windows_number = 4\n",
    "rear_windows_number = 6"
   ]
  },
  {
   "cell_type": "code",
   "execution_count": 4,
   "metadata": {},
   "outputs": [],
   "source": [
    "front_villa_size = window_panel_size*1.0*rear_windows_number\n",
    "side_villa_size = window_panel_size*1.0*side_windows_number\n",
    "\n",
    "blank_space = ((window_panel_size-2)/2.0)-2\n",
    "\n",
    "second_floor_X = (lawn_size_x-(side_villa_size+2*blank_space))/2.0\n",
    "second_floor_Y = (lawn_size_y-(front_villa_size+2*blank_space))/2.0\n",
    "\n",
    "facet_Y = (((lawn_size_x-(side_villa_size+2.0*blank_space))/2.0)+side_villa_size+blank_space*2.0)-facet_thickness\n",
    "facet_Z = 3 + 0.3 + wall_thickness*3\n",
    "facet_X = second_floor_Y + window_panel_size + blank_space*2.0\n",
    "\n",
    "floor_height_0 = 3 + 0.5 + wall_thickness*3.0\n",
    "\n",
    "second_floor_height = 3 + 0.3 + wall_thickness*4 + first_floor_height + 0.1\n",
    "\n",
    "roof_height = second_floor_height + first_floor_height*0.4+wall_thickness\n",
    "roof_X = second_floor_X+side_villa_size-window_panel_size\n",
    "roof_Y = second_floor_Y\n",
    "\n",
    "walls_height = second_floor_height + first_floor_height*0.6"
   ]
  },
  {
   "cell_type": "markdown",
   "metadata": {},
   "source": [
    "* Mappa cilindrica"
   ]
  },
  {
   "cell_type": "code",
   "execution_count": 5,
   "metadata": {},
   "outputs": [],
   "source": [
    "def cylMap():\n",
    "    x = lambda k: k[1] * COS(k[0])\n",
    "    y = lambda k: k[1] * SIN(k[0])\n",
    "    z = lambda k: k[2]\n",
    "    return MAP([x,y,z])"
   ]
  },
  {
   "cell_type": "markdown",
   "metadata": {},
   "source": [
    "* Funzioni di supporto"
   ]
  },
  {
   "cell_type": "code",
   "execution_count": 6,
   "metadata": {},
   "outputs": [],
   "source": [
    "def getMapSemiarco(r,altezza):\n",
    "    x = lambda p : r*sin(p[0])*cos(p[0])\n",
    "    y = lambda p : r*cos(p[0])*cos(p[0])\n",
    "    z = lambda p : altezza\n",
    "    dom = INTERVALS(PI/2)(63)\n",
    "\n",
    "    map = MAP([x,y,z])(dom)\n",
    "    return map\n",
    "\n",
    "def getMap(r,altezza):\n",
    "    x = lambda p : r*sin(p[0])*cos(p[0])\n",
    "    y = lambda p : r*cos(p[0])*cos(p[0])\n",
    "    z = lambda p : altezza\n",
    "    dom = INTERVALS(PI)(32)\n",
    "\n",
    "    map = MAP([x,y,z])(dom)\n",
    "    \n",
    "    return map\n",
    "\n",
    "def Cubo_Angoli_Smussati(r,altezza,fattore_smussamento):\n",
    "    fattore_smussamento = fattore_smussamento * r\n",
    "    elemento = OFFSET([fattore_smussamento,fattore_smussamento,fattore_smussamento])(JOIN([getMap(r,0),getMap(r,altezza)]))\n",
    "    \n",
    "    return elemento\n",
    "\n",
    "def getlawn(x,y):\n",
    "    lawn = TEXTURE(texture_lawn)(CUBOID([x,y,0.1]))\n",
    "    brecciolino = TEXTURE(texture_brecciolino)(T(2)(lawn_size_y/2.0-((window_panel_size*2.0-blank_space*2.0)/2.0))(CUBOID([second_floor_Y,window_panel_size*2.0-blank_space*2.0,0.15])))\n",
    "    base = STRUCT([lawn, brecciolino])\n",
    "    return base\n",
    "\n",
    "lawn = getlawn(lawn_size_x,lawn_size_y)\n",
    "\n",
    "def getknoll(altezza,lunghezza_totale, lunghezza_cima,spessore):\n",
    "    side = (lunghezza_totale-lunghezza_cima)*1.0/2.0\n",
    "    \n",
    "    V1 = [[0,0],[side,altezza],[side+lunghezza_cima,altezza],[lunghezza_totale,0]]\n",
    "    FV = [[0,1],[1,2],[2,3],[3,0]]\n",
    "   \n",
    "    hill = JOIN(STRUCT(MKPOLS((V1,FV))))\n",
    "    hill = T(2)(-(lunghezza_totale/2.0))(R([1,2])(PI/2)(R([2,3])(PI/2)(MULTEXTRUDE(hill)(spessore))))\n",
    "    \n",
    "    return TEXTURE(texture_lawn)(hill)\n",
    "\n",
    "knoll = T([1,2])([facet_Y+facet_thickness,lawn_size_y/2.0])(getknoll(2.5,40,14,second_floor_X))\n",
    "\n",
    "lawn_hill = TEXTURE(texture_lawn)(STRUCT([lawn,knoll]))"
   ]
  },
  {
   "cell_type": "markdown",
   "metadata": {},
   "source": [
    "### Porte e finestre"
   ]
  },
  {
   "cell_type": "markdown",
   "metadata": {},
   "source": [
    "* Realizzazione finestre"
   ]
  },
  {
   "cell_type": "code",
   "execution_count": 7,
   "metadata": {},
   "outputs": [],
   "source": [
    "def hex_material(color, light, trasparence):\n",
    "\n",
    "    def hex_to_rgb(value):\n",
    "        value = value.lstrip('#')\n",
    "        lv = len(value)\n",
    "        return map(lambda x: x/255., list(int(value[i:i + lv // 3], 16) for i in range(0, lv, lv // 3)))\n",
    "\n",
    "    params = hex_to_rgb(color) + [.1] + \\\n",
    "             hex_to_rgb(light) + [trasparence] +\\\n",
    "             hex_to_rgb(light) + [.1] +\\\n",
    "             hex_to_rgb(\"#000000\") + [.1] +\\\n",
    "             [100]\n",
    "\n",
    "    return MATERIAL(params)\n",
    "\n",
    "def getVetro(altezza,larghezza,spessore):\n",
    "    vetro = CUBOID([altezza,spessore,larghezza])\n",
    "    vetro = hex_material(\"#ffffff\", \"#ffffff\", .4)(vetro)\n",
    "    return vetro"
   ]
  },
  {
   "cell_type": "markdown",
   "metadata": {},
   "source": [
    "* Finestra piano terra"
   ]
  },
  {
   "cell_type": "code",
   "execution_count": 8,
   "metadata": {},
   "outputs": [],
   "source": [
    "def getMattoniLaterali():\n",
    "    \n",
    "    MattoneFinestraPiccolo = CUBOID([0.5,0.2,0.3])\n",
    "    MattoneFinestraGrande = CUBOID([0.8,0.2,0.3])\n",
    "    getMattoniLaterali = STRUCT([MattoneFinestraPiccolo,\n",
    "                              T(3)(-0.35)(MattoneFinestraGrande),\n",
    "                              T(3)(-0.35*2)(MattoneFinestraPiccolo),\n",
    "                              T(3)(-0.35*3)(MattoneFinestraGrande),\n",
    "                              T(3)(-0.35*4)(MattoneFinestraPiccolo)\n",
    "                             ])\n",
    "    return TEXTURE(texture_pietraP0)(getMattoniLaterali)\n",
    "\n",
    "def getMattoniLaterali2():\n",
    "    \n",
    "    MattoneFinestraPiccolo = CUBOID([0.5,0.2,0.3])\n",
    "    MattoneFinestraGrande = CUBOID([0.8,0.2,0.3])\n",
    "    getMattoniLaterali = STRUCT([T(3)(0.35)(MattoneFinestraGrande),\n",
    "                              MattoneFinestraPiccolo,\n",
    "                              T(3)(-0.35)(MattoneFinestraGrande),\n",
    "                              T(3)(-0.35*2)(MattoneFinestraPiccolo),\n",
    "                              T(3)(-0.35*3)(MattoneFinestraGrande),\n",
    "                              T(3)(-0.35*4)(MattoneFinestraPiccolo),\n",
    "                              T(3)(-0.35*5)(MattoneFinestraGrande)\n",
    "                             ])\n",
    "    return getMattoniLaterali\n",
    "\n",
    "def getFinestrella(lunghezza_pannello_finestra_p0, numero_pannelli):\n",
    "\n",
    "    Finestrella1 = STRUCT([\n",
    "        INSR(PROD)([QUOTE([0,2,-2,(lunghezza_pannello_finestra_p0-2)/2.0]), QUOTE([0,wall_thickness]), QUOTE([3])]),\n",
    "        INSR(PROD)([QUOTE([-2,2]), QUOTE([0,wall_thickness]), QUOTE([0.6,-1.8,0.6])])\n",
    "        ])\n",
    "    \n",
    "    DimensioneSpazioBianco = ((lunghezza_pannello_finestra_p0-2)/2.0)-2\n",
    "    SpazioBianco = CUBOID([DimensioneSpazioBianco,wall_thickness,3])\n",
    "    \n",
    "    Finestrella = LEFT([Finestrella1,SpazioBianco])\n",
    "    \n",
    "    RinghieraFinestrella = T([1,2,3])([2,wall_thickness/2,0.5])(COMP([STRUCT, NN(10)])([COLOR(GRAY)(Cubo_Angoli_Smussati(0.04,2,1)), T(1)(0.2)]))\n",
    "\n",
    "    MattoniLaterali = getMattoniLaterali()\n",
    "\n",
    "    MattoneFinestraPiccolo = CUBOID([0.5,0.2,0.3])\n",
    "    MattoneFinestraGrande = CUBOID([0.8,0.2,0.3])\n",
    "   \n",
    "    MattoniFinestra = TEXTURE(texture_pietraP0)((T([1,2,3])([4,wall_thickness,2])(STRUCT([T([1,3])([0.05,0.05])(MattoniLaterali),\n",
    "                                                              T([1,3])([-2.05,-1.05])(R([1,3])(PI)(MattoniLaterali)),\n",
    "                                                              T([1,3])([-0.5,-0.35*5])(MattoneFinestraGrande),\n",
    "                                                              T([1,3])([-1.35,-0.35*5])(MattoneFinestraGrande),\n",
    "                                                              T([1,3])([-2.25,-0.35*5])(MattoneFinestraGrande),\n",
    "                                                              T([1,3])([-0.5,0.45])(MattoneFinestraGrande),\n",
    "                                                              T([1,3])([-1.35,0.45])(MattoneFinestraGrande),\n",
    "                                                              T([1,3])([-2.25,0.45])(MattoneFinestraGrande)\n",
    "                                                             ]))))\n",
    "    \n",
    "    FinestrellaCompleta = T(1)(((lunghezza_pannello_finestra_p0-2)/2.0)-2)(STRUCT([Finestrella, RinghieraFinestrella, MattoniFinestra]))\n",
    "    \n",
    "    blank_space = ((lunghezza_pannello_finestra_p0-2)/2.0)-2\n",
    "\n",
    "    SpazioBiancop0 = CUBOID([blank_space,wall_thickness,3])\n",
    "\n",
    "    ElementoMuro = FinestrellaCompleta\n",
    "\n",
    "    window = RIGHT([SpazioBiancop0,RIGHT([COMP([STRUCT, NN(numero_pannelli)])([ElementoMuro, T(1)(lunghezza_pannello_finestra_p0)]),SpazioBiancop0])])\n",
    "    \n",
    "    return window"
   ]
  },
  {
   "cell_type": "code",
   "execution_count": 9,
   "metadata": {},
   "outputs": [
    {
     "data": {
      "text/plain": [
       "<pyplasm.xgepy.Hpc; proxy of <Swig Object of type 'std::shared_ptr< Hpc > *' at 0x7f33e10beed0> >"
      ]
     },
     "execution_count": 9,
     "metadata": {},
     "output_type": "execute_result"
    }
   ],
   "source": [
    "VIEW(getFinestrella(6,1))"
   ]
  },
  {
   "cell_type": "markdown",
   "metadata": {},
   "source": [
    "![finestra piano 0](../images/workshop08/piano0_finestra_or.jpg)\n",
    "![finestra piano 0](../images/workshop08/piano0_finestra.png)"
   ]
  },
  {
   "cell_type": "markdown",
   "metadata": {},
   "source": [
    "* Finestra primo piano"
   ]
  },
  {
   "cell_type": "code",
   "execution_count": 10,
   "metadata": {},
   "outputs": [],
   "source": [
    "def getFinestraPrimoPiano (lunghezza_pannello_finestra_p1, altezza_pannello_finestra_p1, numero_pannelli_p1):\n",
    "\n",
    "    Finestra1 = STRUCT([\n",
    "        INSR(PROD)([QUOTE([0,2,-2,(lunghezza_pannello_finestra_p1-2)/2.0]), QUOTE([0,wall_thickness]), QUOTE([6])]),\n",
    "        INSR(PROD)([QUOTE([-2,2]), QUOTE([0,wall_thickness]), QUOTE([0.9,-4.5,0.6])])\n",
    "        ])\n",
    "\n",
    "    blank_space4 = ((lunghezza_pannello_finestra_p1-2)/2.0)-2\n",
    "    SpazioBianco4 = CUBOID([blank_space4,wall_thickness,altezza_pannello_finestra_p1])\n",
    " \n",
    "    SpazioBianco2Sopra = CUBOID([lunghezza_pannello_finestra_p1,wall_thickness,((altezza_pannello_finestra_p1-6)*(2.0/3.0))])\n",
    "    SpazioBianco2Sotto = CUBOID([lunghezza_pannello_finestra_p1,wall_thickness,((altezza_pannello_finestra_p1-6)*(1.0/3.0))])\n",
    "\n",
    "    Finestra = LEFT([Finestra1,CUBOID([blank_space4,wall_thickness,6])])\n",
    "\n",
    "    Vfinestra = [[-0.15,0],[-0.15,6-0.6*2],[2.15,6-0.6*2],[2.15,0]]\n",
    "    FVfinestra = [[0,1],[1,2],[2,3],[3,0]]\n",
    "\n",
    "    ContornoFinestra1 = STRUCT(MKPOLS((Vfinestra,FVfinestra)))\n",
    "    ContornoFinestraA = T([1,3,2])([2-0.05,0.6,0.5])(R([2,3])(PI/2)(MULTEXTRUDE(OFFSET([0.1,0.1])(ContornoFinestra1))(0.1)))\n",
    "    ContornoFinestraB = T([1,3,2])([2-0.1,0.6,0.4])(R([2,3])(PI/2)(MULTEXTRUDE(OFFSET([0.2,0.2])(ContornoFinestra1))(0.2)))\n",
    "    ContornoFinestraC = T([1,3,2])([2-0.15,0.6,0.3])(R([2,3])(PI/2)(MULTEXTRUDE(OFFSET([0.3,0.3])(ContornoFinestra1))(0.3)))\n",
    "\n",
    "    Mensola = TEXTURE(texture_finestre)(STRUCT([TOP([CUBOID([3,0.8,0.1]),CUBOID([3,0.5,0.1])])]))\n",
    "\n",
    "    ContornoFinestra = TEXTURE(texture_finestre)(T(2)(wall_thickness)(STRUCT([ContornoFinestraA,ContornoFinestraB,ContornoFinestraC])))\n",
    "\n",
    "    FinestraCompleta1 = T(1)(((lunghezza_pannello_finestra_p1-2)/2.0)-2)(STRUCT([Finestra,ContornoFinestra]))\n",
    "\n",
    "    Vetro1 = getVetro(2,4.8,0.05)\n",
    "    \n",
    "    larghezza_persiane = 0.15\n",
    "    Vlegno = [[0,0.3],[0,6-0.6*2-larghezza_persiane],[2-larghezza_persiane,6-0.6*2-larghezza_persiane],[2-larghezza_persiane,0.3],[(2-larghezza_persiane)/2.0,0.3], [(2-larghezza_persiane)/2.0,6-0.6*2-larghezza_persiane],[0,1.3],[2-larghezza_persiane,1.3],[0,3.5],[2-larghezza_persiane,3.5]]\n",
    "    FVlegno = [[0,1],[1,2],[2,3],[3,0],[4,5],[6,7],[8,9]]\n",
    "\n",
    "    Legno1 = STRUCT(MKPOLS((Vlegno,FVlegno)))\n",
    "    Legno = TEXTURE(texture_persiane)(T([1,2,3])([larghezza_persiane,0.1,larghezza_persiane])((R([2,3])(PI/2)(MULTEXTRUDE(OFFSET([-larghezza_persiane,-larghezza_persiane])(Legno1))(0.2)))))\n",
    "    Vetro = STRUCT([Vetro1,Legno])\n",
    "\n",
    "    FinestraCompleta2 = STRUCT([FinestraCompleta1, T([1,2,3])([(lunghezza_pannello_finestra_p1-2)/2.0,wall_thickness,0.6])(Vetro), T([1,2,3])([((lunghezza_pannello_finestra_p1-2)/2.0)-0.5,wall_thickness-0.2,0.6-0.2])(Mensola), T([1,2,3])([((lunghezza_pannello_finestra_p1-2)/2.0)+2.5,wall_thickness-0.2,0.6*2+4.8])(R([1,3])(PI)(Mensola))])\n",
    "\n",
    "    FinestraCompleta = T(3)(((altezza_pannello_finestra_p1-6)*(1/3.0)))(STRUCT([FinestraCompleta2, T(3)(6)(SpazioBianco2Sopra),T(3)(-((altezza_pannello_finestra_p1-6)*(1/3.0)))(SpazioBianco2Sotto)]))\n",
    "    \n",
    "    ElementoMuroPiano1 = FinestraCompleta\n",
    "    \n",
    "    MuroPrimoPiano = RIGHT([SpazioBianco4,RIGHT([COMP([STRUCT, NN(numero_pannelli_p1)])([ElementoMuroPiano1, T(1)(lunghezza_pannello_finestra_p1)]),SpazioBianco4])])\n",
    "\n",
    "    return MuroPrimoPiano"
   ]
  },
  {
   "cell_type": "code",
   "execution_count": 11,
   "metadata": {},
   "outputs": [
    {
     "data": {
      "text/plain": [
       "<pyplasm.xgepy.Hpc; proxy of <Swig Object of type 'std::shared_ptr< Hpc > *' at 0x7f33e108ba20> >"
      ]
     },
     "execution_count": 11,
     "metadata": {},
     "output_type": "execute_result"
    }
   ],
   "source": [
    "VIEW(getFinestraPrimoPiano(6,8,1))"
   ]
  },
  {
   "cell_type": "markdown",
   "metadata": {},
   "source": [
    "![finestra piano 1](../images/workshop08/piano1_finestra_or.jpg)\n",
    "![finestra piano 1](../images/workshop08/piano1_finestra.png)"
   ]
  },
  {
   "cell_type": "markdown",
   "metadata": {},
   "source": [
    "* Finestra piano 2"
   ]
  },
  {
   "cell_type": "code",
   "execution_count": 12,
   "metadata": {},
   "outputs": [],
   "source": [
    "def getFinestraSecondoPiano (lunghezza_pannello_finestra_p1, altezza_pannello_finestra_p1, numero_pannelli_p1):\n",
    "\n",
    "    Finestra1 = STRUCT([\n",
    "        INSR(PROD)([QUOTE([0,2,-2,(lunghezza_pannello_finestra_p1-2)/2.0]), QUOTE([0,wall_thickness]), QUOTE([3])]),\n",
    "        INSR(PROD)([QUOTE([-2,2]), QUOTE([0,wall_thickness]), QUOTE([0.6,-1.8,0.6])])\n",
    "        ])\n",
    "\n",
    "    blank_space4 = ((lunghezza_pannello_finestra_p1-2)/2.0)-2\n",
    "    SpazioBianco4 = CUBOID([blank_space4,wall_thickness,altezza_pannello_finestra_p1])\n",
    "\n",
    "    SpazioBianco2Sopra = CUBOID([lunghezza_pannello_finestra_p1,wall_thickness,((altezza_pannello_finestra_p1-3)*(2.0/3.0))])\n",
    "    SpazioBianco2Sotto = CUBOID([lunghezza_pannello_finestra_p1,wall_thickness,((altezza_pannello_finestra_p1-3)*(1.0/3.0))])\n",
    "\n",
    "    Finestra = LEFT([Finestra1,CUBOID([blank_space4,wall_thickness,3])])\n",
    "\n",
    "    Vfinestra = [[0,0],[0,3-0.6*2],[2,3-0.6*2],[2,0]]\n",
    "    FVfinestra = [[0,1],[1,2],[2,3],[3,0]]\n",
    "\n",
    "    ContornoFinestra1 = STRUCT(MKPOLS((Vfinestra,FVfinestra)))\n",
    " \n",
    "    ContornoFinestraC = T([1,3,2])([2-0.2,0.6-0.2,0.1])(R([2,3])(PI/2)(MULTEXTRUDE(OFFSET([0.4,0.4])(ContornoFinestra1))(0.1)))\n",
    "\n",
    "    ContornoFinestra = TEXTURE(texture_pietra)(T(2)(wall_thickness)(STRUCT([ContornoFinestraC])))\n",
    "\n",
    "    FinestraCompleta1 = T(1)(((lunghezza_pannello_finestra_p1-2)/2.0)-2)(STRUCT([Finestra,ContornoFinestra]))\n",
    "\n",
    "    Vetro = getVetro(2,1.8,0.05)\n",
    "\n",
    "    FinestraCompleta2 = STRUCT([FinestraCompleta1, T([1,2,3])([(lunghezza_pannello_finestra_p1-2)/2.0,wall_thickness,0.6])(Vetro)])\n",
    "\n",
    "    FinestraCompleta = T(3)(((altezza_pannello_finestra_p1-3)*(1/3.0)))(STRUCT([FinestraCompleta2, T(3)(3)(SpazioBianco2Sopra),T(3)(-((altezza_pannello_finestra_p1-3)*(1/3.0)))(SpazioBianco2Sotto)]))\n",
    "    \n",
    "    ElementoMuroPiano1 = FinestraCompleta\n",
    "    \n",
    "    window = RIGHT([SpazioBianco4,RIGHT([COMP([STRUCT, NN(numero_pannelli_p1)])([ElementoMuroPiano1, T(1)(lunghezza_pannello_finestra_p1)]),SpazioBianco4])])\n",
    "\n",
    "    return window"
   ]
  },
  {
   "cell_type": "code",
   "execution_count": 13,
   "metadata": {},
   "outputs": [
    {
     "data": {
      "text/plain": [
       "<pyplasm.xgepy.Hpc; proxy of <Swig Object of type 'std::shared_ptr< Hpc > *' at 0x7f33e108bbd0> >"
      ]
     },
     "execution_count": 13,
     "metadata": {},
     "output_type": "execute_result"
    }
   ],
   "source": [
    "VIEW(getFinestraSecondoPiano(6,4,1))"
   ]
  },
  {
   "cell_type": "markdown",
   "metadata": {},
   "source": [
    "![finestra piano 2](../images/workshop08/piano2_finestra_or.jpg)\n",
    "![finestra piano 2](../images/workshop08/piano2_finestra.png)"
   ]
  },
  {
   "cell_type": "markdown",
   "metadata": {},
   "source": [
    "* Finestra a forma di arco"
   ]
  },
  {
   "cell_type": "code",
   "execution_count": 14,
   "metadata": {},
   "outputs": [],
   "source": [
    "# Finestra del secondo piano a forma di arco\n",
    "\n",
    "def getFinestraArco(lunghezza,spessore,altezza):    \n",
    "    Parete = CUBOID([spessore,lunghezza,altezza])\n",
    "    \n",
    "    diametro_arco = lunghezza*0.70\n",
    "    Arco = T([1,2,3])([spessore*1.5,lunghezza/2.0,altezza*0.05])(R([1,3])(PI/2)(JOIN([T(2)(-diametro_arco*0.5)(getMapSemiarco(diametro_arco,0)),T(2)(-diametro_arco*0.5)(getMapSemiarco(diametro_arco,spessore*2))])))\n",
    "    \n",
    "    Finestra1 = DIFFERENCE([Parete,Arco])\n",
    "    \n",
    "    Pilastro = CUBOID([spessore,diametro_arco/8.0,altezza])\n",
    "\n",
    "    Vetro = T(1)(spessore/2.0)(getVetro(0.05,altezza,lunghezza))\n",
    "    \n",
    "    Finestra = STRUCT([Finestra1,T(2)(lunghezza*0.3)(Pilastro),T(2)(lunghezza*0.7-diametro_arco/8.0)(Pilastro),Vetro])\n",
    "    \n",
    "    return(Finestra)"
   ]
  },
  {
   "cell_type": "code",
   "execution_count": 15,
   "metadata": {},
   "outputs": [
    {
     "data": {
      "text/plain": [
       "<pyplasm.xgepy.Hpc; proxy of <Swig Object of type 'std::shared_ptr< Hpc > *' at 0x7f33e108b750> >"
      ]
     },
     "execution_count": 15,
     "metadata": {},
     "output_type": "execute_result"
    }
   ],
   "source": [
    "VIEW(getFinestraArco(8,0.3,4))"
   ]
  },
  {
   "cell_type": "markdown",
   "metadata": {},
   "source": [
    "![finestra piano 2](../images/workshop08/piano2_finestra_arco.jpg)\n",
    "![finestra piano 2](../images/workshop08/piano2_finestra_arco.png)"
   ]
  },
  {
   "cell_type": "markdown",
   "metadata": {},
   "source": [
    "* Porta retro"
   ]
  },
  {
   "cell_type": "code",
   "execution_count": 16,
   "metadata": {},
   "outputs": [],
   "source": [
    "# Finestra e porta retro\n",
    "\n",
    "def getPorta (lunghezza_pannello_porta_p1, altezza_pannello_porta_p1):\n",
    "   \n",
    "    Porta1 = STRUCT([\n",
    "        INSR(PROD)([QUOTE([0,2,-2,(lunghezza_pannello_porta_p1-2)/2.0]), QUOTE([0,wall_thickness]), QUOTE([altezza_pannello_porta_p1])]),\n",
    "        INSR(PROD)([QUOTE([-2,2]), QUOTE([0,wall_thickness]), QUOTE([-4.8,altezza_pannello_porta_p1-4.8])])\n",
    "        ])\n",
    "    \n",
    "    blank_space = ((lunghezza_pannello_porta_p1-2)/2.0)-2\n",
    "    SpazioBianco = CUBOID([blank_space,wall_thickness,altezza_pannello_porta_p1])\n",
    "    \n",
    "    Porta = LEFT([Porta1,SpazioBianco])\n",
    "\n",
    "    Vporta = [[0,0],[0,6-0.6*2],[2,6-0.6*2],[2,0]]\n",
    "    FVporta = [[0,1],[1,2],[2,3]]\n",
    "\n",
    "    ContornoPorta1 = STRUCT(MKPOLS((Vporta,FVporta)))\n",
    "    ContornoPortaA = T([1,2])([2-0.05,0.5])(R([2,3])(PI/2)(MULTEXTRUDE(OFFSET([0.1,0.1])(ContornoPorta1))(0.1)))\n",
    "    ContornoPortaB = T([1,2])([2-0.1,0.4])(R([2,3])(PI/2)(MULTEXTRUDE(OFFSET([0.2,0.2])(ContornoPorta1))(0.2)))\n",
    "    ContornoPortaC = T([1,2])([2-0.15,0.3])(R([2,3])(PI/2)(MULTEXTRUDE(OFFSET([0.3,0.3])(ContornoPorta1))(0.3)))\n",
    "\n",
    "    Mensola = TEXTURE(texture_finestre)(STRUCT([TOP([CUBOID([3,0.8,0.1]),CUBOID([3,0.5,0.1])])]))\n",
    "\n",
    "    ContornoPorta = TEXTURE(texture_finestre)(T(2)(wall_thickness)(STRUCT([ContornoPortaA,ContornoPortaB,ContornoPortaC])))\n",
    "\n",
    "    PortaCompleta1 = T(1)(((lunghezza_pannello_porta_p1-2)/2.0)-2)(STRUCT([Porta,ContornoPorta,T([1,2])([6,wall_thickness])(R([1,2])(-PI)(ContornoPorta))]))\n",
    "\n",
    "    PortaCompleta = STRUCT([PortaCompleta1, T([1,2,3])([((lunghezza_pannello_porta_p1-2)/2.0)+2.5,wall_thickness-0.2,0.6+4.8])(R([1,3])(PI)(Mensola))])\n",
    "\n",
    "    return PortaCompleta"
   ]
  },
  {
   "cell_type": "code",
   "execution_count": 17,
   "metadata": {
    "scrolled": true
   },
   "outputs": [
    {
     "data": {
      "text/plain": [
       "<pyplasm.xgepy.Hpc; proxy of <Swig Object of type 'std::shared_ptr< Hpc > *' at 0x7f33e10496f0> >"
      ]
     },
     "execution_count": 17,
     "metadata": {},
     "output_type": "execute_result"
    }
   ],
   "source": [
    "VIEW(getPorta(6,8))"
   ]
  },
  {
   "cell_type": "markdown",
   "metadata": {},
   "source": [
    "![porta piano 1](../images/workshop08/piano1_porta.jpg)\n",
    "![porta piano 1](../images/workshop08/piano1_porta.png)"
   ]
  },
  {
   "cell_type": "markdown",
   "metadata": {},
   "source": [
    "* Angolari dell'edificio"
   ]
  },
  {
   "cell_type": "code",
   "execution_count": 18,
   "metadata": {},
   "outputs": [],
   "source": [
    "# Ritorna 4 angolari che chiudono un rettangolo di dimensione sideAXsideB\n",
    "\n",
    "def getAngolari(sideA,sideB,altezza):\n",
    "    \n",
    "    AngolareMattoni = UNION([(STRUCT([T([1,2,3])([-0.2,-0.2,altezza])(getMattoniLaterali2()),T(2)(-0.2)(R([1,2])(PI/2)(T([1,2,3])([0,0,altezza])(getMattoniLaterali2())))]))])\n",
    "    Angolari4 = STRUCT([AngolareMattoni,\n",
    "                    T([1,2])([sideA+blank_space*2,0])(R([1,2])(PI/2)(AngolareMattoni)),\n",
    "                    T([1,2])([0,sideB+blank_space*2])(R([1,2])(-PI/2)(AngolareMattoni)),\n",
    "                    T([2,1])([sideB+blank_space*2,sideA+blank_space*2])(R([1,2])(PI)(AngolareMattoni))])\n",
    "    return TEXTURE(texture_pietraP0)(Angolari4)"
   ]
  },
  {
   "cell_type": "code",
   "execution_count": 19,
   "metadata": {},
   "outputs": [
    {
     "data": {
      "text/plain": [
       "<pyplasm.xgepy.Hpc; proxy of <Swig Object of type 'std::shared_ptr< Hpc > *' at 0x7f33e10497b0> >"
      ]
     },
     "execution_count": 19,
     "metadata": {},
     "output_type": "execute_result"
    }
   ],
   "source": [
    "VIEW(getAngolari(1,2,2))"
   ]
  },
  {
   "cell_type": "markdown",
   "metadata": {},
   "source": [
    "![spigoli](../images/workshop08/spigoli.jpg)\n",
    "![spigoli](../images/workshop08/spigoli.png)"
   ]
  },
  {
   "cell_type": "markdown",
   "metadata": {},
   "source": [
    "### Struttura piano 0"
   ]
  },
  {
   "cell_type": "code",
   "execution_count": 20,
   "metadata": {},
   "outputs": [],
   "source": [
    "MuroLaterale = getFinestrella(window_panel_size,side_windows_number)\n",
    "\n",
    "DueMuriLaterali = STRUCT([T([2,3])([wall_thickness,3])(R([2,3])(PI)(MuroLaterale)), T(2)(front_villa_size+2*blank_space-wall_thickness)(MuroLaterale)])\n",
    "\n",
    "#MuroPosteriore = T(1)(wall_thickness)(R([1,2])(PI/2)(getFinestrella(window_panel_size,rear_windows_number)))\n",
    "ElementoMuroPosteriore = T(1)(wall_thickness)(R([1,2])(PI/2)(getFinestrella(window_panel_size,2)))\n",
    "MuroPosteriore = STRUCT([ElementoMuroPosteriore, T(2)(window_panel_size*4.0)(ElementoMuroPosteriore)])\n",
    "\n",
    "ElementoMuroFrontale = getFinestrella(window_panel_size,1)\n",
    "\n",
    "MuroFrontale = T([1,2,3])([side_villa_size*2.0+blank_space*2-wall_thickness,-blank_space*2-(-window_panel_size+8),3])(R([1,3])(PI)(T(1)(side_villa_size)(T(2)(2)(COMP([STRUCT, NN(2)])([R([1,2])(PI/2)(ElementoMuroFrontale), T(2)(front_villa_size-(front_villa_size*1.0/rear_windows_number))])))))\n",
    "\n",
    "PerimetroPiano0 = STRUCT([DueMuriLaterali, MuroPosteriore, MuroFrontale])\n",
    "\n",
    "# Base Piano 0\n",
    "PavimentoP0 = CUBOID([side_villa_size+blank_space*2.0+0.1,front_villa_size+blank_space*2.0+0.1,wall_thickness])\n",
    "\n",
    "# Tetto Piano 0\n",
    "SoffittoP0 = TEXTURE(texture_pietra)(TOP([T([1,2,3])([-0.25,-0.25,3])((CUBOID([side_villa_size+0.5+blank_space*2.0,front_villa_size+0.5+blank_space*2.0,0.3]))), T([1,2])([-0.1,-0.1])(CUBOID([side_villa_size+0.2+blank_space*2.0,front_villa_size+0.2+blank_space*2.0,wall_thickness*2]))]))\n",
    "\n",
    "# Foro per scale tra piano 0 e primo piano\n",
    "ForoScalePO = COLOR(RED)(T([1,2,3])([window_panel_size,window_panel_size*2.0+blank_space-4,3])(CUBOID([window_panel_size+blank_space*2.0,4,0.3+wall_thickness*2])))\n",
    "SoffittoP0 = DIFFERENCE([SoffittoP0,ForoScalePO])\n",
    "SoffittoP0 = TEXTURE(texture_pietra)(DIFFERENCE([SoffittoP0,T(2)((front_villa_size+blank_space*2.0)-(window_panel_size*4.0-blank_space*2.0-wall_thickness))(ForoScalePO)]))\n",
    "\n",
    "# Muro davanti le scale - piano 0\n",
    "MuroDavantiScale0 = T([1,2])([side_villa_size+blank_space*2.0-0.2,front_villa_size*1.0/rear_windows_number])((TEXTURE(texture_pietraP0)(CUBOID([0.2,front_villa_size-2*window_panel_size,3]))))\n",
    "\n",
    "Angolari4 = getAngolari(side_villa_size,front_villa_size,2)\n",
    "\n",
    "Piano01 = STRUCT([PerimetroPiano0, MuroDavantiScale0, Angolari4])\n",
    "\n",
    "Piano0 = TOP([PavimentoP0,TOP([Piano01,SoffittoP0])])"
   ]
  },
  {
   "cell_type": "code",
   "execution_count": 21,
   "metadata": {
    "scrolled": true
   },
   "outputs": [
    {
     "data": {
      "text/plain": [
       "<pyplasm.xgepy.Hpc; proxy of <Swig Object of type 'std::shared_ptr< Hpc > *' at 0x7f33e1065210> >"
      ]
     },
     "execution_count": 21,
     "metadata": {},
     "output_type": "execute_result"
    }
   ],
   "source": [
    "VIEW(Piano0)"
   ]
  },
  {
   "cell_type": "markdown",
   "metadata": {},
   "source": [
    "![struttura](../images/workshop08/piano0_struttura_lato1.png)\n",
    "![struttura](../images/workshop08/piano0_struttura_lato2.png)"
   ]
  },
  {
   "cell_type": "code",
   "execution_count": 22,
   "metadata": {},
   "outputs": [
    {
     "data": {
      "text/plain": [
       "<pyplasm.xgepy.Hpc; proxy of <Swig Object of type 'std::shared_ptr< Hpc > *' at 0x7f33e1065330> >"
      ]
     },
     "execution_count": 22,
     "metadata": {},
     "output_type": "execute_result"
    }
   ],
   "source": [
    "VIEW(STRUCT([TOP([lawn,Piano0])]))"
   ]
  },
  {
   "cell_type": "markdown",
   "metadata": {},
   "source": [
    "![struttura](../images/workshop08/piano0.png)"
   ]
  },
  {
   "cell_type": "markdown",
   "metadata": {},
   "source": [
    "### Struttura piano 1"
   ]
  },
  {
   "cell_type": "code",
   "execution_count": 23,
   "metadata": {},
   "outputs": [],
   "source": [
    "# Piano 1\n",
    "\n",
    "SpazioBianco4 = CUBOID([blank_space,wall_thickness,first_floor_height])\n",
    "\n",
    "MuroLateraleP1 = getFinestraPrimoPiano(window_panel_size,first_floor_height,side_windows_number)\n",
    "\n",
    "DueMuriLateraliP1 = STRUCT([T([2,1])([wall_thickness,side_villa_size+2.0*blank_space])(R([1,2])(PI)(MuroLateraleP1)), T([3,2])([0,front_villa_size+blank_space*2.0-wall_thickness])(MuroLateraleP1)])\n",
    "\n",
    "#MuroPosterioreP1 = T(1)(wall_thickness)(R([1,2])(-3*PI/2)(getFinestraPrimoPiano(window_panel_size,first_floor_height,rear_windows_number)))\n",
    "ElementoMuroPosterioreP1 = T(1)(wall_thickness)(R([1,2])(-3*PI/2)(getFinestraPrimoPiano(window_panel_size,first_floor_height,2)))\n",
    "MuroPosterioreP1 = STRUCT([ElementoMuroPosterioreP1, T(2)(window_panel_size*4.0)(ElementoMuroPosterioreP1)])\n",
    "\n",
    "ElementoMuroP1 = getFinestraPrimoPiano(window_panel_size,first_floor_height,1)\n",
    "MuroFrontaleP1 = T([1,2])([side_villa_size+2.0*blank_space-wall_thickness,window_panel_size+2.0*blank_space])(COMP([STRUCT, NN(2)])([R([1,2])(-PI/2)(ElementoMuroP1), T(2)(front_villa_size-window_panel_size)]))\n",
    "\n",
    "SoffittoP1 = CUBOID([side_villa_size+blank_space*2,front_villa_size+blank_space*2.0,wall_thickness])\n",
    "ForoPerSoffitto = COLOR(RED)(T([1,2])([wall_thickness,window_panel_size*2.0+blank_space])(CUBOID([side_villa_size-window_panel_size*2.0,front_villa_size-window_panel_size*4.0,wall_thickness])))\n",
    "SoffittoP1 = DIFFERENCE([SoffittoP1,ForoPerSoffitto])\n",
    "\n",
    "# Foro per scale tra piano 0 e primo piano\n",
    "ForoScaleP1 = COLOR(RED)(T([1,2])([window_panel_size,window_panel_size*2.0+blank_space-4])(CUBOID([window_panel_size+blank_space*2.0,4,0.3+wall_thickness*2])))\n",
    "PavimentoP1 = CUBOID([side_villa_size+blank_space*2,front_villa_size+blank_space*2.0,0.1])\n",
    "PavimentoP1 = DIFFERENCE([PavimentoP1,ForoScaleP1])\n",
    "PavimentoP1 = TEXTURE(texture_pavimentoP1)(DIFFERENCE([PavimentoP1,T(2)((front_villa_size+blank_space*2.0)-(window_panel_size*4.0-blank_space*2.0-wall_thickness))(ForoScaleP1)]))\n",
    "\n",
    "\n",
    "Piano11 = STRUCT([DueMuriLateraliP1, MuroPosterioreP1, MuroFrontaleP1])\n",
    "\n",
    "Finestra = getFinestraPrimoPiano(6,first_floor_height,1)\n",
    "Porta = getPorta(6,first_floor_height)\n",
    "Retro = R([1,2])(-3*PI/2)(STRUCT([Finestra,T(1)(4)(Porta),T(1)(8)(Finestra)]))\n",
    "\n",
    "Piano1 = STRUCT([TOP([PavimentoP1,TOP([Piano11,SoffittoP1])]),T([1,2,3])([wall_thickness,(window_panel_size+blank_space)*2.0,0.1])(Retro)])"
   ]
  },
  {
   "cell_type": "code",
   "execution_count": 24,
   "metadata": {},
   "outputs": [
    {
     "data": {
      "text/plain": [
       "<pyplasm.xgepy.Hpc; proxy of <Swig Object of type 'std::shared_ptr< Hpc > *' at 0x7f33e1065f30> >"
      ]
     },
     "execution_count": 24,
     "metadata": {},
     "output_type": "execute_result"
    }
   ],
   "source": [
    "VIEW((Piano1))"
   ]
  },
  {
   "cell_type": "markdown",
   "metadata": {},
   "source": [
    "![struttura](../images/workshop08/piano1_struttura_lato1.png)\n",
    "![struttura](../images/workshop08/piano1_struttura_lato2.png)"
   ]
  },
  {
   "cell_type": "markdown",
   "metadata": {},
   "source": [
    "### Struttura piano 2"
   ]
  },
  {
   "cell_type": "code",
   "execution_count": 25,
   "metadata": {},
   "outputs": [],
   "source": [
    "# Piano 2\n",
    "\n",
    "blank_space5 = ((window_panel_size-2)/2.0)-2\n",
    "SpazioBianco5 = CUBOID([blank_space,wall_thickness,first_floor_height])\n",
    "\n",
    "MuroLateraleP2 = getFinestraSecondoPiano(window_panel_size,first_floor_height*0.4,side_windows_number-1)\n",
    "\n",
    "DueMuriLateraliP2 = STRUCT([T([2,1])([wall_thickness,(side_villa_size+2.0*blank_space5)-window_panel_size])(R([1,2])(PI)(MuroLateraleP2)),\n",
    "                            T([3,2])([0,front_villa_size+blank_space5*2.0-wall_thickness])(MuroLateraleP2)])\n",
    "\n",
    "ElementoMuroPosterioreP2 = T(1)(wall_thickness)(R([1,2])(-3*PI/2)(getFinestraSecondoPiano(window_panel_size,first_floor_height*0.4,2)))\n",
    "MuroPosterioreP2 = STRUCT([ElementoMuroPosterioreP2, T(2)(window_panel_size*4.0)(ElementoMuroPosterioreP2)])\n",
    "\n",
    "ElementoMuroP2 = getFinestraSecondoPiano(window_panel_size,first_floor_height,1)\n",
    "ElementoMuroP1 = getFinestraPrimoPiano(window_panel_size,first_floor_height*0.6,1)\n",
    "\n",
    "Tramezzo = T([2,1])([window_panel_size+blank_space5*2.0-wall_thickness,side_villa_size-window_panel_size])(CUBOID([window_panel_size+blank_space5*2,wall_thickness,first_floor_height*0.6+wall_thickness]))\n",
    "DueTramezzi = STRUCT([Tramezzo,T(2)(side_villa_size-blank_space5*2.0+wall_thickness)(Tramezzo)])\n",
    "\n",
    "MuroFrontaleP21 = T([1,2])([side_villa_size+2.0*blank_space5-wall_thickness,window_panel_size+2.0*blank_space5])(COMP([STRUCT, NN(2)])([R([1,2])(-PI/2)(ElementoMuroP1), T(2)(front_villa_size-window_panel_size)]))\n",
    "\n",
    "MuroFrontaleP2 = STRUCT([MuroFrontaleP21,\n",
    "                         T([1,2])([side_villa_size-window_panel_size,front_villa_size+blank_space5*2.0-wall_thickness])(ElementoMuroP1),\n",
    "                         T([1,2])([side_villa_size+window_panel_size-blank_space5*6,wall_thickness])(R([1,2])(PI)(ElementoMuroP1))])\n",
    "\n",
    "Arco = getFinestraArco(front_villa_size-window_panel_size*4.0-blank_space5*2.0,wall_thickness,first_floor_height*0.4)\n",
    "FinestraArco = T(2)((window_panel_size+blank_space)*2.0)(Arco)\n",
    "\n",
    "PavimentoP2 = CUBOID([side_villa_size+blank_space*2,front_villa_size+blank_space*2.0,0.1])\n",
    "ForoPerPavimento = COLOR(RED)(T([1,2])([wall_thickness,window_panel_size*2.0+blank_space])(CUBOID([side_villa_size-window_panel_size*2.0,front_villa_size-window_panel_size*4.0,wall_thickness])))\n",
    "PavimentoP2 = TEXTURE(texture_pavimentoP2)(DIFFERENCE([PavimentoP2,ForoPerPavimento]))\n",
    "\n",
    "SoffittoP2_1 = T(3)(first_floor_height*0.4)(CUBOID([side_villa_size-window_panel_size,front_villa_size+blank_space*2.0,wall_thickness]))\n",
    "SoffittoP2_2 = T([1,2,3])([side_villa_size-window_panel_size,0,first_floor_height*0.6])(CUBOID([window_panel_size+blank_space*2.0,window_panel_size+blank_space*2.0,wall_thickness]))\n",
    "SoffittoP2_3 = T(2)(front_villa_size-window_panel_size)(SoffittoP2_2)\n",
    "#SoffittoP2_4 = T([1,3])([side_villa_size-window_panel_size,first_floor_height*0.4])(CUBOID([wall_thickness,front_villa_size+blank_space5*2.0,first_floor_height*0.6-first_floor_height*0.4+wall_thickness]))\n",
    "SoffittoP2_41 = T([1,3])([side_villa_size-window_panel_size,first_floor_height*0.4])(CUBOID([wall_thickness,window_panel_size+blank_space*2.0,first_floor_height*0.6-first_floor_height*0.4+wall_thickness]))\n",
    "SoffittoP2_4 = STRUCT([SoffittoP2_41, T(2)(side_villa_size+window_panel_size)(SoffittoP2_41)])\n",
    "SoffittoP2_5 = T([1,2])([side_villa_size-window_panel_size,window_panel_size+blank_space*2])(CUBOID([wall_thickness,front_villa_size-window_panel_size*2.0-blank_space*2.0,first_floor_height*0.4+wall_thickness]))\n",
    "\n",
    "SoffittoP2 = STRUCT([SoffittoP2_1,SoffittoP2_2,SoffittoP2_3,SoffittoP2_4,SoffittoP2_5])\n",
    "\n",
    "\n",
    "Piano2 = STRUCT([PavimentoP2,DueMuriLateraliP2, MuroPosterioreP2, MuroFrontaleP2, SoffittoP2, DueTramezzi, FinestraArco])"
   ]
  },
  {
   "cell_type": "code",
   "execution_count": 26,
   "metadata": {},
   "outputs": [
    {
     "data": {
      "text/plain": [
       "<pyplasm.xgepy.Hpc; proxy of <Swig Object of type 'std::shared_ptr< Hpc > *' at 0x7f33e1074c30> >"
      ]
     },
     "execution_count": 26,
     "metadata": {},
     "output_type": "execute_result"
    }
   ],
   "source": [
    "VIEW(Piano2)"
   ]
  },
  {
   "cell_type": "markdown",
   "metadata": {},
   "source": [
    "![struttura](../images/workshop08/piano2_struttura_lato1.png)\n",
    "![struttura](../images/workshop08/piano2_struttura_lato2.png)"
   ]
  },
  {
   "cell_type": "markdown",
   "metadata": {},
   "source": [
    "### Struttura completa"
   ]
  },
  {
   "cell_type": "code",
   "execution_count": 27,
   "metadata": {},
   "outputs": [
    {
     "data": {
      "text/plain": [
       "<pyplasm.xgepy.Hpc; proxy of <Swig Object of type 'std::shared_ptr< Hpc > *' at 0x7f33e1049f30> >"
      ]
     },
     "execution_count": 27,
     "metadata": {},
     "output_type": "execute_result"
    }
   ],
   "source": [
    "texture_beige = 'texture/ivory.jpg'\n",
    "VIEW(STRUCT([TOP([TOP([lawn,Piano0]),TEXTURE(texture_beige)(Piano1)]),T([1,2,3])\n",
    "             ([second_floor_X,second_floor_Y,second_floor_height+0.1])(TEXTURE(texture_beige)(Piano2))]))"
   ]
  },
  {
   "cell_type": "markdown",
   "metadata": {},
   "source": [
    "![struttura](../images/workshop08/struttura_lato1.png)\n",
    "![struttura](../images/workshop08/struttura_lato2.png)"
   ]
  },
  {
   "cell_type": "markdown",
   "metadata": {},
   "source": [
    "### Scalinate"
   ]
  },
  {
   "cell_type": "markdown",
   "metadata": {},
   "source": [
    "* Scalinata posteriore"
   ]
  },
  {
   "cell_type": "code",
   "execution_count": 28,
   "metadata": {},
   "outputs": [],
   "source": [
    "# Scalinata posteriore di 12 gradini\n",
    "\n",
    "def getScalinoPosteriore(l,altezza,profondita):\n",
    "    elemento = CUBOID([l,profondita,altezza])\n",
    "    return elemento\n",
    "\n",
    "def getScalinataPosteriore(altezza,larghezza,numero_gradini,profondita_scala,lunghezza_cima,altezza_bordo,altezza_cima_dx,altezza_cima_sx):\n",
    "        \n",
    "    profondita_gradino = profondita_scala*1.0/numero_gradini\n",
    "    altezza_scalino = altezza*1.0/numero_gradini\n",
    "    \n",
    "    profondita_scala = numero_gradini*profondita_gradino\n",
    "    scalini = [T(3)(altezza_scalino*i)(getScalinoPosteriore(larghezza*0.8,altezza_scalino,profondita_scala-(profondita_gradino*i))) for i in np.arange(numero_gradini)]\n",
    "    rampa = [T(3)(altezza_scalino*i)(getScalinoPosteriore(larghezza*0.1,altezza_bordo+altezza_scalino,profondita_scala-(profondita_gradino*i))) for i in np.arange(numero_gradini)]\n",
    "    \n",
    "    scalini = STRUCT(scalini)\n",
    "    rampa = JOIN(STRUCT(rampa))\n",
    "    \n",
    "    cima1 = CUBOID([larghezza*0.8,lunghezza_cima,altezza])\n",
    "    cima_bordo_sx = CUBOID([larghezza*0.1,lunghezza_cima,altezza+altezza_cima_sx])\n",
    "    cima_bordo_dx = CUBOID([larghezza*0.1,lunghezza_cima,altezza+altezza_cima_dx])\n",
    "    \n",
    "    cima = STRUCT([RIGHT([cima_bordo_sx,RIGHT([cima1,cima_bordo_dx])])])\n",
    "    \n",
    "    scalinata1 = STRUCT([RIGHT([rampa,RIGHT([scalini,rampa])])])\n",
    "    scalinata = T(2)(-larghezza/2.0)(R([1,2])(PI/2)(STRUCT([UP([cima,scalinata1])])))\n",
    "    return scalinata\n",
    "\n",
    "Scalinata_posteriore = getScalinataPosteriore(floor_height_0,window_panel_size*2.0-blank_space*2.0,13,6.5,2,1,1,1)"
   ]
  },
  {
   "cell_type": "code",
   "execution_count": 29,
   "metadata": {
    "scrolled": true
   },
   "outputs": [
    {
     "data": {
      "text/plain": [
       "<pyplasm.xgepy.Hpc; proxy of <Swig Object of type 'std::shared_ptr< Hpc > *' at 0x7f33e1080b10> >"
      ]
     },
     "execution_count": 29,
     "metadata": {},
     "output_type": "execute_result"
    }
   ],
   "source": [
    "VIEW(getScalinataPosteriore(20,10,20,30,5,1,1,1))"
   ]
  },
  {
   "cell_type": "markdown",
   "metadata": {},
   "source": [
    "![scalinata posteriore](../images/workshop08/scalinata_lato1.png)"
   ]
  },
  {
   "cell_type": "code",
   "execution_count": 30,
   "metadata": {},
   "outputs": [],
   "source": [
    "# Scalinata frontale di 6 gradini# Scalin \n",
    "\n",
    "def Scalino(r,altezza):\n",
    "    elemento = JOIN([T(2)(-r*0.5)(getMapSemiarco(r,0)),T(2)(-r*0.5)(getMapSemiarco(r,altezza))])\n",
    "    \n",
    "    return elemento\n",
    "\n",
    "def getScalinata(r,altezza_totale):\n",
    "    \n",
    "    altezza_scalino = altezza_totale/6.0\n",
    "    \n",
    "    scalino_base = Scalino(r,altezza_scalino)\n",
    "    \n",
    "    Scalinata1 = T(3)(altezza_scalino*5.0)(STRUCT([\n",
    "                        scalino_base,\n",
    "                        T(3)(-altezza_scalino)(S([1,2])([1.15,1.15])(scalino_base)),\n",
    "                        T(3)(-2*altezza_scalino)(S([1,2])([1.3,1.3])(scalino_base)),\n",
    "                        T(3)(-3*altezza_scalino)(S([1,2])([1.45,1.45])(scalino_base)),\n",
    "                        T(3)(-4*altezza_scalino)(S([1,2])([1.6,1.6])(scalino_base)),\n",
    "                        T(3)(-5*altezza_scalino)(S([1,2])([1.75,1.75])(scalino_base)),\n",
    "                        ]))\n",
    "\n",
    "    Scalinata = TEXTURE(texture_pietra)(Scalinata1)\n",
    "    \n",
    "    return Scalinata\n",
    "\n",
    "Scalinata = getScalinata(front_staircase_radius,front_staircase_height)"
   ]
  },
  {
   "cell_type": "code",
   "execution_count": 31,
   "metadata": {},
   "outputs": [
    {
     "data": {
      "text/plain": [
       "<pyplasm.xgepy.Hpc; proxy of <Swig Object of type 'std::shared_ptr< Hpc > *' at 0x7f33e10807e0> >"
      ]
     },
     "execution_count": 31,
     "metadata": {},
     "output_type": "execute_result"
    }
   ],
   "source": [
    "VIEW(getScalinata(8,2))"
   ]
  },
  {
   "cell_type": "markdown",
   "metadata": {},
   "source": [
    "![scalinata anteriore](../images/workshop08/scalinata_lato2.png)"
   ]
  },
  {
   "cell_type": "code",
   "execution_count": 32,
   "metadata": {},
   "outputs": [
    {
     "data": {
      "text/plain": [
       "<pyplasm.xgepy.Hpc; proxy of <Swig Object of type 'std::shared_ptr< Hpc > *' at 0x7f33e1080a20> >"
      ]
     },
     "execution_count": 32,
     "metadata": {},
     "output_type": "execute_result"
    }
   ],
   "source": [
    "VIEW(STRUCT([TOP([TOP([lawn,Piano0]),Piano1]),\n",
    "             T([1,2,3])([second_floor_X,second_floor_Y,second_floor_height+0.1])(Piano2),\n",
    "             T([1,2,3])([facet_Y+facet_thickness,lawn_size_y/2.0,floor_height_0-front_staircase_height])(Scalinata),\n",
    "             T([1,2])([second_floor_X,lawn_size_y/2.0])(Scalinata_posteriore)]))"
   ]
  },
  {
   "cell_type": "markdown",
   "metadata": {},
   "source": [
    "![scalinata anteriore](../images/workshop08/facciata_anteriore.png)\n",
    "![scalinata posteriore](../images/workshop08/facciata_posteriore.png)"
   ]
  },
  {
   "cell_type": "markdown",
   "metadata": {},
   "source": [
    "### Facciata anteriore"
   ]
  },
  {
   "cell_type": "code",
   "execution_count": 33,
   "metadata": {},
   "outputs": [],
   "source": [
    "def getColonneMattoncini(spessore,larghezza,distanza_tra_colonne,altezza_colonna,numero_mattoncini):\n",
    "    \n",
    "    altezza_mattoncino = (altezza_colonna*1.0/numero_mattoncini)-0.15\n",
    "\n",
    "    Mattoncino = CUBOID([spessore,larghezza,altezza_mattoncino])\n",
    "    \n",
    "    BaseColonnaMattoncini = CUBOID([spessore-0.1,larghezza,altezza_colonna])\n",
    "    \n",
    "    ColonnaMattoncini1 = COMP([STRUCT, NN(numero_mattoncini)])([Mattoncino, T(3)(altezza_mattoncino+0.15)])\n",
    "\n",
    "    ColonnaMattoncini = UNION([STRUCT([BaseColonnaMattoncini,ColonnaMattoncini1])])\n",
    "\n",
    "    ColonnaMattoncini4 = COMP([STRUCT, NN(4)])([ColonnaMattoncini, T(2)(distanza_tra_colonne)])\n",
    "\n",
    "    ColonneMattonciniFinite = TEXTURE(texture_pietra)(STRUCT([ColonnaMattoncini,T(2)(larghezza+0.16)(ColonnaMattoncini4),T(2)(distanza_tra_colonne*3.0+larghezza*2.0+0.16*2)(ColonnaMattoncini)]))\n",
    "    \n",
    "    return ColonneMattonciniFinite"
   ]
  },
  {
   "cell_type": "code",
   "execution_count": 34,
   "metadata": {},
   "outputs": [
    {
     "data": {
      "text/plain": [
       "<pyplasm.xgepy.Hpc; proxy of <Swig Object of type 'std::shared_ptr< Hpc > *' at 0x7f33e1080fc0> >"
      ]
     },
     "execution_count": 34,
     "metadata": {},
     "output_type": "execute_result"
    }
   ],
   "source": [
    "VIEW(getColonneMattoncini(3,1.6,5.8,8,22))"
   ]
  },
  {
   "cell_type": "markdown",
   "metadata": {},
   "source": [
    "![mattoncini](../images/workshop08/mattoncini.png)"
   ]
  },
  {
   "cell_type": "code",
   "execution_count": 35,
   "metadata": {},
   "outputs": [],
   "source": [
    "def getColonna(w,h,s):\n",
    "    basis = CUBOID([w, w, w/ 6.0])\n",
    "    trunk = CYLINDER([w / 2.0*0.85, h-(2.0*w/6.0)])(24)\n",
    "    capitel = CUBOID([w, w*1.5+s, w/6.0])\n",
    "    return TOP([TOP([basis, trunk]), capitel])\n",
    "\n",
    "\n",
    "def getColonnato(dm,h,numero_colonne,spazio):\n",
    "    colonnato = STRUCT(NN(numero_colonne)([getColonna(dm,h,spazio),T(2)(spazio+dm)]))\n",
    "    return TEXTURE(texture_pietra)(colonnato)"
   ]
  },
  {
   "cell_type": "code",
   "execution_count": 36,
   "metadata": {},
   "outputs": [
    {
     "data": {
      "text/plain": [
       "<pyplasm.xgepy.Hpc; proxy of <Swig Object of type 'std::shared_ptr< Hpc > *' at 0x7f33e10451e0> >"
      ]
     },
     "execution_count": 36,
     "metadata": {},
     "output_type": "execute_result"
    }
   ],
   "source": [
    "VIEW(getColonnato(0.4,1.2,6,0.6))"
   ]
  },
  {
   "cell_type": "markdown",
   "metadata": {},
   "source": [
    "![colonnato](../images/workshop08/colonnato.png)"
   ]
  },
  {
   "cell_type": "code",
   "execution_count": 37,
   "metadata": {},
   "outputs": [],
   "source": [
    "# Arco di mattoni\n",
    "\n",
    "def ArchSurface(rr,w,h):\n",
    "    x1 = lambda k: rr*cos(k[0])\n",
    "    y1 = lambda k: rr*sin(k[0])\n",
    "    x2 = lambda k: (rr-w)*cos(k[0])\n",
    "    y2 = lambda k: (rr-w)*sin(k[0])\n",
    "    z = lambda k: h\n",
    "    \n",
    "    Circle0 = BEZIER(S1)([CONS([x1,y1,z])])\n",
    "    \n",
    "    Circle1 = BEZIER(S1)([CONS([x2,y2,z])])\n",
    "    \n",
    "    return BEZIER(S2)([Circle0, Circle1])\n",
    "\n",
    "def getArco1(length,w,depth):\n",
    "    def Arch1(angle):\n",
    "        \n",
    "        radius=(length/2)/cos(angle/2)\n",
    "        \n",
    "        domain2D=PROD([T(1)(angle/2)(INTERVALS(PI-angle)(13)),QUOTE([1])])\n",
    "        \n",
    "        domain3D=PROD([domain2D, QUOTE([1])])\n",
    "        \n",
    "        ArchSurf2D_0=ArchSurface(radius,w,0)\n",
    "        \n",
    "        ArchSurf2D_1=ArchSurface(radius,w,depth)\n",
    "        \n",
    "        SolidMap=BEZIER(S3)([ArchSurf2D_0, ArchSurf2D_1])\n",
    "        \n",
    "        return MAP(SolidMap)(domain3D)\n",
    "    \n",
    "    return Arch1\n",
    "\n",
    "def getArco(lunghezza,altezza,profondita):\n",
    "    \n",
    "    Arco = R([1,2])(PI/2)(R([2,3])(-3*PI/2)(getArco1(lunghezza, altezza, profondita)(0.001*PI)))\n",
    "    \n",
    "    return Arco\n",
    "\n",
    "def getArchi(lunghezza,altezza,profondita,numero_archi,spazio_tra_archi):\n",
    "    \n",
    "    Archi = T(2)(lunghezza/2.0)(STRUCT(NN(numero_archi)([getArco(lunghezza,altezza,profondita),T(2)(spazio_tra_archi+lunghezza)])))\n",
    "    \n",
    "    return TEXTURE(texture_pietra)(Archi)"
   ]
  },
  {
   "cell_type": "code",
   "execution_count": 38,
   "metadata": {},
   "outputs": [
    {
     "data": {
      "text/plain": [
       "<pyplasm.xgepy.Hpc; proxy of <Swig Object of type 'std::shared_ptr< Hpc > *' at 0x7f33e10587e0> >"
      ]
     },
     "execution_count": 38,
     "metadata": {},
     "output_type": "execute_result"
    }
   ],
   "source": [
    "VIEW(getArchi(10,2,1.6,3,-2))"
   ]
  },
  {
   "cell_type": "markdown",
   "metadata": {},
   "source": [
    "![archi](../images/workshop08/archi.png)"
   ]
  },
  {
   "cell_type": "code",
   "execution_count": 39,
   "metadata": {},
   "outputs": [],
   "source": [
    "def getCornice(numeroElementiPannello,spessore,larghezza,altezza_base,altezza_decorazione):\n",
    "    \n",
    "    larghezza_pannello = (larghezza*1.0/numeroElementiPannello)*0.7\n",
    "    \n",
    "    larghezza_decorazione = ((larghezza*1.0/numeroElementiPannello)*0.3)/4.0\n",
    "\n",
    "    ElementoPannello1 = COMP([STRUCT, NN(4)])([CUBOID([spessore,larghezza_decorazione,altezza_decorazione]), T(2)(larghezza_decorazione*1.2)])\n",
    "    \n",
    "    BaseElementoPannello = CUBOID([spessore-0.1,larghezza_decorazione*1.2*4-larghezza_decorazione*0.2,altezza_decorazione])\n",
    "\n",
    "    ElementoPannello = STRUCT ([ElementoPannello1,BaseElementoPannello])\n",
    "\n",
    "    ElementoPannello3 = CUBOID([spessore-0.1,larghezza_pannello,altezza_decorazione]) # cubo tra elementi\n",
    "\n",
    "    ElementoPannello4 = STRUCT([ElementoPannello,\n",
    "                        T(2)(larghezza_decorazione*1.2*4-larghezza_decorazione*0.2)(ElementoPannello3),\n",
    "                        T(3)(altezza_decorazione)(CUBOID([spessore,larghezza_pannello+larghezza_decorazione*1.2*4-larghezza_decorazione*0.2,0.2])),\n",
    "                        CUBOID([spessore,larghezza_pannello+larghezza_decorazione*1.2*4-larghezza_decorazione*0.2,0.2]),\n",
    "                        T(3)(-altezza_base)(CUBOID([spessore-0.1,larghezza_pannello+larghezza_decorazione*1.2*4-larghezza_decorazione*0.2,altezza_base]))\n",
    "                        ])\n",
    "\n",
    "    ElementoUltimoPannello = STRUCT([ElementoPannello,\n",
    "                            T(3)(altezza_decorazione)(CUBOID([spessore,larghezza_decorazione*1.2*4-larghezza_decorazione*0.2,0.2])),\n",
    "                            CUBOID([spessore,larghezza_decorazione*1.2*4-larghezza_decorazione*0.2,0.2]),\n",
    "                            T(3)(-altezza_base)(CUBOID([spessore-0.1,larghezza_decorazione*1.2*4-larghezza_decorazione*0.2,altezza_base]))\n",
    "                        ])\n",
    "\n",
    "    ElementoPannelloCompleto1 = COMP([STRUCT, NN(numeroElementiPannello)])([ElementoPannello4, T(2)(larghezza_pannello+larghezza_decorazione*1.2*4-larghezza_decorazione*0.2)])\n",
    "    ElementoPannelloCompleto = T(3)(altezza_base)(STRUCT([ElementoPannelloCompleto1, T(2)(((larghezza_decorazione*1.2*4-larghezza_decorazione*0.2)+larghezza_pannello)*numeroElementiPannello)(ElementoUltimoPannello)]))\n",
    "    \n",
    "    return TEXTURE(texture_pietra)(UNION([ElementoPannelloCompleto]))"
   ]
  },
  {
   "cell_type": "code",
   "execution_count": 40,
   "metadata": {},
   "outputs": [
    {
     "data": {
      "text/plain": [
       "<pyplasm.xgepy.Hpc; proxy of <Swig Object of type 'std::shared_ptr< Hpc > *' at 0x7f33e1058930> >"
      ]
     },
     "execution_count": 40,
     "metadata": {},
     "output_type": "execute_result"
    }
   ],
   "source": [
    "VIEW(getCornice(8,1.6,10,1,1))"
   ]
  },
  {
   "cell_type": "markdown",
   "metadata": {},
   "source": [
    "![cornice](../images/workshop08/cornice.png)"
   ]
  },
  {
   "cell_type": "code",
   "execution_count": 41,
   "metadata": {},
   "outputs": [],
   "source": [
    "# Trinagolo su archi\n",
    "\n",
    "def getTriangolo(lunghezza,altezza,spessore):\n",
    "    punti = [[0,0],[0,lunghezza],[altezza,lunghezza/2.0]]\n",
    "    P = AA(MK)(punti)\n",
    "    S = AA(JOIN)([P[0],P[1],P[2]])\n",
    "    H = JOIN(S)\n",
    "    Triangolo = R([2,3])(PI/2)(MULTEXTRUDE(H)(1.6))\n",
    "\n",
    "    V = [[0,0],[0,0.5],[0.5,0.5],[0.5,1],[1,1],[1,0.5],[1.5,0.5],[1.5,0]]\n",
    "    FV = [[0,1,3,7],[2,3,4,7],[4,5,6,7]]\n",
    "\n",
    "    A = STRUCT(MKPOLS((V,FV)))\n",
    "\n",
    "    V1 = [[0,0],[0,lunghezza],[altezza,lunghezza/2.0]]\n",
    "    FV1 = [[0,1],[1,2],[0,2]]\n",
    "\n",
    "    ContornoTriangolo1 = STRUCT(MKPOLS((V1,FV1)))\n",
    "    ContornoTriangolo = R([2,3])(PI/2)(MULTEXTRUDE(OFFSET([1,0])(ContornoTriangolo1))(2))\n",
    "    ContornoTriangoloGrande = R([2,3])(PI/2)(MULTEXTRUDE(OFFSET([0.2,0])(ContornoTriangolo1))(2.2))\n",
    "    ContornoTriangoloDietro = R([2,3])(PI/2)(MULTEXTRUDE(OFFSET([2,1])(ContornoTriangolo1))(spessore))\n",
    "\n",
    "    TriangoloCompleto = T([1,2])([spessore,0.5])(R([2,3])(-PI/2)(R([1,2])(-PI/2)(STRUCT([Triangolo, \n",
    "                                                                       T(2)(0.8)(ContornoTriangolo),\n",
    "                                                                       T([2,1])([1.2,0.5])(ContornoTriangoloGrande),\n",
    "                                                                       T(3)(-0.5)(ContornoTriangoloDietro)\n",
    "                                                                      ]))))\n",
    "    \n",
    "    return TEXTURE(texture_pareti)(UNION([TriangoloCompleto]))"
   ]
  },
  {
   "cell_type": "code",
   "execution_count": 42,
   "metadata": {},
   "outputs": [
    {
     "data": {
      "text/plain": [
       "<pyplasm.xgepy.Hpc; proxy of <Swig Object of type 'std::shared_ptr< Hpc > *' at 0x7f33e106b330> >"
      ]
     },
     "execution_count": 42,
     "metadata": {},
     "output_type": "execute_result"
    }
   ],
   "source": [
    "VIEW(getTriangolo(26,5,1.6))"
   ]
  },
  {
   "cell_type": "markdown",
   "metadata": {},
   "source": [
    "![frontone](../images/workshop08/frontone1.png)\n",
    "![frontone](../images/workshop08/frontone2.png)"
   ]
  },
  {
   "cell_type": "code",
   "execution_count": 43,
   "metadata": {},
   "outputs": [],
   "source": [
    "ColonneMattoncini = TEXTURE(texture_pietra)(getColonneMattoncini(facet_thickness,2,7.9,12,14))\n",
    "\n",
    "Archi = TEXTURE(texture_pietra)(T([2,3])([2+0.16,7.5])(getArchi(8.3+1.6,2,facet_thickness,3,-2)))\n",
    "\n",
    "Cornicione = TEXTURE(texture_pietra)(T(3)(11)(getCornice(14,facet_thickness,28.1,1.6,1.5)))\n",
    "\n",
    "Triangolo = T(3)(11+1.6+1.5)(getTriangolo(29.05,7,facet_thickness))\n",
    "\n",
    "Colonnato = T([2,1,3])([4.24,facet_thickness/2.0,0.2])(getColonnato(0.5,1.5,9,0.15))\n",
    "Colonnato = STRUCT([Colonnato,T(2)(7.9*2.0)(Colonnato)])\n",
    "\n",
    "Facciata = STRUCT([ColonneMattoncini, Archi, Cornicione, Triangolo, Colonnato])"
   ]
  },
  {
   "cell_type": "code",
   "execution_count": 44,
   "metadata": {},
   "outputs": [
    {
     "data": {
      "text/plain": [
       "<pyplasm.xgepy.Hpc; proxy of <Swig Object of type 'std::shared_ptr< Hpc > *' at 0x7f33e106b300> >"
      ]
     },
     "execution_count": 44,
     "metadata": {},
     "output_type": "execute_result"
    }
   ],
   "source": [
    "VIEW(Facciata)"
   ]
  },
  {
   "cell_type": "markdown",
   "metadata": {},
   "source": [
    "![facciata](../images/workshop08/facciata_frontale.png)"
   ]
  },
  {
   "cell_type": "code",
   "execution_count": 45,
   "metadata": {},
   "outputs": [
    {
     "data": {
      "text/plain": [
       "<pyplasm.xgepy.Hpc; proxy of <Swig Object of type 'std::shared_ptr< Hpc > *' at 0x7f33e106b060> >"
      ]
     },
     "execution_count": 45,
     "metadata": {},
     "output_type": "execute_result"
    }
   ],
   "source": [
    "VIEW(STRUCT([TOP([TOP([lawn,Piano0]),TEXTURE(texture_beige)(Piano1)]),\n",
    "             T([1,2,3])([second_floor_X,second_floor_Y,second_floor_height+0.1])(TEXTURE(texture_beige)(Piano2)),\n",
    "             T([1,2,3])([facet_Y+facet_thickness,lawn_size_y/2.0,floor_height_0-front_staircase_height+0.1])(Scalinata),\n",
    "             T([1,2])([second_floor_X,lawn_size_y/2.0])(Scalinata_posteriore),\n",
    "             T([1,2,3])([facet_Y,facet_X,facet_Z])(Facciata)]))"
   ]
  },
  {
   "cell_type": "markdown",
   "metadata": {},
   "source": [
    "![facciata](../images/workshop08/facciata_frontale1.png)\n",
    "![facciata](../images/workshop08/facciata_frontale2.png)\n",
    "![facciata](../images/workshop08/facciata_frontale3.png)"
   ]
  },
  {
   "cell_type": "markdown",
   "metadata": {},
   "source": [
    "### Tetto"
   ]
  },
  {
   "cell_type": "code",
   "execution_count": 46,
   "metadata": {},
   "outputs": [],
   "source": [
    "def getTetto1(side,altezza):\n",
    "    V1 = [[0,0,-altezza],[0,side,-altezza],[side,0,-altezza],[side,side,-altezza],[side/2.0,side/2.0]]\n",
    "    FV1 = [[0,2,4],[2,3,4]]\n",
    "\n",
    "    Tetto1 = STRUCT(MKPOLS((V1,FV1)))\n",
    "    \n",
    "    Tetto = T(3)(altezza)(STRUCT([Tetto1,R([1,2])(PI)(T([1,2])([-side,-side])(Tetto1))]))\n",
    "    \n",
    "    return TEXTURE(texture_tetto)(Tetto)\n",
    "\n",
    "def getTetto2(sideA,sideB,altezza):\n",
    "    \n",
    "    V1 = [[0,0,-altezza],[0,sideA,-altezza],[sideB,0,-altezza],[sideB,sideA,-altezza],[sideB*0.35,sideA/2.0],[sideB*0.65,sideA/2.0]]\n",
    "\n",
    "    FVa = [[2,3,5]]\n",
    "    FVb = [[1,3],[4,5]]\n",
    "   \n",
    "    TettoA = STRUCT(MKPOLS((V1,FVa)))\n",
    "    TettoB = JOIN(STRUCT(MKPOLS((V1,FVb))))\n",
    "    \n",
    "    Tetto1 = STRUCT([TettoA,TettoB])\n",
    "\n",
    "    Tetto = T(3)(altezza)(STRUCT([Tetto1,R([1,2])(PI)(T([1,2])([-sideB,-sideA])(Tetto1))]))\n",
    "    \n",
    "    return TEXTURE(texture_tetto)(Tetto)\n",
    "\n",
    "def getTetto3(lunghezza,altezza,spessore):\n",
    "    \n",
    "    V1 = [[0,0],[0,lunghezza],[altezza,lunghezza/2.0]]\n",
    "    \n",
    "    FV1 = [[1,2],[0,2]]\n",
    "    \n",
    "    TriangoloPerTetto = STRUCT(MKPOLS((V1,FV1)))\n",
    "    \n",
    "    Tetto = R([1,3])(PI/2)(MULTEXTRUDE(TriangoloPerTetto)(spessore))\n",
    "    \n",
    "    return TEXTURE(texture_tetto)(Tetto)"
   ]
  },
  {
   "cell_type": "code",
   "execution_count": 49,
   "metadata": {},
   "outputs": [],
   "source": [
    "side = window_panel_size + blank_space*2.0\n",
    "TettoQuadrato = JOIN(getTetto1(side, roofs_height))\n",
    "\n",
    "TettiQuadrati = TEXTURE(texture_tetto)(COMP([STRUCT, NN(2)])([TettoQuadrato,T(2)(front_villa_size-window_panel_size)]))\n",
    "\n",
    "TettoCentrale = TEXTURE(texture_tetto)(JOIN(R([1,2])(PI/2)(getTetto2(side_villa_size-window_panel_size,front_villa_size+blank_space*2.0,roofs_height*4))))\n",
    "\n",
    "TettoTriangolo = JOIN(T([1,2])([side,side+0.5])(getTetto3(29.05,7,side_villa_size+blank_space*2.0-(side_villa_size-window_panel_size)/2.0)))\n",
    "\n",
    "TettoDietroTriangolo = TEXTURE(texture_tetto)(T([2,3])([window_panel_size+blank_space*2.0,-(first_floor_height*0.4+wall_thickness)])(CUBOID([wall_thickness*2.0,front_villa_size-window_panel_size*2.0-blank_space*2.0,first_floor_height*0.4+wall_thickness])))\n",
    "\n",
    "\n",
    "da_sottrarre1 = COLOR(GREEN)(JOIN(TettoCentrale))\n",
    "\n",
    "TettoTriangolo = TEXTURE(texture_tetto)(DIFFERENCE([TettoTriangolo,da_sottrarre1]))\n",
    "\n",
    "Tetto1 = STRUCT([T(3)(first_floor_height*0.6-first_floor_height*0.4)(TettiQuadrati),\n",
    "                T(1)(0)(TettoCentrale),\n",
    "                T(3)(-first_floor_height*0.4+1)(TettoTriangolo)])\n",
    "\n",
    "Tetto = STRUCT([Tetto1,TettoDietroTriangolo])"
   ]
  },
  {
   "cell_type": "code",
   "execution_count": 50,
   "metadata": {},
   "outputs": [
    {
     "data": {
      "text/plain": [
       "<pyplasm.xgepy.Hpc; proxy of <Swig Object of type 'std::shared_ptr< Hpc > *' at 0x7f33e0e62690> >"
      ]
     },
     "execution_count": 50,
     "metadata": {},
     "output_type": "execute_result"
    }
   ],
   "source": [
    "VIEW(Tetto)"
   ]
  },
  {
   "cell_type": "markdown",
   "metadata": {},
   "source": [
    "![tetto](../images/workshop08/tetto1.png)\n",
    "![tetto](../images/workshop08/tetto2.png)"
   ]
  },
  {
   "cell_type": "code",
   "execution_count": 51,
   "metadata": {},
   "outputs": [
    {
     "data": {
      "text/plain": [
       "<pyplasm.xgepy.Hpc; proxy of <Swig Object of type 'std::shared_ptr< Hpc > *' at 0x7f33e0e62ae0> >"
      ]
     },
     "execution_count": 51,
     "metadata": {},
     "output_type": "execute_result"
    }
   ],
   "source": [
    "VIEW(STRUCT([TOP([TOP([lawn,Piano0]),Piano1]),\n",
    "             T([1,2,3])([second_floor_X,second_floor_Y,second_floor_height+0.1])(Piano2),\n",
    "             T([1,2,3])([roof_X,roof_Y,roof_height+0.1])(Tetto),\n",
    "             T([1,2,3])([facet_Y+facet_thickness,lawn_size_y/2.0,floor_height_0-front_staircase_height+0.1])(Scalinata),\n",
    "             T([1,2])([second_floor_X,lawn_size_y/2.0])(Scalinata_posteriore),\n",
    "             T([1,2,3])([facet_Y,facet_X,facet_Z])(Facciata)]))"
   ]
  },
  {
   "cell_type": "markdown",
   "metadata": {},
   "source": [
    "### Villa completa"
   ]
  },
  {
   "cell_type": "code",
   "execution_count": 53,
   "metadata": {},
   "outputs": [
    {
     "data": {
      "text/plain": [
       "<pyplasm.xgepy.Hpc; proxy of <Swig Object of type 'std::shared_ptr< Hpc > *' at 0x7f33e106b390> >"
      ]
     },
     "execution_count": 53,
     "metadata": {},
     "output_type": "execute_result"
    }
   ],
   "source": [
    "VIEW(STRUCT([TOP([TOP([lawn,Piano0]),TEXTURE(texture_beige)(Piano1)]),\n",
    "             T([1,2,3])([second_floor_X,second_floor_Y,second_floor_height+0.1])(TEXTURE(texture_beige)(Piano2)),\n",
    "             T([1,2,3])([roof_X,roof_Y,roof_height+0.1])(Tetto),\n",
    "             T([1,2,3])([facet_Y+facet_thickness,lawn_size_y/2.0,floor_height_0-front_staircase_height+0.1])(Scalinata),\n",
    "             T([1,2])([second_floor_X,lawn_size_y/2.0])(Scalinata_posteriore),\n",
    "             T([1,2,3])([facet_Y,facet_X,facet_Z])(Facciata)]))"
   ]
  },
  {
   "cell_type": "markdown",
   "metadata": {},
   "source": [
    "![villa](../images/workshop08/villa1.png)\n",
    "![villa](../images/workshop08/villa2.png)\n",
    "![villa](../images/workshop08/villa3.png)\n",
    "![villa](../images/workshop08/villa4.png)"
   ]
  },
  {
   "cell_type": "markdown",
   "metadata": {},
   "source": [
    "<table>\n",
    "    <tbody>\n",
    "        <tr>\n",
    "            <td><img src=\"../images/workshop08/VillaPisani_1.jpg\"></td>\n",
    "            <td><img src=\"../images/workshop08/VillaPisani_1.png\"></td>\n",
    "        </tr>\n",
    "        <tr>\n",
    "            <td><img src=\"../images/workshop08/VillaPisani_2.jpg\"></td>\n",
    "            <td><img src=\"../images/workshop08/VillaPisani_2.png\"></td>\n",
    "        </tr>\n",
    "    </tbody>\n",
    "</table>"
   ]
  },
  {
   "cell_type": "markdown",
   "metadata": {},
   "source": [
    "### Realizzazione interni"
   ]
  },
  {
   "cell_type": "code",
   "execution_count": 54,
   "metadata": {},
   "outputs": [],
   "source": [
    "# Muri interni\n",
    "def getParetiInterne(side_villa_size,front_villa_size,altezza):\n",
    "    PareteP2_4 = CUBOID([wall_thickness,front_villa_size+blank_space5*2.0,second_floor_height+first_floor_height*0.4+wall_thickness])\n",
    "    Parete2 = T(2)([window_panel_size+blank_space5*2.0-wall_thickness])(CUBOID([window_panel_size+blank_space5*2,wall_thickness,altezza+wall_thickness]))\n",
    "    DueParete2 = STRUCT([Parete2,T(2)(side_villa_size-blank_space5*2.0+wall_thickness)(Parete2)])\n",
    "    \n",
    "    # riferimento per creare varchi per le porte\n",
    "    foroPerPorta = CUBOID([wall_thickness,3,6])\n",
    "    \n",
    "    # porte primo piano\n",
    "    PareteP2_4 = DIFFERENCE([PareteP2_4,T([2,3])([-1.5+(front_villa_size+blank_space*2.0)/2.0,floor_height_0])(foroPerPorta)])\n",
    "    DueParete2 = DIFFERENCE([DueParete2,T([1,2,3])([window_panel_size/2.0,window_panel_size+blank_space*2.0,floor_height_0])(R([1,2])(-PI/2)(foroPerPorta))])\n",
    "    DueParete2 = DIFFERENCE([DueParete2,T([1,2,3])([window_panel_size/2.0,front_villa_size-(window_panel_size-wall_thickness),floor_height_0])(R([1,2])(-PI/2)(foroPerPorta))])\n",
    "    PareteP2_4 = DIFFERENCE([PareteP2_4,T([2,3])([-1.5+window_panel_size/2.0+blank_space,floor_height_0])(foroPerPorta)])\n",
    "    PareteP2_4 = DIFFERENCE([PareteP2_4,T([2,3])([front_villa_size+1.5-window_panel_size/2.0-blank_space,floor_height_0])(foroPerPorta)])\n",
    "    \n",
    "    PareteD = T([1,2])([-window_panel_size*3.0,window_panel_size*2.0+blank_space-wall_thickness])(CUBOID([window_panel_size,wall_thickness,second_floor_height+first_floor_height*0.4+wall_thickness]))\n",
    "    DuePareteD = STRUCT([PareteD,T(2)(window_panel_size*2.0+wall_thickness)(PareteD)])\n",
    "    \n",
    "    PareteP2_5 = CUBOID([wall_thickness,front_villa_size+blank_space*2.0,second_floor_height+first_floor_height*0.4+wall_thickness])\n",
    "    PareteP2_5 = DIFFERENCE([PareteP2_5,T([2,3])([-1.5+(front_villa_size+blank_space*2.0)/2.0,floor_height_0])(foroPerPorta)])\n",
    "    PareteP2_5 = DIFFERENCE([PareteP2_5,T([2,3])([-1.5+window_panel_size/2.0+blank_space,floor_height_0])(foroPerPorta)])\n",
    "    PareteP2_5 = DIFFERENCE([PareteP2_5,T([2,3])([front_villa_size+1.5-window_panel_size/2.0-blank_space,floor_height_0])(foroPerPorta)])\n",
    "    \n",
    "    # muretto vicino scale secondo piano\n",
    "    MuroVicinoScale1 = T([1,2,3])([-window_panel_size,window_panel_size*2.0+blank_space,second_floor_height])(CUBOID([wall_thickness,window_panel_size*2.0,3]))\n",
    "    MuroVicinoScale21 = T([1,2,3])([-window_panel_size*2.0+4.0,window_panel_size*2.0+blank_space,second_floor_height])(CUBOID([window_panel_size-4.0+wall_thickness,wall_thickness,3]))\n",
    "    MuroVicinoScale22 = T([1,2,3])([-window_panel_size*2.0+4.0,(front_villa_size+blank_space*2.0)-(window_panel_size*2.0+blank_space),second_floor_height])(CUBOID([window_panel_size-4.0+wall_thickness,wall_thickness,3]))\n",
    "    MuroVicinoScale = STRUCT([MuroVicinoScale1,MuroVicinoScale21,MuroVicinoScale22])\n",
    "    \n",
    "    # porta principale primo piano\n",
    "    Porta1 = T([2,3])([1.5+front_villa_size/2.0+blank_space*2.0,floor_height_0])(R([1,2])(-PI/2)(getPorta(6,6)))\n",
    "    Porta2 = T([1,2,3])([-window_panel_size*2.0,1.5+front_villa_size/2.0+blank_space*2.0,floor_height_0])(R([1,2])(-PI/2)(getPorta(6,6)))\n",
    "    Porta = STRUCT([Porta1,Porta2])\n",
    "    \n",
    "    # porte secondo piano\n",
    "    PareteP2_4 = DIFFERENCE([PareteP2_4,T([2,3])([-1.5+window_panel_size/2.0+blank_space,second_floor_height])(foroPerPorta)])\n",
    "    PareteP2_4 = DIFFERENCE([PareteP2_4,T([2,3])([front_villa_size+1.5-window_panel_size/2.0-blank_space,second_floor_height])(foroPerPorta)])\n",
    "    PareteP2_5 = DIFFERENCE([PareteP2_5,T([2,3])([-1.5+window_panel_size/2.0+blank_space,second_floor_height])(foroPerPorta)])\n",
    "    PareteP2_5 = DIFFERENCE([PareteP2_5,T([2,3])([front_villa_size+1.5-window_panel_size/2.0-blank_space,second_floor_height])(foroPerPorta)])\n",
    "    \n",
    "    # scalinate tra primo e secondo piano\n",
    "    Scalinata1 = T([1,2,3])([-window_panel_size*2,2+window_panel_size*2.0+blank_space,floor_height_0])(R([1,2])(PI)(getScalinataPosteriore(first_floor_height+wall_thickness+0.1,4,25,8.75,4,3,0,3)))\n",
    "    Scalinata2 = T([1,2,3])([-window_panel_size*2.0,-2+(front_villa_size+blank_space*2.0+wall_thickness)-(window_panel_size*2+blank_space),floor_height_0])(R([1,2])(PI)(getScalinataPosteriore(first_floor_height+wall_thickness+0.1,4,25,8.75,4,3,3,0)))\n",
    "    \n",
    "    # scalinate tra piano 0 e primo piano\n",
    "    Scalinata01 = T([1,2,3])([-window_panel_size+4,2+window_panel_size*2.0+blank_space-4,-wall_thickness])(getScalinataPosteriore(floor_height_0+wall_thickness+0.1,4,15,4,4,3,0,0))\n",
    "    Scalinata02 = T([1,2,3])([-window_panel_size+4,-2+(front_villa_size+blank_space*2.0+wall_thickness+4)-(window_panel_size*2+blank_space),-wall_thickness])(getScalinataPosteriore(floor_height_0+wall_thickness+0.1,4,15,4,4,3,0,0))\n",
    "    \n",
    "    Scale = STRUCT([Scalinata1,Scalinata2,Scalinata01,Scalinata02])\n",
    "    \n",
    "    PareteP2_4 = STRUCT([PareteP2_4,T(1)(-window_panel_size*2.0)(PareteP2_5)])\n",
    "    \n",
    "    # costruzione interni della Villa\n",
    "    Interni = T(3)(-0.1)(STRUCT([PareteP2_4,DueParete2,DuePareteD,Porta,Scale,MuroVicinoScale]))\n",
    "\n",
    "    return TEXTURE(texture_pareti)(Interni)"
   ]
  },
  {
   "cell_type": "code",
   "execution_count": 55,
   "metadata": {},
   "outputs": [
    {
     "data": {
      "text/plain": [
       "<pyplasm.xgepy.Hpc; proxy of <Swig Object of type 'std::shared_ptr< Hpc > *' at 0x7f33e0e62c00> >"
      ]
     },
     "execution_count": 55,
     "metadata": {},
     "output_type": "execute_result"
    }
   ],
   "source": [
    "VIEW(getParetiInterne(side_villa_size,front_villa_size,walls_height))"
   ]
  },
  {
   "cell_type": "markdown",
   "metadata": {},
   "source": [
    "![interni](../images/workshop08/interni1.png)\n",
    "![interni](../images/workshop08/interni2.png)"
   ]
  },
  {
   "cell_type": "code",
   "execution_count": 56,
   "metadata": {},
   "outputs": [
    {
     "ename": "NameError",
     "evalue": "name 'Prato' is not defined",
     "output_type": "error",
     "traceback": [
      "\u001b[0;31m---------------------------------------------------------------------------\u001b[0m",
      "\u001b[0;31mNameError\u001b[0m                                 Traceback (most recent call last)",
      "\u001b[0;32m<ipython-input-56-88eabc5b7105>\u001b[0m in \u001b[0;36m<module>\u001b[0;34m()\u001b[0m\n\u001b[0;32m----> 1\u001b[0;31m VIEW(STRUCT([TOP([Prato,Piano0]),\n\u001b[0m\u001b[1;32m      2\u001b[0m              T([1,2])([second_floor_X+side_villa_size-window_panel_size,\n\u001b[1;32m      3\u001b[0m                        \u001b[0msecond_floor_Y\u001b[0m\u001b[0;34m]\u001b[0m\u001b[0;34m)\u001b[0m\u001b[0;34m(\u001b[0m\u001b[0mgetParetiInterne\u001b[0m\u001b[0;34m(\u001b[0m\u001b[0mside_villa_size\u001b[0m\u001b[0;34m,\u001b[0m\u001b[0;34m\u001b[0m\u001b[0m\n\u001b[1;32m      4\u001b[0m                                                              front_villa_size,walls_height))]))\n",
      "\u001b[0;31mNameError\u001b[0m: name 'Prato' is not defined"
     ]
    }
   ],
   "source": [
    "VIEW(STRUCT([TOP([Prato,Piano0]),\n",
    "             T([1,2])([second_floor_X+side_villa_size-window_panel_size,\n",
    "                       second_floor_Y])(getParetiInterne(side_villa_size,\n",
    "                                                             front_villa_size,walls_height))]))"
   ]
  },
  {
   "cell_type": "markdown",
   "metadata": {},
   "source": [
    "![interni](../images/workshop08/interni3.png)"
   ]
  },
  {
   "cell_type": "markdown",
   "metadata": {},
   "source": [
    "### Villa completa con interni"
   ]
  },
  {
   "cell_type": "code",
   "execution_count": 58,
   "metadata": {},
   "outputs": [
    {
     "data": {
      "text/plain": [
       "<pyplasm.xgepy.Hpc; proxy of <Swig Object of type 'std::shared_ptr< Hpc > *' at 0x7f33e0d90b70> >"
      ]
     },
     "execution_count": 58,
     "metadata": {},
     "output_type": "execute_result"
    }
   ],
   "source": [
    "VIEW(STRUCT([TOP([TOP([lawn,Piano0]),TEXTURE(texture_beige)(Piano1)]),\n",
    "             T([1,2,3])([second_floor_X,second_floor_Y,second_floor_height+0.1])(TEXTURE(texture_beige)(Piano2)),\n",
    "             T([1,2,3])([roof_X,roof_Y,roof_height+0.1])(Tetto),\n",
    "             T([1,2,3])([facet_Y+facet_thickness,lawn_size_y/2.0,floor_height_0-front_staircase_height+0.1])(Scalinata),\n",
    "             T([1,2])([second_floor_X,lawn_size_y/2.0])(Scalinata_posteriore),\n",
    "             T([1,2,3])([facet_Y,facet_X,facet_Z])(Facciata),\n",
    "             T([1,2])([second_floor_X+side_villa_size-window_panel_size,second_floor_Y])(getParetiInterne(side_villa_size,front_villa_size,walls_height))]))"
   ]
  },
  {
   "cell_type": "markdown",
   "metadata": {},
   "source": [
    "![villa completa](../images/workshop08/completa.png)\n",
    "![villa completa](../images/workshop08/interni4.png)"
   ]
  }
 ],
 "metadata": {
  "kernelspec": {
   "display_name": "Python 2",
   "language": "python",
   "name": "python2"
  },
  "language_info": {
   "codemirror_mode": {
    "name": "ipython",
    "version": 2
   },
   "file_extension": ".py",
   "mimetype": "text/x-python",
   "name": "python",
   "nbconvert_exporter": "python",
   "pygments_lexer": "ipython2",
   "version": "2.7.14"
  }
 },
 "nbformat": 4,
 "nbformat_minor": 2
}
