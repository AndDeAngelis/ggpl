{
 "cells": [
  {
   "cell_type": "markdown",
   "metadata": {},
   "source": [
    "# Workshop 00\n",
    "\n",
    "## Esercizio 1 - Bootstrap di pyplasm"
   ]
  },
  {
   "cell_type": "markdown",
   "metadata": {},
   "source": [
    "* Import delle librerie di pyplasm"
   ]
  },
  {
   "cell_type": "code",
   "execution_count": 1,
   "metadata": {
    "scrolled": true
   },
   "outputs": [
    {
     "name": "stdout",
     "output_type": "stream",
     "text": [
      "Evaluating fenvs.py..\n",
      "...fenvs.py imported in 0.00559569145574 seconds\n"
     ]
    }
   ],
   "source": [
    "from pyplasm import *"
   ]
  },
  {
   "cell_type": "markdown",
   "metadata": {},
   "source": [
    "* Creo un cubo e lo visualizzo"
   ]
  },
  {
   "cell_type": "code",
   "execution_count": 2,
   "metadata": {},
   "outputs": [
    {
     "data": {
      "text/plain": [
       "<pyplasm.xgepy.Hpc; proxy of <Swig Object of type 'std::shared_ptr< Hpc > *' at 0x00000000063AF780> >"
      ]
     },
     "execution_count": 2,
     "metadata": {},
     "output_type": "execute_result"
    }
   ],
   "source": [
    "VIEW(CUBE(1))"
   ]
  },
  {
   "cell_type": "markdown",
   "metadata": {},
   "source": [
    "* Importo l'immagine del cubo appena creato"
   ]
  },
  {
   "cell_type": "markdown",
   "metadata": {},
   "source": [
    "![Un cubo creato con pyplasm](cubo.PNG)"
   ]
  },
  {
   "cell_type": "markdown",
   "metadata": {},
   "source": [
    "## Esercizio 2 - Bootstrap di larlib"
   ]
  },
  {
   "cell_type": "markdown",
   "metadata": {},
   "source": [
    "* Import delle librerie di larlib"
   ]
  },
  {
   "cell_type": "code",
   "execution_count": 3,
   "metadata": {
    "collapsed": true
   },
   "outputs": [],
   "source": [
    "from larlib import *"
   ]
  },
  {
   "cell_type": "markdown",
   "metadata": {},
   "source": [
    "* Creo un simplesso come una lista di 3 array"
   ]
  },
  {
   "cell_type": "code",
   "execution_count": 4,
   "metadata": {
    "collapsed": true
   },
   "outputs": [],
   "source": [
    "simplices = [[1, 2, 4],[2,4,5],[2,3,5]]"
   ]
  },
  {
   "cell_type": "markdown",
   "metadata": {},
   "source": [
    "### Funzione larSimplexFacets"
   ]
  },
  {
   "cell_type": "markdown",
   "metadata": {},
   "source": [
    "* Uso la funzione larSimplexFacets di larlib per estrarre tutti i segmenti del simplesso"
   ]
  },
  {
   "cell_type": "code",
   "execution_count": 5,
   "metadata": {},
   "outputs": [
    {
     "data": {
      "text/plain": [
       "[(1, 2), (1, 4), (2, 3), (2, 4), (2, 5), (3, 5), (4, 5)]"
      ]
     },
     "execution_count": 5,
     "metadata": {},
     "output_type": "execute_result"
    }
   ],
   "source": [
    "larSimplexFacets(simplices)"
   ]
  },
  {
   "cell_type": "markdown",
   "metadata": {
    "collapsed": true
   },
   "source": [
    "* Creo una lista di 6 coordinate e creo il modello"
   ]
  },
  {
   "cell_type": "code",
   "execution_count": 6,
   "metadata": {
    "collapsed": true
   },
   "outputs": [],
   "source": [
    "V = [[0,0],[0,1],[2,0],[4,0],[1.5,3],[3.5,2.5]]"
   ]
  },
  {
   "cell_type": "code",
   "execution_count": 7,
   "metadata": {
    "collapsed": true
   },
   "outputs": [],
   "source": [
    "FV = simplices"
   ]
  },
  {
   "cell_type": "code",
   "execution_count": 8,
   "metadata": {
    "collapsed": true
   },
   "outputs": [],
   "source": [
    "model = V,FV"
   ]
  },
  {
   "cell_type": "markdown",
   "metadata": {},
   "source": [
    "* Uso la funzione MKPOLS di larlib per generare un poligono, lo aggrego con la funzione STRUTS e lo visualizzo con VIEW"
   ]
  },
  {
   "cell_type": "code",
   "execution_count": 10,
   "metadata": {},
   "outputs": [
    {
     "data": {
      "text/plain": [
       "<pyplasm.xgepy.Hpc; proxy of <Swig Object of type 'std::shared_ptr< Hpc > *' at 0x000000000E9CDDE0> >"
      ]
     },
     "execution_count": 10,
     "metadata": {},
     "output_type": "execute_result"
    }
   ],
   "source": [
    "VIEW(STRUCT(MKPOLS(model)))"
   ]
  },
  {
   "cell_type": "markdown",
   "metadata": {},
   "source": [
    "![Forma](shape.PNG)"
   ]
  },
  {
   "cell_type": "markdown",
   "metadata": {},
   "source": [
    "* Ora visualizzo lo scheletro 1 dell'immagine precedente"
   ]
  },
  {
   "cell_type": "code",
   "execution_count": 11,
   "metadata": {},
   "outputs": [
    {
     "data": {
      "text/plain": [
       "<pyplasm.xgepy.Hpc; proxy of <Swig Object of type 'std::shared_ptr< Hpc > *' at 0x000000000E9CDB40> >"
      ]
     },
     "execution_count": 11,
     "metadata": {},
     "output_type": "execute_result"
    }
   ],
   "source": [
    "VIEW(SKEL_1(STRUCT(MKPOLS(model))))"
   ]
  },
  {
   "cell_type": "markdown",
   "metadata": {},
   "source": [
    "![Skel1 di shape](shape_skel1.PNG)"
   ]
  },
  {
   "cell_type": "markdown",
   "metadata": {},
   "source": [
    "* Visualizzo il polinomio formato dai segmenti estratti da FV"
   ]
  },
  {
   "cell_type": "code",
   "execution_count": 12,
   "metadata": {
    "collapsed": true
   },
   "outputs": [],
   "source": [
    "EV = larSimplexFacets(FV)"
   ]
  },
  {
   "cell_type": "code",
   "execution_count": 14,
   "metadata": {},
   "outputs": [
    {
     "data": {
      "text/plain": [
       "<pyplasm.xgepy.Hpc; proxy of <Swig Object of type 'std::shared_ptr< Hpc > *' at 0x000000000E9DB240> >"
      ]
     },
     "execution_count": 14,
     "metadata": {},
     "output_type": "execute_result"
    }
   ],
   "source": [
    "VIEW(STRUCT(MKPOLS((V,EV))))"
   ]
  },
  {
   "cell_type": "markdown",
   "metadata": {},
   "source": [
    "![Skel 1 di shape](shape_skel1.PNG)"
   ]
  },
  {
   "cell_type": "markdown",
   "metadata": {},
   "source": [
    "### Funzione larExtrude1"
   ]
  },
  {
   "cell_type": "markdown",
   "metadata": {},
   "source": [
    "* Creo un modello e ne faccio l'estrusione"
   ]
  },
  {
   "cell_type": "code",
   "execution_count": 15,
   "metadata": {
    "collapsed": true
   },
   "outputs": [],
   "source": [
    "model_to_extrude = [[0,0],[1,0],[0,1]], [[0,1,2]]\n",
    "pattern = [1]"
   ]
  },
  {
   "cell_type": "markdown",
   "metadata": {},
   "source": [
    "* Faccio l'estrusione"
   ]
  },
  {
   "cell_type": "code",
   "execution_count": 16,
   "metadata": {},
   "outputs": [
    {
     "data": {
      "text/plain": [
       "([[0, 0, 0], [1, 0, 0], [0, 1, 0], [0, 0, 1], [1, 0, 1], [0, 1, 1]],\n",
       " [[0, 1, 2, 3], [1, 2, 3, 4], [2, 3, 4, 5]])"
      ]
     },
     "execution_count": 16,
     "metadata": {},
     "output_type": "execute_result"
    }
   ],
   "source": [
    "larExtrude1(model_to_extrude,pattern)"
   ]
  },
  {
   "cell_type": "markdown",
   "metadata": {},
   "source": [
    "* Visualizzo la struttura dopo l'estrusione"
   ]
  },
  {
   "cell_type": "code",
   "execution_count": 17,
   "metadata": {},
   "outputs": [
    {
     "data": {
      "text/plain": [
       "<pyplasm.xgepy.Hpc; proxy of <Swig Object of type 'std::shared_ptr< Hpc > *' at 0x000000000E9DB510> >"
      ]
     },
     "execution_count": 17,
     "metadata": {},
     "output_type": "execute_result"
    }
   ],
   "source": [
    "VIEW(STRUCT(MKPOLS((larExtrude1(model,pattern)))))"
   ]
  },
  {
   "cell_type": "markdown",
   "metadata": {},
   "source": [
    "![Estrusione di shape](extrusion.PNG)"
   ]
  },
  {
   "cell_type": "markdown",
   "metadata": {},
   "source": [
    "* Esplodo la figura dopo l'estrusione e la visualizzo"
   ]
  },
  {
   "cell_type": "code",
   "execution_count": 18,
   "metadata": {},
   "outputs": [
    {
     "data": {
      "text/plain": [
       "<pyplasm.xgepy.Hpc; proxy of <Swig Object of type 'std::shared_ptr< Hpc > *' at 0x000000000E9DB5A0> >"
      ]
     },
     "execution_count": 18,
     "metadata": {},
     "output_type": "execute_result"
    }
   ],
   "source": [
    "VIEW(EXPLODE(1.2,1.2,1.2)(MKPOLS((larExtrude1(model_to_extrude,pattern)))))"
   ]
  },
  {
   "cell_type": "markdown",
   "metadata": {},
   "source": [
    "![Shape estrusa ed esplosa](explode.PNG)"
   ]
  },
  {
   "cell_type": "markdown",
   "metadata": {},
   "source": [
    "* Cambio il pattern e faccio nuovamente l'estrusione"
   ]
  },
  {
   "cell_type": "code",
   "execution_count": 19,
   "metadata": {
    "collapsed": true
   },
   "outputs": [],
   "source": [
    "pattern = [1]*10"
   ]
  },
  {
   "cell_type": "code",
   "execution_count": 20,
   "metadata": {},
   "outputs": [
    {
     "data": {
      "text/plain": [
       "<pyplasm.xgepy.Hpc; proxy of <Swig Object of type 'std::shared_ptr< Hpc > *' at 0x000000000E9DBB70> >"
      ]
     },
     "execution_count": 20,
     "metadata": {},
     "output_type": "execute_result"
    }
   ],
   "source": [
    "VIEW(STRUCT(MKPOLS((larExtrude1(model_to_extrude,pattern)))))"
   ]
  },
  {
   "cell_type": "markdown",
   "metadata": {},
   "source": [
    "![Seconda estrusione di shape](extrusion2.PNG)"
   ]
  },
  {
   "cell_type": "markdown",
   "metadata": {},
   "source": [
    "## Esercizio 3 - Creazione punti random"
   ]
  },
  {
   "cell_type": "markdown",
   "metadata": {},
   "source": [
    "* Produco 100 punti random compresi tra 0 e 1 e li disegno dentro un quadrato di area unitaria"
   ]
  },
  {
   "cell_type": "code",
   "execution_count": 21,
   "metadata": {
    "collapsed": true
   },
   "outputs": [],
   "source": [
    "from random import uniform"
   ]
  },
  {
   "cell_type": "code",
   "execution_count": 22,
   "metadata": {
    "collapsed": true
   },
   "outputs": [],
   "source": [
    "listaCoordinate = [[]*100]\n",
    "listaCoordinate[0] = [uniform(0,1),uniform(0,1)]\n",
    "for n in range(0,100):\n",
    "    listaTemp = []\n",
    "    coordinataX = uniform(0,1)\n",
    "    coordinataY = uniform(0,1)\n",
    "    listaTemp.append(coordinataX)\n",
    "    listaTemp.append(coordinataY)\n",
    "    listaCoordinate.append(listaTemp)"
   ]
  },
  {
   "cell_type": "code",
   "execution_count": 23,
   "metadata": {},
   "outputs": [
    {
     "data": {
      "text/plain": [
       "[[0.4254241162589505, 0.3878936438510857],\n",
       " [0.7844449253419231, 0.9316052015550771],\n",
       " [0.6475575267405727, 0.8965708034449238],\n",
       " [0.7547866588972248, 0.39406454652077216],\n",
       " [0.7204566009387693, 0.07765318711717317],\n",
       " [0.5291259334054844, 0.9314935180128048],\n",
       " [0.10398563131503635, 0.6382517169474485],\n",
       " [0.6270121960820818, 0.283351226094823],\n",
       " [0.7651416320326679, 0.3971737228968045],\n",
       " [0.632480161728868, 0.1441557461229892],\n",
       " [0.7704661300183128, 0.22268815918160179],\n",
       " [0.5708085864978868, 0.6602582257314218],\n",
       " [0.5757268817372168, 0.20870050970801313],\n",
       " [0.7605130605073709, 0.10010015515721726],\n",
       " [0.7587230162459137, 0.09773160588701524],\n",
       " [0.9897222554550118, 0.2522224787917705],\n",
       " [0.35057400912787995, 0.6149871900138424],\n",
       " [0.5329758939873706, 0.29369043856458366],\n",
       " [0.24851445593266785, 0.9357920964488016],\n",
       " [0.6254165115568736, 0.7730306377169747],\n",
       " [0.5809975858630797, 0.07600545623558397],\n",
       " [0.9952104695837146, 0.8043295622690516],\n",
       " [0.8564092629790407, 0.9689732920986786],\n",
       " [0.8166103709627072, 0.7297893957762277],\n",
       " [0.28056780027320527, 0.34284452587372927],\n",
       " [0.6025155705210691, 0.09272956603647309],\n",
       " [0.964473290382458, 0.5777304088368747],\n",
       " [0.8940846285066203, 0.48614807530848636],\n",
       " [0.8464848226326585, 0.9713279191413916],\n",
       " [0.9105953574959453, 0.2651904911260655],\n",
       " [0.147761215599429, 0.9954525225196929],\n",
       " [0.7203191431929207, 0.7012753946519092],\n",
       " [0.03801421173342934, 0.4445019249821963],\n",
       " [0.6421511627484392, 0.4032317629153732],\n",
       " [0.9757279693501144, 0.3444103575843114],\n",
       " [0.25132613911419577, 0.07627579791247929],\n",
       " [0.9762802614574152, 0.9235322037753602],\n",
       " [0.30275152997478505, 0.07715637307443002],\n",
       " [0.7609806496331745, 0.4196523341274724],\n",
       " [0.6239928516442068, 0.5551606868827524],\n",
       " [0.4385408381536504, 0.0519957955318292],\n",
       " [0.07111930229442864, 0.49332588822106493],\n",
       " [0.5212415663815956, 0.777742163221964],\n",
       " [0.3750346512788316, 0.7442949145955529],\n",
       " [0.6504020934716489, 0.9888267075745074],\n",
       " [0.6362281344726289, 0.17194871460700345],\n",
       " [0.5977011809359959, 0.5728729361676808],\n",
       " [0.6751762312456268, 0.07782023317091058],\n",
       " [0.16095934548749724, 0.2045622847252473],\n",
       " [0.5880829409886773, 0.3119280464159754],\n",
       " [0.979896728301579, 0.5278173098732896],\n",
       " [0.6323181269729303, 0.14193665012428824],\n",
       " [0.24103103918239777, 0.3036829351523622],\n",
       " [0.9455838623782249, 0.39786553668849134],\n",
       " [0.8955237443932412, 0.3546077904749906],\n",
       " [0.8120078378228879, 0.998313990547422],\n",
       " [0.5607258823379693, 0.2982788332446923],\n",
       " [0.14034840635212842, 0.7084734834457583],\n",
       " [0.6396095928015348, 0.9934947022020626],\n",
       " [0.4260535580121956, 0.1577277216109605],\n",
       " [0.8914096690919756, 0.3895037429097331],\n",
       " [0.7514284132851674, 0.5161116976198753],\n",
       " [0.9468511390374917, 0.9933120446684344],\n",
       " [0.8784378222446638, 0.3003574716975078],\n",
       " [0.929948437998609, 0.833097327271829],\n",
       " [0.8129355299085985, 0.4466623302054421],\n",
       " [0.9682780853704812, 0.039013081822454665],\n",
       " [0.734656919910339, 0.0747410689110144],\n",
       " [0.9463514538237573, 0.03596925995373568],\n",
       " [0.003445857410788511, 0.9997158800057845],\n",
       " [0.1249957326459592, 0.8564936258549979],\n",
       " [0.8113588964015169, 0.18183872025086079],\n",
       " [0.6234502611631391, 0.31486553717632604],\n",
       " [0.6787619087119804, 0.9180270604158146],\n",
       " [0.8901708400519082, 0.5398455944496923],\n",
       " [0.6196482529360783, 0.054484015404553165],\n",
       " [0.032406500477505706, 0.37505699774075174],\n",
       " [0.6775908344274153, 0.7829841961229334],\n",
       " [0.3137144820085961, 0.46780247909523576],\n",
       " [0.9468169716490027, 0.6838306190997334],\n",
       " [0.3007178991029693, 0.03147579834644676],\n",
       " [0.797903573405448, 0.6518996845264882],\n",
       " [0.08599816683087325, 0.7523603901899886],\n",
       " [0.9044976420175914, 0.30666845081288496],\n",
       " [0.1910224655276126, 0.766072274242713],\n",
       " [0.9454785543746007, 0.31496238544435673],\n",
       " [0.7352386010548367, 0.4665591936783847],\n",
       " [0.8962109947939353, 0.34900253415961313],\n",
       " [0.9697004394254469, 0.9798039892942266],\n",
       " [0.5516078013679475, 0.029430278112823616],\n",
       " [0.46845879498787213, 0.31689725484509557],\n",
       " [0.4717174426415026, 0.14395745231790125],\n",
       " [0.41539099363018306, 0.14374899902323435],\n",
       " [0.7747024937932361, 0.7531494084433391],\n",
       " [0.6718051159352109, 0.33295489583372395],\n",
       " [0.3446685658571548, 0.990388137078476],\n",
       " [0.23868135391652423, 0.1809045069988191],\n",
       " [0.24567867889530237, 0.7819447405474409],\n",
       " [0.41582201858820556, 0.7370790075243809],\n",
       " [0.037386431355077576, 0.9292683239031025],\n",
       " [0.9039490943663345, 0.5001244259886749]]"
      ]
     },
     "execution_count": 23,
     "metadata": {},
     "output_type": "execute_result"
    }
   ],
   "source": [
    "listaCoordinate"
   ]
  },
  {
   "cell_type": "code",
   "execution_count": 32,
   "metadata": {},
   "outputs": [
    {
     "data": {
      "text/plain": [
       "<pyplasm.xgepy.Hpc; proxy of <Swig Object of type 'std::shared_ptr< Hpc > *' at 0x000000000EBEA780> >"
      ]
     },
     "execution_count": 32,
     "metadata": {},
     "output_type": "execute_result"
    }
   ],
   "source": [
    "verts = [[0,0],[1,0],[0,1],[1,1]]\n",
    "cells = [[1,2,3,4]]\n",
    "pols = None\n",
    "square = MKPOL([verts, cells, pols])\n",
    "cells_1 = [[1]]\n",
    "VIEW(SKEL_1(STRUCT([square,MKPOL([listaCoordinate, cells_1, None])])))"
   ]
  },
  {
   "cell_type": "markdown",
   "metadata": {
    "collapsed": true
   },
   "source": [
    "![Quadrato](square.PNG)"
   ]
  }
 ],
 "metadata": {
  "kernelspec": {
   "display_name": "Python 2",
   "language": "python",
   "name": "python2"
  },
  "language_info": {
   "codemirror_mode": {
    "name": "ipython",
    "version": 2
   },
   "file_extension": ".py",
   "mimetype": "text/x-python",
   "name": "python",
   "nbconvert_exporter": "python",
   "pygments_lexer": "ipython2",
   "version": "2.7.13"
  }
 },
 "nbformat": 4,
 "nbformat_minor": 2
}
