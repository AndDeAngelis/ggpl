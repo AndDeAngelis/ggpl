{
 "cells": [
  {
   "cell_type": "markdown",
   "metadata": {},
   "source": [
    "# Workshop 03"
   ]
  },
  {
   "cell_type": "markdown",
   "metadata": {},
   "source": [
    "## Realizzazione di una chiesa sulla base dei disegni di Leonardo da Vinci"
   ]
  },
  {
   "cell_type": "markdown",
   "metadata": {},
   "source": [
    "![progetto](../images/workshop03/leonardo_progetto.jpg)"
   ]
  },
  {
   "cell_type": "markdown",
   "metadata": {},
   "source": [
    "### Import delle librerie"
   ]
  },
  {
   "cell_type": "code",
   "execution_count": 3,
   "metadata": {},
   "outputs": [],
   "source": [
    "from pyplasm import *"
   ]
  },
  {
   "cell_type": "markdown",
   "metadata": {},
   "source": [
    "### La base della chiesa"
   ]
  },
  {
   "cell_type": "markdown",
   "metadata": {},
   "source": [
    "* Realizzazione di una scala circolare, composta da 3 gradini\n",
    "* La funzione è parametrica rispetto il diametro della scalinata"
   ]
  },
  {
   "cell_type": "code",
   "execution_count": 4,
   "metadata": {},
   "outputs": [],
   "source": [
    "def base(diametro):\n",
    "    primoScalino = CYLINDER([diametro+0.5, 0.3])(40)\n",
    "    secondoScalino = T(3)(0.3)(CYLINDER([diametro, 0.3])(40))\n",
    "    terzoScalino = T(3)(0.6)(CYLINDER([diametro-0.5, 0.3])(40))\n",
    "    return STRUCT([primoScalino, secondoScalino, terzoScalino])"
   ]
  },
  {
   "cell_type": "code",
   "execution_count": 5,
   "metadata": {},
   "outputs": [
    {
     "data": {
      "text/plain": [
       "<pyplasm.xgepy.Hpc; proxy of <Swig Object of type 'std::shared_ptr< Hpc > *' at 0x7f1f77a444b0> >"
      ]
     },
     "execution_count": 5,
     "metadata": {},
     "output_type": "execute_result"
    }
   ],
   "source": [
    "VIEW(base(10))"
   ]
  },
  {
   "cell_type": "markdown",
   "metadata": {},
   "source": [
    "![scalinata](../images/workshop03/scalinata.png)"
   ]
  },
  {
   "cell_type": "markdown",
   "metadata": {},
   "source": [
    "### La cupola"
   ]
  },
  {
   "cell_type": "markdown",
   "metadata": {},
   "source": [
    "* Realizzazione della cupola della chiesa, riutilizzando la funzione SPHERE di PyPlasm\n",
    "* La funzione è parametrica rispetto il raggio della semisfera"
   ]
  },
  {
   "cell_type": "code",
   "execution_count": 11,
   "metadata": {},
   "outputs": [],
   "source": [
    "def SEMISPHERE(raggio):\n",
    "    def SPHERE0(subds):\n",
    "        N , M = subds\n",
    "        domain = Plasm.translate(Plasm.power(INTERVALS(PI/2)(N) , INTERVALS(2*PI)(M)), Vecf(0, -PI/2,0 ))\n",
    "        fx = lambda p: raggio * math.cos(p[0]) * math.sin(p[1])\n",
    "        fy = lambda p: raggio * math.cos(p[0]) * math.cos(p[1])\n",
    "        fz = lambda p: raggio * math.sin(p[0])\n",
    "        ret = MAP([fx, fy, fz])(domain)\n",
    "        return ret\n",
    "    return SPHERE0"
   ]
  },
  {
   "cell_type": "code",
   "execution_count": 12,
   "metadata": {},
   "outputs": [],
   "source": [
    "def cupola(raggio):\n",
    "    cupola = JOIN([SEMISPHERE(raggio)([8,20])])\n",
    "    return R([1,3])(-PI)(cupola)"
   ]
  },
  {
   "cell_type": "code",
   "execution_count": 61,
   "metadata": {
    "scrolled": false
   },
   "outputs": [
    {
     "data": {
      "text/plain": [
       "<pyplasm.xgepy.Hpc; proxy of <Swig Object of type 'std::shared_ptr< Hpc > *' at 0x7f1f76989930> >"
      ]
     },
     "execution_count": 61,
     "metadata": {},
     "output_type": "execute_result"
    }
   ],
   "source": [
    "VIEW(cupola(10))"
   ]
  },
  {
   "cell_type": "markdown",
   "metadata": {},
   "source": [
    "![cupola](../images/workshop03/cupola.png)"
   ]
  },
  {
   "cell_type": "markdown",
   "metadata": {},
   "source": [
    "* La struttura superiore della chiesa è composta da una serie di cupole di piccola dimensione, disposte circolarmente, e da una cupola più grande disposta al centro di esse"
   ]
  },
  {
   "cell_type": "code",
   "execution_count": 41,
   "metadata": {},
   "outputs": [],
   "source": [
    "def strutturaCupola(raggio, altezza, colorHexCupola, colorHexCilindro):\n",
    "    sBottom1 = CYLINDER([raggio + 0.3, altezza * 0.15])(50)\n",
    "    sBottom2 = T(3)(altezza * 0.15)(CYLINDER([raggio +0.2, altezza * 0.15])(50))\n",
    "    sCylinder = T(3)(altezza * 0.3)(CYLINDER([raggio - 0.1, altezza])(10))\n",
    "    sTop = T(3)(altezza * 1.3)(CYLINDER([raggio + 0.3, altezza * 0.10])(50))\n",
    "    sDome = T(3)(altezza * 1.4)(cupola(raggio))\n",
    "\n",
    "    tipBottom = T([1, 2, 3])([-altezza * 0.05, -altezza * 0.05, altezza * 1.4 + raggio])(CUBOID([altezza * 0.1] *3))\n",
    "    tipMiddle = T([1, 2, 3])([-altezza * 0.05, -altezza * 0.05, altezza * 1.5 + raggio])(CUBOID([altezza * 0.1, altezza * 0.1, altezza * 0.3]))\n",
    "    tipTop1 = T(3)(altezza * 1.8 + raggio)(SEMISPHERE(altezza * 0.1)([8, 20]))\n",
    "    tipTop2 = T(3)(altezza *1.9 + raggio)(SPHERE(altezza * 0.1)([8, 20]))\n",
    "\n",
    "    coloredDome = HEX(colorHexCupola)(STRUCT([sDome, tipTop1, tipTop2]))\n",
    "    coloredCylinder = HEX(colorHexCilindro)(STRUCT([sBottom1, sBottom2, sCylinder, sTop, tipBottom, tipMiddle])) \n",
    "    return STRUCT([coloredDome, coloredCylinder])"
   ]
  },
  {
   "cell_type": "code",
   "execution_count": 63,
   "metadata": {
    "scrolled": true
   },
   "outputs": [
    {
     "name": "stdout",
     "output_type": "stream",
     "text": [
      "Child 3\n"
     ]
    },
    {
     "data": {
      "text/plain": [
       "<pyplasm.xgepy.Hpc; proxy of <Swig Object of type 'std::shared_ptr< Hpc > *' at 0x7f1f769899c0> >"
      ]
     },
     "execution_count": 63,
     "metadata": {},
     "output_type": "execute_result"
    }
   ],
   "source": [
    "VIEW(strutturaCupola(2, 2, \"#841F27\", \"#E2DECD\"))"
   ]
  },
  {
   "cell_type": "markdown",
   "metadata": {},
   "source": [
    "![struttura cupola](../images/workshop03/struttura_cupola.png)"
   ]
  },
  {
   "cell_type": "code",
   "execution_count": 47,
   "metadata": {},
   "outputs": [],
   "source": [
    "def cupolette(numero_cupolette, diametro, size, colorHexCupola, colorHexCilindro):\n",
    "    raggio = diametro * 0.72\n",
    "    cupolette = [(strutturaCupola(size, size, colorHexCupola, colorHexCilindro)) for i in range(numero_cupolette)]\n",
    "    return STRUCT(posizionaCircolarmente(numero_cupolette, raggio, cupolette, 0, 0))"
   ]
  },
  {
   "cell_type": "code",
   "execution_count": 66,
   "metadata": {},
   "outputs": [
    {
     "name": "stdout",
     "output_type": "stream",
     "text": [
      "Child 3\n",
      "Child 3\n",
      "Child 3\n",
      "Child 3\n",
      "Child 3\n",
      "Child 3\n",
      "Child 3\n",
      "Child 3\n"
     ]
    },
    {
     "data": {
      "text/plain": [
       "<pyplasm.xgepy.Hpc; proxy of <Swig Object of type 'std::shared_ptr< Hpc > *' at 0x7f1f76989b70> >"
      ]
     },
     "execution_count": 66,
     "metadata": {},
     "output_type": "execute_result"
    }
   ],
   "source": [
    "VIEW(cupolette(8, 10, 2, \"#841F27\", \"#E2DECD\"))"
   ]
  },
  {
   "cell_type": "markdown",
   "metadata": {},
   "source": [
    "![cupolette](../images/workshop03/cupolette.png)"
   ]
  },
  {
   "cell_type": "markdown",
   "metadata": {},
   "source": [
    "### Gli absidi"
   ]
  },
  {
   "cell_type": "markdown",
   "metadata": {},
   "source": [
    "* Gli absidi sono realizzati grazie all'unione di 4 cilindri con una struttura rettangolare centrale. Infine si è posizionata una cupola sull'estremità superiore\n",
    "* La funzione è parametrica rispetto l'altezza del muro della struttura esterna\n",
    "* Gli absidi vanno poi posizionati circolarmente per la realizzazione della struttura esterna della chiesa"
   ]
  },
  {
   "cell_type": "code",
   "execution_count": 19,
   "metadata": {},
   "outputs": [],
   "source": [
    "def absidi(altezzaMuro):\n",
    "    strutturaCentrale = T([1, 2])([-1.5, -1.5])(CUBOID([3, 3, altezzaMuro]))\n",
    "    cilindro1 = T(1)(-1)(CYLINDER([1, altezzaMuro])(40))\n",
    "    cilindro2 = T(2)(-1)(CYLINDER([1, altezzaMuro])(40))\n",
    "    cilindro3 = T(1)(+1)(CYLINDER([1, altezzaMuro])(40))\n",
    "    cilindro4 = T(2)(+1)(CYLINDER([1, altezzaMuro])(40))\n",
    "\n",
    "    cupoletta = T(3)(altezzaMuro)(cupola(1.5))\n",
    "    return STRUCT([strutturaCentrale, cilindro1, cilindro2, cilindro3, cilindro4, cupoletta])"
   ]
  },
  {
   "cell_type": "code",
   "execution_count": 68,
   "metadata": {
    "scrolled": true
   },
   "outputs": [
    {
     "data": {
      "text/plain": [
       "<pyplasm.xgepy.Hpc; proxy of <Swig Object of type 'std::shared_ptr< Hpc > *' at 0x7f1f76989ed0> >"
      ]
     },
     "execution_count": 68,
     "metadata": {},
     "output_type": "execute_result"
    }
   ],
   "source": [
    "VIEW(absidi(8))"
   ]
  },
  {
   "cell_type": "markdown",
   "metadata": {},
   "source": [
    "![abside dettaglio 1](../images/workshop03/abside1.png)\n",
    "![abside dettaglio 2](../images/workshop03/abside2.png)"
   ]
  },
  {
   "cell_type": "code",
   "execution_count": 24,
   "metadata": {},
   "outputs": [],
   "source": [
    "def posizionaCircolarmente(positions, rad, objects, entrance, offset):\n",
    "    return map(lambda i: T([1, 2])([rad*math.cos((2*PI/positions)*(i+entrance) +offset), \n",
    "                                    rad*math.sin((2*PI/positions)*(i+entrance) + offset)])(R([1,2])\n",
    "                                    ((2*PI/positions)*i)(objects[i])), range(0, positions-entrance))"
   ]
  },
  {
   "cell_type": "code",
   "execution_count": 29,
   "metadata": {},
   "outputs": [],
   "source": [
    "def colonnatoEsterno(numero_absidi, diametro, spessore_muro, altezza_muro):\n",
    "    raggio = diametro-diametro/6 - 2\n",
    "    ab = [absidi(altezza_muro) for i in range(0, numero_absidi)]\n",
    "    return STRUCT(posizionaCircolarmente(numero_absidi, raggio, ab, 1, 0))"
   ]
  },
  {
   "cell_type": "code",
   "execution_count": 69,
   "metadata": {},
   "outputs": [
    {
     "data": {
      "text/plain": [
       "<pyplasm.xgepy.Hpc; proxy of <Swig Object of type 'std::shared_ptr< Hpc > *' at 0x7f1f769898d0> >"
      ]
     },
     "execution_count": 69,
     "metadata": {},
     "output_type": "execute_result"
    }
   ],
   "source": [
    "VIEW(colonnatoEsterno(8, 10, 4, 8))"
   ]
  },
  {
   "cell_type": "markdown",
   "metadata": {},
   "source": [
    "![colonnato dettaglio 1](../images/workshop03/colonnato1.png)\n",
    "![colonnato dettaglio 2](../images/workshop03/colonnato2.png)"
   ]
  },
  {
   "cell_type": "markdown",
   "metadata": {},
   "source": [
    "### La struttura esterna"
   ]
  },
  {
   "cell_type": "markdown",
   "metadata": {},
   "source": [
    "* Sulla base di trova una struttura circolare, a cui verrà aggiunto il colonnato disposto circolarmente\n",
    "* La funzione è parametrica rispetto al diametro e l'altezza"
   ]
  },
  {
   "cell_type": "code",
   "execution_count": null,
   "metadata": {},
   "outputs": [],
   "source": [
    "def strutturaEsterna(diametro, altezza):\n",
    "    esterno = CYLINDER([diametro, altezza])(60)\n",
    "    interno = CYLINDER([diametro-4.5, altezza])(60)\n",
    "    muro = DIFFERENCE([esterno, interno])\n",
    "    return STRUCT([muro])"
   ]
  },
  {
   "cell_type": "code",
   "execution_count": 70,
   "metadata": {},
   "outputs": [
    {
     "data": {
      "text/plain": [
       "<pyplasm.xgepy.Hpc; proxy of <Swig Object of type 'std::shared_ptr< Hpc > *' at 0x7f1f76989e40> >"
      ]
     },
     "execution_count": 70,
     "metadata": {},
     "output_type": "execute_result"
    }
   ],
   "source": [
    "VIEW(strutturaEsterna(10, 8))"
   ]
  },
  {
   "cell_type": "markdown",
   "metadata": {},
   "source": [
    "![muro](../images/workshop03/muro.png)"
   ]
  },
  {
   "cell_type": "code",
   "execution_count": 31,
   "metadata": {},
   "outputs": [],
   "source": [
    "def strutturaEsternaCompleta(numero_absidi, diametro, altezza, spessore):\n",
    "    absidi = colonnatoEsterno(numero_absidi, diametro, spessore, altezza+2)\n",
    "    entrata = STRUCT([JOIN(AA(MK)([[0, 0, 0], [9, 1.5, 0], [9, -1.5, 0], [9, 1.5, 6], \n",
    "                                   [9, -1.5, 6], [0, 0, 0]]))])\n",
    "\n",
    "    recess_objects = [CYLINDER([diametro/8, altezza])(8) for i in range(0, numero_absidi)]\n",
    "    raggio = diametro-diametro/6 + 1\n",
    "    recess = STRUCT(posizionaCircolarmente(numero_absidi, raggio, recess_objects, 0, PI/numero_absidi))\n",
    "\n",
    "    spazio_rimuovibile = STRUCT([absidi, entrata, recess])\n",
    "\n",
    "    muro = strutturaEsterna(diametro, altezza)\n",
    "    return DIFFERENCE([muro, spazio_rimuovibile])"
   ]
  },
  {
   "cell_type": "code",
   "execution_count": 71,
   "metadata": {
    "collapsed": true
   },
   "outputs": [
    {
     "data": {
      "text/plain": [
       "<pyplasm.xgepy.Hpc; proxy of <Swig Object of type 'std::shared_ptr< Hpc > *' at 0x7f1f769895d0> >"
      ]
     },
     "execution_count": 71,
     "metadata": {},
     "output_type": "execute_result"
    }
   ],
   "source": [
    "VIEW(strutturaEsternaCompleta(7, 9, 8, 4))"
   ]
  },
  {
   "cell_type": "markdown",
   "metadata": {},
   "source": [
    "![struttura esterna dettaglio 1](../images/workshop03/struttura_esterna1.png)\n",
    "![struttura esterna dettaglio 2](../images/workshop03/struttura_esterna2.png)"
   ]
  },
  {
   "cell_type": "markdown",
   "metadata": {},
   "source": [
    "### La chiesa"
   ]
  },
  {
   "cell_type": "markdown",
   "metadata": {},
   "source": [
    "* La struttura finale della chiesa è ottenuta mediante l'unione delle strutture descritte sopra"
   ]
  },
  {
   "cell_type": "code",
   "execution_count": 60,
   "metadata": {},
   "outputs": [],
   "source": [
    "def strutturaChiesa():\n",
    "    diametro = 10\n",
    "    altezza = 8\n",
    "    marmo = \"#E2DECD\"\n",
    "    mattone = \"#841F27\"\n",
    "\n",
    "    prato = T([1,2])([-30, -30])(MATERIAL([0,0,0,1,  0,.1,0,1,  0,.1,0,1, 0,0,0,1, 0])(CUBOID([90, 60, 0.2])))\n",
    "    basamento = T(3)(0.2)(base(diametro))\n",
    "\n",
    "    mura = T(3)(0.3 * 3 + 0.2)(strutturaEsternaCompleta(7, diametro-1, altezza, 4))\n",
    "\n",
    "    vertici = CIRCLE_POINTS(diametro + 0.2, 50)\n",
    "    strutturaSuperiore = T(3)(altezza + 0.3 * 3 + 0.2)(PROD([JOIN(AA(MK)(vertici)), Q(0.5)]))\n",
    "    cupole = T(3)(altezza + 0.3 * 3 + 0.5 + 0.2)(cupolette(numero_cupolette = 8, diametro = diametro, size = diametro/4, colorHexCupola = mattone, colorHexCilindro = marmo))\n",
    "    cupolona = T(3)(altezza + 0.3 * 3 + 0.5 + 0.2)(strutturaCupola(diametro * 0.45, altezza * 0.7, mattone, marmo))\n",
    "\n",
    "    struttura = HEX(marmo)(STRUCT([prato, basamento, mura, strutturaSuperiore]))\n",
    "    return STRUCT([struttura, cupole, cupolona])"
   ]
  },
  {
   "cell_type": "code",
   "execution_count": 59,
   "metadata": {},
   "outputs": [
    {
     "name": "stdout",
     "output_type": "stream",
     "text": [
      "Child 3\n",
      "Child 3\n",
      "Child 3\n",
      "Child 3\n",
      "Child 3\n",
      "Child 3\n",
      "Child 3\n",
      "Child 3\n",
      "Child 3\n"
     ]
    },
    {
     "data": {
      "text/plain": [
       "<pyplasm.xgepy.Hpc; proxy of <Swig Object of type 'std::shared_ptr< Hpc > *' at 0x7f1f76989f60> >"
      ]
     },
     "execution_count": 59,
     "metadata": {},
     "output_type": "execute_result"
    }
   ],
   "source": [
    "VIEW(strutturaChiesa())"
   ]
  },
  {
   "cell_type": "markdown",
   "metadata": {},
   "source": [
    "![chiesa dettaglio 1](../images/workshop03/chiesa1.png)\n",
    "![chiesa dettaglio 2](../images/workshop03/chiesa2.png)\n",
    "![chiesa dettaglio 3](../images/workshop03/chiesa3.png)"
   ]
  },
  {
   "cell_type": "code",
   "execution_count": null,
   "metadata": {},
   "outputs": [],
   "source": []
  }
 ],
 "metadata": {
  "kernelspec": {
   "display_name": "Python 3",
   "language": "python",
   "name": "python3"
  },
  "language_info": {
   "codemirror_mode": {
    "name": "ipython",
    "version": 2
   },
   "file_extension": ".py",
   "mimetype": "text/x-python",
   "name": "python",
   "nbconvert_exporter": "python",
   "pygments_lexer": "ipython2",
   "version": "2.7.14"
  }
 },
 "nbformat": 4,
 "nbformat_minor": 2
}
