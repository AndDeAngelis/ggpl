{
 "cells": [
  {
   "cell_type": "markdown",
   "metadata": {},
   "source": [
    "# Workshop 05"
   ]
  },
  {
   "cell_type": "markdown",
   "metadata": {},
   "source": [
    "## Realizzazione della planimetria di Villa Pisani"
   ]
  },
  {
   "cell_type": "markdown",
   "metadata": {},
   "source": [
    "![villa_pisani1](../images/workshop05/VillaPisani_1.jpg)\n",
    "![villa_pisani2](../images/workshop05/VillaPisani_2.jpg)"
   ]
  },
  {
   "cell_type": "code",
   "execution_count": null,
   "metadata": {},
   "outputs": [],
   "source": []
  },
  {
   "cell_type": "markdown",
   "metadata": {},
   "source": [
    "![planimetria](../images/workshop05/ground_floor_plan.gif)"
   ]
  },
  {
   "cell_type": "code",
   "execution_count": 3,
   "metadata": {},
   "outputs": [
    {
     "data": {
      "text/plain": [
       "<pyplasm.xgepy.Hpc; proxy of <Swig Object of type 'std::shared_ptr< Hpc > *' at 0x7f1c71ab3780> >"
      ]
     },
     "execution_count": 3,
     "metadata": {},
     "output_type": "execute_result"
    }
   ],
   "source": [
    "from pyplasm import *\n",
    "from math import *\n",
    "import csv\n",
    "\n",
    "# carico il file lines presente all'interno della cartella planimetry\n",
    "with open('./planimetry/planimetry.lines', 'rb') as file:\n",
    "    reader = csv.reader(file, delimiter=\",\")\n",
    "    mura = []\n",
    "    for row in reader:\n",
    "        row1 = math.floor(float(row[0])*10)/10\n",
    "        row2 = math.floor(float(row[1])*10)/10\n",
    "        row3 = math.floor(float(row[2])*10)/10\n",
    "        row4 = math.floor(float(row[3])*10)/10\n",
    "        mura.append(POLYLINE([[row1, row2], [row3, row4]]))\n",
    "\n",
    "VIEW(STRUCT(mura))"
   ]
  },
  {
   "cell_type": "markdown",
   "metadata": {},
   "source": [
    "![planimetria_1](../images/workshop05/plan_1.png)\n",
    "![planimetria_2](../images/workshop05/plan_2.png)"
   ]
  },
  {
   "cell_type": "code",
   "execution_count": 4,
   "metadata": {},
   "outputs": [
    {
     "data": {
      "text/plain": [
       "<pyplasm.xgepy.Hpc; proxy of <Swig Object of type 'std::shared_ptr< Hpc > *' at 0x7f1c897718a0> >"
      ]
     },
     "execution_count": 4,
     "metadata": {},
     "output_type": "execute_result"
    }
   ],
   "source": [
    "VIEW(MULTEXTRUDE(OFFSET([1,1])(STRUCT(mura)))(50))"
   ]
  },
  {
   "cell_type": "markdown",
   "metadata": {},
   "source": [
    "![planimetria_3](../images/workshop05/plan_3.png)\n",
    "![planimetria_4](../images/workshop05/plan_4.png)"
   ]
  },
  {
   "cell_type": "code",
   "execution_count": null,
   "metadata": {},
   "outputs": [],
   "source": [
    "VIEW(MULTEXTRUDE(OFFSET([1,1])(STRUCT(mura)))(10))"
   ]
  },
  {
   "cell_type": "markdown",
   "metadata": {},
   "source": [
    "![planimetria_5](../images/workshop05/plan_5.png)"
   ]
  }
 ],
 "metadata": {
  "kernelspec": {
   "display_name": "Python 2",
   "language": "python",
   "name": "python2"
  },
  "language_info": {
   "codemirror_mode": {
    "name": "ipython",
    "version": 2
   },
   "file_extension": ".py",
   "mimetype": "text/x-python",
   "name": "python",
   "nbconvert_exporter": "python",
   "pygments_lexer": "ipython2",
   "version": "2.7.14"
  }
 },
 "nbformat": 4,
 "nbformat_minor": 2
}
